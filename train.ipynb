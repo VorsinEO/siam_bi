{
 "cells": [
  {
   "cell_type": "code",
   "execution_count": 1,
   "id": "a10560b0-6fa7-4b81-a589-cb9866513446",
   "metadata": {},
   "outputs": [],
   "source": [
    "%load_ext autoreload\n",
    "%autoreload 2"
   ]
  },
  {
   "cell_type": "code",
   "execution_count": 2,
   "id": "5fd7cd27-fbe5-45f2-9d98-303b05adbfe0",
   "metadata": {},
   "outputs": [],
   "source": [
    "from dataloader import create_data_loader\n",
    "from model import TransformerModel, TransformerModel_ver2\n",
    "from train import train_model,save_predictions, calculate_custom_accuracy\n",
    "\n"
   ]
  },
  {
   "cell_type": "markdown",
   "id": "a856c049-a6eb-4552-befe-989084cb2ec0",
   "metadata": {},
   "source": [
    "# Train"
   ]
  },
  {
   "cell_type": "code",
   "execution_count": 3,
   "id": "49cd6255-491e-4503-af71-18b6fc54c236",
   "metadata": {},
   "outputs": [
    {
     "name": "stdout",
     "output_type": "stream",
     "text": [
      "Preprocessing time series data...\n"
     ]
    },
    {
     "name": "stderr",
     "output_type": "stream",
     "text": [
      "100%|██████████████████████████████████████████████████████████████████████████| 44809/44809 [00:07<00:00, 6145.12it/s]\n"
     ]
    },
    {
     "name": "stdout",
     "output_type": "stream",
     "text": [
      "Preprocessed 4000 time series\n"
     ]
    }
   ],
   "source": [
    "val_loader = create_data_loader(\n",
    "    csv_path='E:/DS/data/siam/bi/tgs/val_df_l1p_adv_1.csv',\n",
    "    parquet_path='E:/DS/data/siam/bi/train_trans/train_l1p_adv.parquet',\n",
    "    batch_size=64,\n",
    "    max_seq_len=1024,\n",
    "    num_workers=0,\n",
    "    shuffle = False,\n",
    ")"
   ]
  },
  {
   "cell_type": "code",
   "execution_count": 4,
   "id": "2d7b47cb-336d-4b53-ad1a-9b69a9728590",
   "metadata": {},
   "outputs": [
    {
     "name": "stdout",
     "output_type": "stream",
     "text": [
      "Preprocessing time series data...\n"
     ]
    },
    {
     "name": "stderr",
     "output_type": "stream",
     "text": [
      "100%|███████████████████████████████████████████████████████████████████████████| 44809/44809 [00:57<00:00, 773.41it/s]\n"
     ]
    },
    {
     "name": "stdout",
     "output_type": "stream",
     "text": [
      "Preprocessed 40809 time series\n"
     ]
    }
   ],
   "source": [
    "# Create data loaders\n",
    "train_loader = create_data_loader(\n",
    "    csv_path='E:/DS/data/siam/bi/tgs/train_df_l1p_adv_1.csv',\n",
    "    parquet_path='E:/DS/data/siam/bi/train_trans/train_l1p_adv.parquet',\n",
    "    batch_size=64,\n",
    "    max_seq_len=1024,\n",
    "    num_workers=4\n",
    ")\n",
    "\n",
    "\n",
    "\n",
    "\n"
   ]
  },
  {
   "cell_type": "code",
   "execution_count": 5,
   "id": "e7bc1b85-ea24-4150-80b7-e3a5a926a2ca",
   "metadata": {},
   "outputs": [],
   "source": [
    "# Create model feats 3\n",
    "model = TransformerModel_ver2(\n",
    "    input_dim=3,\n",
    "    d_model=256,\n",
    "    nhead=4,\n",
    "    num_encoder_layers=4,\n",
    "    dim_feedforward=512,\n",
    "    dropout=0.1,\n",
    "    max_seq_len = 1024\n",
    ")"
   ]
  },
  {
   "cell_type": "code",
   "execution_count": 5,
   "id": "28dd79de-8c0a-42bc-ab88-5f5eeeb801af",
   "metadata": {},
   "outputs": [],
   "source": [
    "# Create model\n",
    "model = TransformerModel_ver2(\n",
    "    input_dim=10,\n",
    "    d_model=256,\n",
    "    nhead=4,\n",
    "    num_encoder_layers=4,\n",
    "    dim_feedforward=512,\n",
    "    dropout=0.1,\n",
    "    max_seq_len = 1024\n",
    ")"
   ]
  },
  {
   "cell_type": "code",
   "execution_count": null,
   "id": "f7d19a7d-896b-44cc-aaae-29684c9e1306",
   "metadata": {},
   "outputs": [
    {
     "name": "stdout",
     "output_type": "stream",
     "text": [
      "\n",
      "Epoch 1/30\n"
     ]
    },
    {
     "name": "stderr",
     "output_type": "stream",
     "text": [
      "Training: 100%|████████████████| 638/638 [04:47<00:00,  2.22it/s, loss=0.614, binary_loss=0.472, regression_loss=0.141]\n",
      "Evaluating: 100%|██████████████████████████████████████████████████████████████████████| 63/63 [00:07<00:00,  9.00it/s]\n"
     ]
    },
    {
     "name": "stdout",
     "output_type": "stream",
     "text": [
      "Train Loss: 0.9761, Binary Loss: 0.4944, Regression Loss: 0.4818\n",
      "Val Loss: 0.5935, Binary Loss: 0.4485, Regression Loss: 0.1450, AUROC: 0.6593, MSE: 0.0454, Mean Accuracy: 0.6485\n",
      "New best model saved with validation mean accuracy: 0.6485\n",
      "\n",
      "Epoch 2/30\n"
     ]
    },
    {
     "name": "stderr",
     "output_type": "stream",
     "text": [
      "Training: 100%|███████████████| 638/638 [04:50<00:00,  2.19it/s, loss=0.435, binary_loss=0.354, regression_loss=0.0811]\n",
      "Evaluating: 100%|██████████████████████████████████████████████████████████████████████| 63/63 [00:06<00:00,  9.07it/s]\n"
     ]
    },
    {
     "name": "stdout",
     "output_type": "stream",
     "text": [
      "Train Loss: 0.5395, Binary Loss: 0.4182, Regression Loss: 0.1212\n",
      "Val Loss: 0.5068, Binary Loss: 0.3924, Regression Loss: 0.1143, AUROC: 0.7792, MSE: 0.0358, Mean Accuracy: 0.6546\n",
      "New best model saved with validation mean accuracy: 0.6546\n",
      "\n",
      "Epoch 3/30\n"
     ]
    },
    {
     "name": "stderr",
     "output_type": "stream",
     "text": [
      "Training: 100%|███████████████| 638/638 [04:59<00:00,  2.13it/s, loss=0.457, binary_loss=0.358, regression_loss=0.0996]\n",
      "Evaluating: 100%|██████████████████████████████████████████████████████████████████████| 63/63 [00:07<00:00,  8.99it/s]\n"
     ]
    },
    {
     "name": "stdout",
     "output_type": "stream",
     "text": [
      "Train Loss: 0.4820, Binary Loss: 0.3806, Regression Loss: 0.1014\n",
      "Val Loss: 0.4631, Binary Loss: 0.3667, Regression Loss: 0.0964, AUROC: 0.8268, MSE: 0.0301, Mean Accuracy: 0.6868\n",
      "New best model saved with validation mean accuracy: 0.6868\n",
      "\n",
      "Epoch 4/30\n"
     ]
    },
    {
     "name": "stderr",
     "output_type": "stream",
     "text": [
      "Training: 100%|███████████████| 638/638 [04:58<00:00,  2.13it/s, loss=0.488, binary_loss=0.403, regression_loss=0.0851]\n",
      "Evaluating: 100%|██████████████████████████████████████████████████████████████████████| 63/63 [00:07<00:00,  8.94it/s]\n"
     ]
    },
    {
     "name": "stdout",
     "output_type": "stream",
     "text": [
      "Train Loss: 0.4437, Binary Loss: 0.3560, Regression Loss: 0.0877\n",
      "Val Loss: 0.4506, Binary Loss: 0.3502, Regression Loss: 0.1004, AUROC: 0.8472, MSE: 0.0314, Mean Accuracy: 0.6955\n",
      "New best model saved with validation mean accuracy: 0.6955\n",
      "\n",
      "Epoch 5/30\n"
     ]
    },
    {
     "name": "stderr",
     "output_type": "stream",
     "text": [
      "Training: 100%|████████████████| 638/638 [04:58<00:00,  2.14it/s, loss=0.34, binary_loss=0.299, regression_loss=0.0406]\n",
      "Evaluating: 100%|██████████████████████████████████████████████████████████████████████| 63/63 [00:07<00:00,  9.00it/s]\n"
     ]
    },
    {
     "name": "stdout",
     "output_type": "stream",
     "text": [
      "Train Loss: 0.4210, Binary Loss: 0.3407, Regression Loss: 0.0803\n",
      "Val Loss: 0.4391, Binary Loss: 0.3340, Regression Loss: 0.1051, AUROC: 0.8612, MSE: 0.0328, Mean Accuracy: 0.6831\n",
      "\n",
      "Epoch 6/30\n"
     ]
    },
    {
     "name": "stderr",
     "output_type": "stream",
     "text": [
      "Training: 100%|███████████████| 638/638 [05:00<00:00,  2.12it/s, loss=0.419, binary_loss=0.366, regression_loss=0.0537]\n",
      "Evaluating: 100%|██████████████████████████████████████████████████████████████████████| 63/63 [00:06<00:00,  9.02it/s]\n"
     ]
    },
    {
     "name": "stdout",
     "output_type": "stream",
     "text": [
      "Train Loss: 0.4065, Binary Loss: 0.3311, Regression Loss: 0.0755\n",
      "Val Loss: 0.4182, Binary Loss: 0.3373, Regression Loss: 0.0809, AUROC: 0.8630, MSE: 0.0252, Mean Accuracy: 0.7074\n",
      "New best model saved with validation mean accuracy: 0.7074\n",
      "\n",
      "Epoch 7/30\n"
     ]
    },
    {
     "name": "stderr",
     "output_type": "stream",
     "text": [
      "Training: 100%|███████████████| 638/638 [05:02<00:00,  2.11it/s, loss=0.393, binary_loss=0.354, regression_loss=0.0391]\n",
      "Evaluating: 100%|██████████████████████████████████████████████████████████████████████| 63/63 [00:07<00:00,  8.92it/s]\n"
     ]
    },
    {
     "name": "stdout",
     "output_type": "stream",
     "text": [
      "Train Loss: 0.3966, Binary Loss: 0.3244, Regression Loss: 0.0722\n",
      "Val Loss: 0.3984, Binary Loss: 0.3244, Regression Loss: 0.0740, AUROC: 0.8723, MSE: 0.0231, Mean Accuracy: 0.7176\n",
      "New best model saved with validation mean accuracy: 0.7176\n",
      "\n",
      "Epoch 8/30\n"
     ]
    },
    {
     "name": "stderr",
     "output_type": "stream",
     "text": [
      "Training: 100%|█████████████████| 638/638 [05:02<00:00,  2.11it/s, loss=0.3, binary_loss=0.268, regression_loss=0.0318]\n",
      "Evaluating: 100%|██████████████████████████████████████████████████████████████████████| 63/63 [00:07<00:00,  8.99it/s]\n"
     ]
    },
    {
     "name": "stdout",
     "output_type": "stream",
     "text": [
      "Train Loss: 0.3881, Binary Loss: 0.3186, Regression Loss: 0.0695\n",
      "Val Loss: 0.3923, Binary Loss: 0.3173, Regression Loss: 0.0750, AUROC: 0.8782, MSE: 0.0234, Mean Accuracy: 0.7279\n",
      "New best model saved with validation mean accuracy: 0.7279\n",
      "\n",
      "Epoch 9/30\n"
     ]
    },
    {
     "name": "stderr",
     "output_type": "stream",
     "text": [
      "Training: 100%|█████████████████| 638/638 [05:03<00:00,  2.10it/s, loss=0.479, binary_loss=0.359, regression_loss=0.12]\n",
      "Evaluating: 100%|██████████████████████████████████████████████████████████████████████| 63/63 [00:06<00:00,  9.04it/s]\n"
     ]
    },
    {
     "name": "stdout",
     "output_type": "stream",
     "text": [
      "Train Loss: 0.3787, Binary Loss: 0.3135, Regression Loss: 0.0652\n",
      "Val Loss: 0.3990, Binary Loss: 0.3208, Regression Loss: 0.0782, AUROC: 0.8769, MSE: 0.0244, Mean Accuracy: 0.7195\n",
      "\n",
      "Epoch 10/30\n"
     ]
    },
    {
     "name": "stderr",
     "output_type": "stream",
     "text": [
      "Training: 100%|███████████████| 638/638 [05:04<00:00,  2.10it/s, loss=0.405, binary_loss=0.319, regression_loss=0.0857]\n",
      "Evaluating: 100%|██████████████████████████████████████████████████████████████████████| 63/63 [00:07<00:00,  8.98it/s]\n"
     ]
    },
    {
     "name": "stdout",
     "output_type": "stream",
     "text": [
      "Train Loss: 0.3720, Binary Loss: 0.3092, Regression Loss: 0.0627\n",
      "Val Loss: 0.3947, Binary Loss: 0.3196, Regression Loss: 0.0751, AUROC: 0.8792, MSE: 0.0235, Mean Accuracy: 0.7291\n",
      "New best model saved with validation mean accuracy: 0.7291\n",
      "\n",
      "Epoch 11/30\n"
     ]
    },
    {
     "name": "stderr",
     "output_type": "stream",
     "text": [
      "Training: 100%|████████████████| 638/638 [05:03<00:00,  2.10it/s, loss=0.451, binary_loss=0.284, regression_loss=0.167]\n",
      "Evaluating: 100%|██████████████████████████████████████████████████████████████████████| 63/63 [00:07<00:00,  8.99it/s]\n"
     ]
    },
    {
     "name": "stdout",
     "output_type": "stream",
     "text": [
      "Train Loss: 0.3649, Binary Loss: 0.3053, Regression Loss: 0.0596\n",
      "Val Loss: 0.3900, Binary Loss: 0.3112, Regression Loss: 0.0788, AUROC: 0.8850, MSE: 0.0246, Mean Accuracy: 0.7326\n",
      "New best model saved with validation mean accuracy: 0.7326\n",
      "\n",
      "Epoch 12/30\n"
     ]
    },
    {
     "name": "stderr",
     "output_type": "stream",
     "text": [
      "Training: 100%|████████████████| 638/638 [05:03<00:00,  2.11it/s, loss=0.391, binary_loss=0.31, regression_loss=0.0807]\n",
      "Evaluating: 100%|██████████████████████████████████████████████████████████████████████| 63/63 [00:06<00:00,  9.10it/s]\n"
     ]
    },
    {
     "name": "stdout",
     "output_type": "stream",
     "text": [
      "Train Loss: 0.3575, Binary Loss: 0.3013, Regression Loss: 0.0562\n",
      "Val Loss: 0.3873, Binary Loss: 0.3153, Regression Loss: 0.0720, AUROC: 0.8820, MSE: 0.0225, Mean Accuracy: 0.7151\n",
      "\n",
      "Epoch 13/30\n"
     ]
    },
    {
     "name": "stderr",
     "output_type": "stream",
     "text": [
      "Training: 100%|███████████████| 638/638 [05:06<00:00,  2.08it/s, loss=0.279, binary_loss=0.248, regression_loss=0.0307]\n",
      "Evaluating: 100%|██████████████████████████████████████████████████████████████████████| 63/63 [00:07<00:00,  8.97it/s]\n"
     ]
    },
    {
     "name": "stdout",
     "output_type": "stream",
     "text": [
      "Train Loss: 0.3511, Binary Loss: 0.2973, Regression Loss: 0.0538\n",
      "Val Loss: 0.3908, Binary Loss: 0.3098, Regression Loss: 0.0811, AUROC: 0.8865, MSE: 0.0253, Mean Accuracy: 0.7292\n",
      "\n",
      "Epoch 14/30\n"
     ]
    },
    {
     "name": "stderr",
     "output_type": "stream",
     "text": [
      "Training: 100%|███████████████| 638/638 [05:07<00:00,  2.08it/s, loss=0.335, binary_loss=0.307, regression_loss=0.0273]\n",
      "Evaluating: 100%|██████████████████████████████████████████████████████████████████████| 63/63 [00:07<00:00,  8.87it/s]\n"
     ]
    },
    {
     "name": "stdout",
     "output_type": "stream",
     "text": [
      "Train Loss: 0.3430, Binary Loss: 0.2933, Regression Loss: 0.0497\n",
      "Val Loss: 0.3808, Binary Loss: 0.3055, Regression Loss: 0.0753, AUROC: 0.8909, MSE: 0.0235, Mean Accuracy: 0.7334\n",
      "New best model saved with validation mean accuracy: 0.7334\n",
      "\n",
      "Epoch 15/30\n"
     ]
    },
    {
     "name": "stderr",
     "output_type": "stream",
     "text": [
      "Training: 100%|████████████████| 638/638 [05:07<00:00,  2.07it/s, loss=0.391, binary_loss=0.279, regression_loss=0.113]\n",
      "Evaluating: 100%|██████████████████████████████████████████████████████████████████████| 63/63 [00:07<00:00,  8.98it/s]\n"
     ]
    },
    {
     "name": "stdout",
     "output_type": "stream",
     "text": [
      "Train Loss: 0.3372, Binary Loss: 0.2893, Regression Loss: 0.0479\n",
      "Val Loss: 0.3804, Binary Loss: 0.3054, Regression Loss: 0.0751, AUROC: 0.8905, MSE: 0.0234, Mean Accuracy: 0.7392\n",
      "New best model saved with validation mean accuracy: 0.7392\n",
      "\n",
      "Epoch 16/30\n"
     ]
    },
    {
     "name": "stderr",
     "output_type": "stream",
     "text": [
      "Training: 100%|███████████████| 638/638 [05:07<00:00,  2.08it/s, loss=0.258, binary_loss=0.215, regression_loss=0.0426]\n",
      "Evaluating: 100%|██████████████████████████████████████████████████████████████████████| 63/63 [00:06<00:00,  9.05it/s]\n"
     ]
    },
    {
     "name": "stdout",
     "output_type": "stream",
     "text": [
      "Train Loss: 0.3294, Binary Loss: 0.2848, Regression Loss: 0.0445\n",
      "Val Loss: 0.3788, Binary Loss: 0.3057, Regression Loss: 0.0731, AUROC: 0.8911, MSE: 0.0229, Mean Accuracy: 0.7377\n",
      "\n",
      "Epoch 17/30\n"
     ]
    },
    {
     "name": "stderr",
     "output_type": "stream",
     "text": [
      "Training: 100%|███████████████| 638/638 [05:09<00:00,  2.06it/s, loss=0.306, binary_loss=0.291, regression_loss=0.0154]\n",
      "Evaluating: 100%|██████████████████████████████████████████████████████████████████████| 63/63 [00:07<00:00,  9.00it/s]\n"
     ]
    },
    {
     "name": "stdout",
     "output_type": "stream",
     "text": [
      "Train Loss: 0.3223, Binary Loss: 0.2809, Regression Loss: 0.0414\n",
      "Val Loss: 0.3814, Binary Loss: 0.3047, Regression Loss: 0.0767, AUROC: 0.8910, MSE: 0.0240, Mean Accuracy: 0.7359\n",
      "\n",
      "Epoch 18/30\n"
     ]
    },
    {
     "name": "stderr",
     "output_type": "stream",
     "text": [
      "Training: 100%|███████████████| 638/638 [05:08<00:00,  2.07it/s, loss=0.229, binary_loss=0.209, regression_loss=0.0201]\n",
      "Evaluating: 100%|██████████████████████████████████████████████████████████████████████| 63/63 [00:07<00:00,  8.94it/s]\n"
     ]
    },
    {
     "name": "stdout",
     "output_type": "stream",
     "text": [
      "Train Loss: 0.3149, Binary Loss: 0.2763, Regression Loss: 0.0385\n",
      "Val Loss: 0.3710, Binary Loss: 0.3046, Regression Loss: 0.0664, AUROC: 0.8921, MSE: 0.0207, Mean Accuracy: 0.7461\n",
      "New best model saved with validation mean accuracy: 0.7461\n",
      "\n",
      "Epoch 19/30\n"
     ]
    },
    {
     "name": "stderr",
     "output_type": "stream",
     "text": [
      "Training: 100%|███████████████| 638/638 [05:07<00:00,  2.07it/s, loss=0.329, binary_loss=0.265, regression_loss=0.0636]\n",
      "Evaluating: 100%|██████████████████████████████████████████████████████████████████████| 63/63 [00:06<00:00,  9.08it/s]\n"
     ]
    },
    {
     "name": "stdout",
     "output_type": "stream",
     "text": [
      "Train Loss: 0.3080, Binary Loss: 0.2723, Regression Loss: 0.0356\n",
      "Val Loss: 0.3737, Binary Loss: 0.3052, Regression Loss: 0.0684, AUROC: 0.8920, MSE: 0.0214, Mean Accuracy: 0.7409\n",
      "\n",
      "Epoch 20/30\n"
     ]
    },
    {
     "name": "stderr",
     "output_type": "stream",
     "text": [
      "Training: 100%|█████████████████| 638/638 [05:05<00:00,  2.09it/s, loss=0.255, binary_loss=0.215, regression_loss=0.04]\n",
      "Evaluating: 100%|██████████████████████████████████████████████████████████████████████| 63/63 [00:06<00:00,  9.04it/s]\n"
     ]
    },
    {
     "name": "stdout",
     "output_type": "stream",
     "text": [
      "Train Loss: 0.3014, Binary Loss: 0.2679, Regression Loss: 0.0335\n",
      "Val Loss: 0.3728, Binary Loss: 0.3033, Regression Loss: 0.0695, AUROC: 0.8934, MSE: 0.0217, Mean Accuracy: 0.7441\n",
      "\n",
      "Epoch 21/30\n"
     ]
    },
    {
     "name": "stderr",
     "output_type": "stream",
     "text": [
      "Training: 100%|████████████████| 638/638 [05:10<00:00,  2.06it/s, loss=0.367, binary_loss=0.29, regression_loss=0.0775]\n",
      "Evaluating: 100%|██████████████████████████████████████████████████████████████████████| 63/63 [00:06<00:00,  9.06it/s]\n"
     ]
    },
    {
     "name": "stdout",
     "output_type": "stream",
     "text": [
      "Train Loss: 0.2937, Binary Loss: 0.2628, Regression Loss: 0.0310\n",
      "Val Loss: 0.3783, Binary Loss: 0.3064, Regression Loss: 0.0719, AUROC: 0.8920, MSE: 0.0225, Mean Accuracy: 0.7445\n",
      "\n",
      "Epoch 22/30\n"
     ]
    },
    {
     "name": "stderr",
     "output_type": "stream",
     "text": [
      "Training: 100%|█████████████████| 638/638 [05:09<00:00,  2.06it/s, loss=0.246, binary_loss=0.22, regression_loss=0.026]\n",
      "Evaluating: 100%|██████████████████████████████████████████████████████████████████████| 63/63 [00:07<00:00,  8.95it/s]\n"
     ]
    },
    {
     "name": "stdout",
     "output_type": "stream",
     "text": [
      "Train Loss: 0.2874, Binary Loss: 0.2589, Regression Loss: 0.0285\n",
      "Val Loss: 0.3784, Binary Loss: 0.3068, Regression Loss: 0.0717, AUROC: 0.8927, MSE: 0.0224, Mean Accuracy: 0.7415\n",
      "\n",
      "Epoch 23/30\n"
     ]
    },
    {
     "name": "stderr",
     "output_type": "stream",
     "text": [
      "Training: 100%|███████████████| 638/638 [05:15<00:00,  2.02it/s, loss=0.238, binary_loss=0.216, regression_loss=0.0213]\n",
      "Evaluating: 100%|██████████████████████████████████████████████████████████████████████| 63/63 [00:07<00:00,  8.69it/s]\n"
     ]
    },
    {
     "name": "stdout",
     "output_type": "stream",
     "text": [
      "Train Loss: 0.2811, Binary Loss: 0.2543, Regression Loss: 0.0267\n",
      "Val Loss: 0.3805, Binary Loss: 0.3077, Regression Loss: 0.0728, AUROC: 0.8929, MSE: 0.0227, Mean Accuracy: 0.7451\n",
      "\n",
      "Epoch 24/30\n"
     ]
    },
    {
     "name": "stderr",
     "output_type": "stream",
     "text": [
      "Training: 100%|███████████████| 638/638 [05:18<00:00,  2.01it/s, loss=0.281, binary_loss=0.261, regression_loss=0.0198]\n",
      "Evaluating: 100%|██████████████████████████████████████████████████████████████████████| 63/63 [00:07<00:00,  8.59it/s]\n"
     ]
    },
    {
     "name": "stdout",
     "output_type": "stream",
     "text": [
      "Train Loss: 0.2757, Binary Loss: 0.2505, Regression Loss: 0.0252\n",
      "Val Loss: 0.3862, Binary Loss: 0.3128, Regression Loss: 0.0734, AUROC: 0.8901, MSE: 0.0229, Mean Accuracy: 0.7438\n",
      "\n",
      "Epoch 25/30\n"
     ]
    },
    {
     "name": "stderr",
     "output_type": "stream",
     "text": [
      "Training: 100%|████████████████| 638/638 [05:17<00:00,  2.01it/s, loss=0.374, binary_loss=0.255, regression_loss=0.119]\n",
      "Evaluating: 100%|██████████████████████████████████████████████████████████████████████| 63/63 [00:07<00:00,  8.65it/s]\n"
     ]
    },
    {
     "name": "stdout",
     "output_type": "stream",
     "text": [
      "Train Loss: 0.2712, Binary Loss: 0.2472, Regression Loss: 0.0240\n",
      "Val Loss: 0.3852, Binary Loss: 0.3118, Regression Loss: 0.0734, AUROC: 0.8904, MSE: 0.0229, Mean Accuracy: 0.7429\n",
      "\n",
      "Epoch 26/30\n"
     ]
    },
    {
     "name": "stderr",
     "output_type": "stream",
     "text": [
      "Training: 100%|███████████████| 638/638 [05:16<00:00,  2.02it/s, loss=0.328, binary_loss=0.302, regression_loss=0.0255]\n",
      "Evaluating: 100%|██████████████████████████████████████████████████████████████████████| 63/63 [00:06<00:00,  9.02it/s]\n"
     ]
    },
    {
     "name": "stdout",
     "output_type": "stream",
     "text": [
      "Train Loss: 0.2672, Binary Loss: 0.2443, Regression Loss: 0.0229\n",
      "Val Loss: 0.3843, Binary Loss: 0.3124, Regression Loss: 0.0720, AUROC: 0.8910, MSE: 0.0225, Mean Accuracy: 0.7466\n",
      "New best model saved with validation mean accuracy: 0.7466\n",
      "\n",
      "Epoch 27/30\n"
     ]
    },
    {
     "name": "stderr",
     "output_type": "stream",
     "text": [
      "Training: 100%|████████████████| 638/638 [05:17<00:00,  2.01it/s, loss=0.258, binary_loss=0.216, regression_loss=0.042]\n",
      "Evaluating: 100%|██████████████████████████████████████████████████████████████████████| 63/63 [00:07<00:00,  8.97it/s]\n"
     ]
    },
    {
     "name": "stdout",
     "output_type": "stream",
     "text": [
      "Train Loss: 0.2639, Binary Loss: 0.2419, Regression Loss: 0.0221\n",
      "Val Loss: 0.3859, Binary Loss: 0.3140, Regression Loss: 0.0719, AUROC: 0.8902, MSE: 0.0224, Mean Accuracy: 0.7432\n",
      "\n",
      "Epoch 28/30\n"
     ]
    },
    {
     "name": "stderr",
     "output_type": "stream",
     "text": [
      "Training:   0%|                                                                                | 0/638 [00:00<?, ?it/s]"
     ]
    }
   ],
   "source": [
    "# Train model\n",
    "trained_model, history = train_model(\n",
    "    model=model,\n",
    "    train_loader=train_loader,\n",
    "    val_loader=val_loader,\n",
    "    num_epochs=30,\n",
    "    learning_rate=3e-4,\n",
    "    device='cuda',\n",
    "    binary_loss_weight=1.0,\n",
    "    regression_loss_weight=1.0,\n",
    "    pos_weight=1.0\n",
    ")"
   ]
  },
  {
   "cell_type": "code",
   "execution_count": 7,
   "id": "8d3391cc-b89f-4c0d-9b9e-3752953ef9f7",
   "metadata": {},
   "outputs": [],
   "source": [
    "import torch"
   ]
  },
  {
   "cell_type": "code",
   "execution_count": 8,
   "id": "4e415366-6131-425f-b932-6c4564507c8c",
   "metadata": {},
   "outputs": [],
   "source": [
    "torch.save(trained_model.state_dict(), 'E:/DS/data/siam/weights/ts_10f_l1p_1.pth')"
   ]
  },
  {
   "cell_type": "code",
   "execution_count": 9,
   "id": "9644d1fc-b6a7-4a8b-b063-3b91dba70135",
   "metadata": {},
   "outputs": [
    {
     "name": "stdout",
     "output_type": "stream",
     "text": [
      "Preprocessing time series data...\n"
     ]
    },
    {
     "name": "stderr",
     "output_type": "stream",
     "text": [
      "100%|██████████████████████████████████████████████████████████████████████████████| 500/500 [00:00<00:00, 2525.25it/s]\n"
     ]
    },
    {
     "name": "stdout",
     "output_type": "stream",
     "text": [
      "Preprocessed 500 time series\n"
     ]
    }
   ],
   "source": [
    "test_loader  = create_data_loader(\n",
    "    csv_path=None,\n",
    "    parquet_path='E:/DS/data/siam/bi/test_trans/test_l1p_adv.parquet',\n",
    "    batch_size=64,\n",
    "    max_seq_len=1024,\n",
    "    num_workers=0\n",
    ")"
   ]
  },
  {
   "cell_type": "raw",
   "id": "cb0678bd-9c93-4510-865b-32f92e97d0b3",
   "metadata": {},
   "source": [
    "#065\n",
    "Train Loss: 0.3618, Binary Loss: 0.2958, Regression Loss: 0.0659\n",
    "Val Loss: 0.4191, Binary Loss: 0.3285, Regression Loss: 0.0906, AUROC: 0.8697, MSE: 0.0291, Mean Accuracy: 0.6739\n",
    "New best model saved with validation mean accuracy: 0.6739"
   ]
  },
  {
   "cell_type": "code",
   "execution_count": 10,
   "id": "cc48e4d1-2b32-4fe2-84b2-5c0aec808baa",
   "metadata": {},
   "outputs": [
    {
     "name": "stderr",
     "output_type": "stream",
     "text": [
      "Running inference: 100%|█████████████████████████████████████████████████████████████████| 8/8 [00:01<00:00,  7.37it/s]"
     ]
    },
    {
     "name": "stdout",
     "output_type": "stream",
     "text": [
      "Predictions saved to E:/DS/data/siam/bi/inference/trans_enc_v1/inf_l1p_ts3_v1.csv\n"
     ]
    },
    {
     "name": "stderr",
     "output_type": "stream",
     "text": [
      "\n"
     ]
    }
   ],
   "source": [
    "save_predictions(trained_model,test_loader,\n",
    "                'E:/DS/data/siam/bi/inference/trans_enc_v1/inf_l1p_ts10_v1.csv',\n",
    "                'cuda',\n",
    "                binary_threshold=0.5)"
   ]
  },
  {
   "cell_type": "markdown",
   "id": "191d4f4e-4a64-4efd-a455-c210606e30d1",
   "metadata": {},
   "source": [
    "# Prep data for public"
   ]
  },
  {
   "cell_type": "code",
   "execution_count": 11,
   "id": "70dce8be-85b1-4330-9a7e-2d36945980e4",
   "metadata": {},
   "outputs": [],
   "source": [
    "import numpy as np\n",
    "import pandas as pd"
   ]
  },
  {
   "cell_type": "code",
   "execution_count": 12,
   "id": "fa2c1bdc-c22a-45b8-b820-00e806cf7719",
   "metadata": {},
   "outputs": [],
   "source": [
    "ch=pd.read_csv('E:/DS/data/siam/bi/inference/trans_enc_v1/inf_l1p_ts10_v1.csv')"
   ]
  },
  {
   "cell_type": "code",
   "execution_count": 13,
   "id": "5b0c2383-7d2d-4ce6-b9e0-b9c9ac9492af",
   "metadata": {},
   "outputs": [],
   "source": [
    "keep_cols = ['file_name',\n",
    "       'binary_Некачественное ГДИС', \n",
    "       'binary_Влияние ствола скважины', \n",
    "       'binary_Радиальный режим',\n",
    "       'binary_Линейный режим', \n",
    "       'binary_Билинейный режим', \n",
    "       'binary_Сферический режим', \n",
    "       'binary_Граница постоянного давления',\n",
    "       'binary_Граница непроницаемый разлом',\n",
    "       'regression_Влияние ствола скважины_details',\n",
    "       'regression_Радиальный режим_details',\n",
    "       'regression_Линейный режим_details',\n",
    "       'regression_Билинейный режим_details',\n",
    "       'regression_Сферический режим_details',\n",
    "       'regression_Граница постоянного давления_details',\n",
    "       'regression_Граница непроницаемый разлом_details']"
   ]
  },
  {
   "cell_type": "code",
   "execution_count": 14,
   "id": "16d37fe9-8978-4edd-88e2-b555dfdb934c",
   "metadata": {},
   "outputs": [],
   "source": [
    "import pickle\n",
    "\n",
    "def load_scaler(file_path):\n",
    "    \"\"\"\n",
    "    Load an sklearn scaler from a pickle file.\n",
    "\n",
    "    Args:\n",
    "        file_path (str): Path to the scaler file.\n",
    "\n",
    "    Returns:\n",
    "        scaler: The loaded scaler object.\n",
    "    \"\"\"\n",
    "    try:\n",
    "        with open(file_path, 'rb') as file:\n",
    "            scaler = pickle.load(file)\n",
    "        print(f\"Scaler loaded successfully from {file_path}\")\n",
    "        return scaler\n",
    "    except Exception as e:\n",
    "        print(f\"Error loading scaler: {e}\")\n",
    "        return None"
   ]
  },
  {
   "cell_type": "code",
   "execution_count": 15,
   "id": "f576f0fa-3435-428c-b265-8d91f67e85ea",
   "metadata": {},
   "outputs": [],
   "source": [
    "def apply_trans_reg(ch, path_to_scalers='E:/DS/data/siam/scalers/tg_scalers_r/tg_r_'):\n",
    "    for i, col in enumerate(['regression_Влияние ствола скважины_details',\n",
    "           'regression_Радиальный режим_details',\n",
    "           'regression_Линейный режим_details',\n",
    "           'regression_Билинейный режим_details',\n",
    "           'regression_Сферический режим_details',\n",
    "           'regression_Граница постоянного давления_details',\n",
    "           'regression_Граница непроницаемый разлом_details']):\n",
    "        print(col)\n",
    "        curr_path = path_to_scalers+f'{i}.pkl'\n",
    "        r_scaler = load_scaler(curr_path)\n",
    "        \n",
    "        data = ch[[col]]\n",
    "        #print(col, data.shape)\n",
    "        data = r_scaler.inverse_transform(data)\n",
    "        #print(col, data.shape)\n",
    "        ch[col]=data\n",
    "    return ch"
   ]
  },
  {
   "cell_type": "code",
   "execution_count": 17,
   "id": "95e4e464-ac95-4bbc-a333-4e4966045119",
   "metadata": {},
   "outputs": [
    {
     "name": "stdout",
     "output_type": "stream",
     "text": [
      "regression_Влияние ствола скважины_details\n",
      "Scaler loaded successfully from E:/DS/data/siam/scalers/tg_scalers_r/tg_r_0.pkl\n",
      "regression_Радиальный режим_details\n",
      "Scaler loaded successfully from E:/DS/data/siam/scalers/tg_scalers_r/tg_r_1.pkl\n",
      "regression_Линейный режим_details\n",
      "Scaler loaded successfully from E:/DS/data/siam/scalers/tg_scalers_r/tg_r_2.pkl\n",
      "regression_Билинейный режим_details\n",
      "Scaler loaded successfully from E:/DS/data/siam/scalers/tg_scalers_r/tg_r_3.pkl\n",
      "regression_Сферический режим_details\n",
      "Scaler loaded successfully from E:/DS/data/siam/scalers/tg_scalers_r/tg_r_4.pkl\n",
      "regression_Граница постоянного давления_details\n",
      "Scaler loaded successfully from E:/DS/data/siam/scalers/tg_scalers_r/tg_r_5.pkl\n",
      "regression_Граница непроницаемый разлом_details\n",
      "Scaler loaded successfully from E:/DS/data/siam/scalers/tg_scalers_r/tg_r_6.pkl\n"
     ]
    }
   ],
   "source": [
    "ch = apply_trans_reg(ch, path_to_scalers='E:/DS/data/siam/scalers/tg_scalers_r/tg_r_')"
   ]
  },
  {
   "cell_type": "code",
   "execution_count": 21,
   "id": "1d9e47d3-968c-466f-97db-86cd271eb78a",
   "metadata": {},
   "outputs": [],
   "source": [
    "ch[columns_r_2] = np.expm1(ch[columns_r_2])"
   ]
  },
  {
   "cell_type": "code",
   "execution_count": 22,
   "id": "e68bc784-c174-4e1a-a203-2684568d8362",
   "metadata": {},
   "outputs": [],
   "source": [
    "ch = ch[keep_cols]"
   ]
  },
  {
   "cell_type": "code",
   "execution_count": 17,
   "id": "e07946be-e63f-4fea-96ae-b25479c07f3b",
   "metadata": {},
   "outputs": [],
   "source": [
    "df = pd.read_csv('E:/DS/data/siam/bi/markup_train.csv')"
   ]
  },
  {
   "cell_type": "code",
   "execution_count": 18,
   "id": "079c0329-bd76-45d4-9460-cbebfb0896cd",
   "metadata": {},
   "outputs": [
    {
     "data": {
      "text/html": [
       "<div>\n",
       "<style scoped>\n",
       "    .dataframe tbody tr th:only-of-type {\n",
       "        vertical-align: middle;\n",
       "    }\n",
       "\n",
       "    .dataframe tbody tr th {\n",
       "        vertical-align: top;\n",
       "    }\n",
       "\n",
       "    .dataframe thead th {\n",
       "        text-align: right;\n",
       "    }\n",
       "</style>\n",
       "<table border=\"1\" class=\"dataframe\">\n",
       "  <thead>\n",
       "    <tr style=\"text-align: right;\">\n",
       "      <th></th>\n",
       "      <th>Некачественное ГДИС</th>\n",
       "      <th>Влияние ствола скважины</th>\n",
       "      <th>Радиальный режим</th>\n",
       "      <th>Линейный режим</th>\n",
       "      <th>Билинейный режим</th>\n",
       "      <th>Сферический режим</th>\n",
       "      <th>Граница постоянного давления</th>\n",
       "      <th>Граница непроницаемый разлом</th>\n",
       "      <th>Влияние ствола скважины_details</th>\n",
       "      <th>Радиальный режим_details</th>\n",
       "      <th>Линейный режим_details</th>\n",
       "      <th>Билинейный режим_details</th>\n",
       "      <th>Сферический режим_details</th>\n",
       "      <th>Граница постоянного давления_details</th>\n",
       "      <th>Граница непроницаемый разлом_details</th>\n",
       "    </tr>\n",
       "  </thead>\n",
       "  <tbody>\n",
       "    <tr>\n",
       "      <th>count</th>\n",
       "      <td>45141.000000</td>\n",
       "      <td>45141.000000</td>\n",
       "      <td>45141.000000</td>\n",
       "      <td>45141.000000</td>\n",
       "      <td>45141.000000</td>\n",
       "      <td>45141.000000</td>\n",
       "      <td>45141.000000</td>\n",
       "      <td>45141.000000</td>\n",
       "      <td>35558.000000</td>\n",
       "      <td>25855.000000</td>\n",
       "      <td>12211.000000</td>\n",
       "      <td>12086.000000</td>\n",
       "      <td>5764.000000</td>\n",
       "      <td>4874.000000</td>\n",
       "      <td>4265.000000</td>\n",
       "    </tr>\n",
       "    <tr>\n",
       "      <th>mean</th>\n",
       "      <td>0.160984</td>\n",
       "      <td>0.787710</td>\n",
       "      <td>0.572761</td>\n",
       "      <td>0.270508</td>\n",
       "      <td>0.267739</td>\n",
       "      <td>0.127689</td>\n",
       "      <td>0.107973</td>\n",
       "      <td>0.094482</td>\n",
       "      <td>1.719234</td>\n",
       "      <td>1.140486</td>\n",
       "      <td>0.605509</td>\n",
       "      <td>0.934330</td>\n",
       "      <td>1.292040</td>\n",
       "      <td>144.019966</td>\n",
       "      <td>160.928583</td>\n",
       "    </tr>\n",
       "    <tr>\n",
       "      <th>std</th>\n",
       "      <td>0.367521</td>\n",
       "      <td>0.408934</td>\n",
       "      <td>0.494683</td>\n",
       "      <td>0.444227</td>\n",
       "      <td>0.442786</td>\n",
       "      <td>0.333747</td>\n",
       "      <td>0.310349</td>\n",
       "      <td>0.292501</td>\n",
       "      <td>1.537100</td>\n",
       "      <td>1.155191</td>\n",
       "      <td>1.012616</td>\n",
       "      <td>1.166539</td>\n",
       "      <td>0.982978</td>\n",
       "      <td>782.593841</td>\n",
       "      <td>339.370082</td>\n",
       "    </tr>\n",
       "    <tr>\n",
       "      <th>min</th>\n",
       "      <td>0.000000</td>\n",
       "      <td>0.000000</td>\n",
       "      <td>0.000000</td>\n",
       "      <td>0.000000</td>\n",
       "      <td>0.000000</td>\n",
       "      <td>0.000000</td>\n",
       "      <td>0.000000</td>\n",
       "      <td>0.000000</td>\n",
       "      <td>-3.843521</td>\n",
       "      <td>-3.707246</td>\n",
       "      <td>-4.109357</td>\n",
       "      <td>-3.332898</td>\n",
       "      <td>-5.164659</td>\n",
       "      <td>0.006653</td>\n",
       "      <td>0.010753</td>\n",
       "    </tr>\n",
       "    <tr>\n",
       "      <th>25%</th>\n",
       "      <td>0.000000</td>\n",
       "      <td>1.000000</td>\n",
       "      <td>0.000000</td>\n",
       "      <td>0.000000</td>\n",
       "      <td>0.000000</td>\n",
       "      <td>0.000000</td>\n",
       "      <td>0.000000</td>\n",
       "      <td>0.000000</td>\n",
       "      <td>0.914535</td>\n",
       "      <td>0.504870</td>\n",
       "      <td>0.028459</td>\n",
       "      <td>0.327374</td>\n",
       "      <td>0.743594</td>\n",
       "      <td>18.335495</td>\n",
       "      <td>29.301152</td>\n",
       "    </tr>\n",
       "    <tr>\n",
       "      <th>50%</th>\n",
       "      <td>0.000000</td>\n",
       "      <td>1.000000</td>\n",
       "      <td>1.000000</td>\n",
       "      <td>0.000000</td>\n",
       "      <td>0.000000</td>\n",
       "      <td>0.000000</td>\n",
       "      <td>0.000000</td>\n",
       "      <td>0.000000</td>\n",
       "      <td>1.589366</td>\n",
       "      <td>0.959171</td>\n",
       "      <td>0.516372</td>\n",
       "      <td>0.720093</td>\n",
       "      <td>1.296814</td>\n",
       "      <td>55.182021</td>\n",
       "      <td>75.822331</td>\n",
       "    </tr>\n",
       "    <tr>\n",
       "      <th>75%</th>\n",
       "      <td>0.000000</td>\n",
       "      <td>1.000000</td>\n",
       "      <td>1.000000</td>\n",
       "      <td>1.000000</td>\n",
       "      <td>1.000000</td>\n",
       "      <td>0.000000</td>\n",
       "      <td>0.000000</td>\n",
       "      <td>0.000000</td>\n",
       "      <td>2.256645</td>\n",
       "      <td>1.422883</td>\n",
       "      <td>1.024682</td>\n",
       "      <td>1.130444</td>\n",
       "      <td>1.808614</td>\n",
       "      <td>134.488126</td>\n",
       "      <td>182.395620</td>\n",
       "    </tr>\n",
       "    <tr>\n",
       "      <th>max</th>\n",
       "      <td>1.000000</td>\n",
       "      <td>1.000000</td>\n",
       "      <td>1.000000</td>\n",
       "      <td>1.000000</td>\n",
       "      <td>1.000000</td>\n",
       "      <td>1.000000</td>\n",
       "      <td>1.000000</td>\n",
       "      <td>1.000000</td>\n",
       "      <td>31.777765</td>\n",
       "      <td>6.408605</td>\n",
       "      <td>29.027806</td>\n",
       "      <td>29.129381</td>\n",
       "      <td>6.631359</td>\n",
       "      <td>51035.492870</td>\n",
       "      <td>11595.502940</td>\n",
       "    </tr>\n",
       "  </tbody>\n",
       "</table>\n",
       "</div>"
      ],
      "text/plain": [
       "       Некачественное ГДИС  Влияние ствола скважины  Радиальный режим  \\\n",
       "count         45141.000000             45141.000000      45141.000000   \n",
       "mean              0.160984                 0.787710          0.572761   \n",
       "std               0.367521                 0.408934          0.494683   \n",
       "min               0.000000                 0.000000          0.000000   \n",
       "25%               0.000000                 1.000000          0.000000   \n",
       "50%               0.000000                 1.000000          1.000000   \n",
       "75%               0.000000                 1.000000          1.000000   \n",
       "max               1.000000                 1.000000          1.000000   \n",
       "\n",
       "       Линейный режим  Билинейный режим  Сферический режим  \\\n",
       "count    45141.000000      45141.000000       45141.000000   \n",
       "mean         0.270508          0.267739           0.127689   \n",
       "std          0.444227          0.442786           0.333747   \n",
       "min          0.000000          0.000000           0.000000   \n",
       "25%          0.000000          0.000000           0.000000   \n",
       "50%          0.000000          0.000000           0.000000   \n",
       "75%          1.000000          1.000000           0.000000   \n",
       "max          1.000000          1.000000           1.000000   \n",
       "\n",
       "       Граница постоянного давления  Граница непроницаемый разлом  \\\n",
       "count                  45141.000000                  45141.000000   \n",
       "mean                       0.107973                      0.094482   \n",
       "std                        0.310349                      0.292501   \n",
       "min                        0.000000                      0.000000   \n",
       "25%                        0.000000                      0.000000   \n",
       "50%                        0.000000                      0.000000   \n",
       "75%                        0.000000                      0.000000   \n",
       "max                        1.000000                      1.000000   \n",
       "\n",
       "       Влияние ствола скважины_details  Радиальный режим_details  \\\n",
       "count                     35558.000000              25855.000000   \n",
       "mean                          1.719234                  1.140486   \n",
       "std                           1.537100                  1.155191   \n",
       "min                          -3.843521                 -3.707246   \n",
       "25%                           0.914535                  0.504870   \n",
       "50%                           1.589366                  0.959171   \n",
       "75%                           2.256645                  1.422883   \n",
       "max                          31.777765                  6.408605   \n",
       "\n",
       "       Линейный режим_details  Билинейный режим_details  \\\n",
       "count            12211.000000              12086.000000   \n",
       "mean                 0.605509                  0.934330   \n",
       "std                  1.012616                  1.166539   \n",
       "min                 -4.109357                 -3.332898   \n",
       "25%                  0.028459                  0.327374   \n",
       "50%                  0.516372                  0.720093   \n",
       "75%                  1.024682                  1.130444   \n",
       "max                 29.027806                 29.129381   \n",
       "\n",
       "       Сферический режим_details  Граница постоянного давления_details  \\\n",
       "count                5764.000000                           4874.000000   \n",
       "mean                    1.292040                            144.019966   \n",
       "std                     0.982978                            782.593841   \n",
       "min                    -5.164659                              0.006653   \n",
       "25%                     0.743594                             18.335495   \n",
       "50%                     1.296814                             55.182021   \n",
       "75%                     1.808614                            134.488126   \n",
       "max                     6.631359                          51035.492870   \n",
       "\n",
       "       Граница непроницаемый разлом_details  \n",
       "count                           4265.000000  \n",
       "mean                             160.928583  \n",
       "std                              339.370082  \n",
       "min                                0.010753  \n",
       "25%                               29.301152  \n",
       "50%                               75.822331  \n",
       "75%                              182.395620  \n",
       "max                            11595.502940  "
      ]
     },
     "execution_count": 18,
     "metadata": {},
     "output_type": "execute_result"
    }
   ],
   "source": [
    "df.describe()"
   ]
  },
  {
   "cell_type": "code",
   "execution_count": 25,
   "id": "263c0af7-2276-4920-bb35-967709f892d2",
   "metadata": {
    "scrolled": true
   },
   "outputs": [
    {
     "data": {
      "text/html": [
       "<div>\n",
       "<style scoped>\n",
       "    .dataframe tbody tr th:only-of-type {\n",
       "        vertical-align: middle;\n",
       "    }\n",
       "\n",
       "    .dataframe tbody tr th {\n",
       "        vertical-align: top;\n",
       "    }\n",
       "\n",
       "    .dataframe thead th {\n",
       "        text-align: right;\n",
       "    }\n",
       "</style>\n",
       "<table border=\"1\" class=\"dataframe\">\n",
       "  <thead>\n",
       "    <tr style=\"text-align: right;\">\n",
       "      <th></th>\n",
       "      <th>Некачественное ГДИС</th>\n",
       "      <th>Влияние ствола скважины</th>\n",
       "      <th>Радиальный режим</th>\n",
       "      <th>Линейный режим</th>\n",
       "      <th>Билинейный режим</th>\n",
       "      <th>Сферический режим</th>\n",
       "      <th>Граница постоянного давления</th>\n",
       "      <th>Граница непроницаемый разлом</th>\n",
       "      <th>Влияние ствола скважины_details</th>\n",
       "      <th>Радиальный режим_details</th>\n",
       "      <th>Линейный режим_details</th>\n",
       "      <th>Билинейный режим_details</th>\n",
       "      <th>Сферический режим_details</th>\n",
       "      <th>Граница постоянного давления_details</th>\n",
       "      <th>Граница непроницаемый разлом_details</th>\n",
       "    </tr>\n",
       "  </thead>\n",
       "  <tbody>\n",
       "    <tr>\n",
       "      <th>count</th>\n",
       "      <td>500.000000</td>\n",
       "      <td>500.000000</td>\n",
       "      <td>500.000000</td>\n",
       "      <td>500.000000</td>\n",
       "      <td>500.000000</td>\n",
       "      <td>500.000000</td>\n",
       "      <td>500.000000</td>\n",
       "      <td>500.000000</td>\n",
       "      <td>500.000000</td>\n",
       "      <td>500.000000</td>\n",
       "      <td>500.000000</td>\n",
       "      <td>500.000000</td>\n",
       "      <td>500.000000</td>\n",
       "      <td>500.000000</td>\n",
       "      <td>500.000000</td>\n",
       "    </tr>\n",
       "    <tr>\n",
       "      <th>mean</th>\n",
       "      <td>0.136000</td>\n",
       "      <td>0.814000</td>\n",
       "      <td>0.556000</td>\n",
       "      <td>0.220000</td>\n",
       "      <td>0.184000</td>\n",
       "      <td>0.116000</td>\n",
       "      <td>0.164000</td>\n",
       "      <td>0.176000</td>\n",
       "      <td>1.502501</td>\n",
       "      <td>0.830828</td>\n",
       "      <td>0.514611</td>\n",
       "      <td>0.723676</td>\n",
       "      <td>1.104518</td>\n",
       "      <td>163.914816</td>\n",
       "      <td>126.706512</td>\n",
       "    </tr>\n",
       "    <tr>\n",
       "      <th>std</th>\n",
       "      <td>0.343132</td>\n",
       "      <td>0.389496</td>\n",
       "      <td>0.497352</td>\n",
       "      <td>0.414661</td>\n",
       "      <td>0.387872</td>\n",
       "      <td>0.320546</td>\n",
       "      <td>0.370646</td>\n",
       "      <td>0.381202</td>\n",
       "      <td>1.454203</td>\n",
       "      <td>0.921068</td>\n",
       "      <td>0.959550</td>\n",
       "      <td>0.950543</td>\n",
       "      <td>0.930414</td>\n",
       "      <td>434.030398</td>\n",
       "      <td>245.407146</td>\n",
       "    </tr>\n",
       "    <tr>\n",
       "      <th>min</th>\n",
       "      <td>0.000000</td>\n",
       "      <td>0.000000</td>\n",
       "      <td>0.000000</td>\n",
       "      <td>0.000000</td>\n",
       "      <td>0.000000</td>\n",
       "      <td>0.000000</td>\n",
       "      <td>0.000000</td>\n",
       "      <td>0.000000</td>\n",
       "      <td>-0.985342</td>\n",
       "      <td>-0.949690</td>\n",
       "      <td>-0.997889</td>\n",
       "      <td>-0.995658</td>\n",
       "      <td>-0.972438</td>\n",
       "      <td>-0.637121</td>\n",
       "      <td>-0.074855</td>\n",
       "    </tr>\n",
       "    <tr>\n",
       "      <th>25%</th>\n",
       "      <td>0.000000</td>\n",
       "      <td>1.000000</td>\n",
       "      <td>0.000000</td>\n",
       "      <td>0.000000</td>\n",
       "      <td>0.000000</td>\n",
       "      <td>0.000000</td>\n",
       "      <td>0.000000</td>\n",
       "      <td>0.000000</td>\n",
       "      <td>0.646042</td>\n",
       "      <td>0.302296</td>\n",
       "      <td>-0.107981</td>\n",
       "      <td>0.176903</td>\n",
       "      <td>0.480279</td>\n",
       "      <td>17.037024</td>\n",
       "      <td>20.264033</td>\n",
       "    </tr>\n",
       "    <tr>\n",
       "      <th>50%</th>\n",
       "      <td>0.000000</td>\n",
       "      <td>1.000000</td>\n",
       "      <td>1.000000</td>\n",
       "      <td>0.000000</td>\n",
       "      <td>0.000000</td>\n",
       "      <td>0.000000</td>\n",
       "      <td>0.000000</td>\n",
       "      <td>0.000000</td>\n",
       "      <td>1.475451</td>\n",
       "      <td>0.781448</td>\n",
       "      <td>0.442277</td>\n",
       "      <td>0.658113</td>\n",
       "      <td>1.095829</td>\n",
       "      <td>51.794124</td>\n",
       "      <td>59.250973</td>\n",
       "    </tr>\n",
       "    <tr>\n",
       "      <th>75%</th>\n",
       "      <td>0.000000</td>\n",
       "      <td>1.000000</td>\n",
       "      <td>1.000000</td>\n",
       "      <td>0.000000</td>\n",
       "      <td>0.000000</td>\n",
       "      <td>0.000000</td>\n",
       "      <td>0.000000</td>\n",
       "      <td>0.000000</td>\n",
       "      <td>2.031351</td>\n",
       "      <td>1.214180</td>\n",
       "      <td>0.938172</td>\n",
       "      <td>1.058327</td>\n",
       "      <td>1.752912</td>\n",
       "      <td>148.290224</td>\n",
       "      <td>139.659978</td>\n",
       "    </tr>\n",
       "    <tr>\n",
       "      <th>max</th>\n",
       "      <td>1.000000</td>\n",
       "      <td>1.000000</td>\n",
       "      <td>1.000000</td>\n",
       "      <td>1.000000</td>\n",
       "      <td>1.000000</td>\n",
       "      <td>1.000000</td>\n",
       "      <td>1.000000</td>\n",
       "      <td>1.000000</td>\n",
       "      <td>7.074275</td>\n",
       "      <td>5.381161</td>\n",
       "      <td>5.015213</td>\n",
       "      <td>5.669838</td>\n",
       "      <td>4.667767</td>\n",
       "      <td>4962.527716</td>\n",
       "      <td>3757.348834</td>\n",
       "    </tr>\n",
       "  </tbody>\n",
       "</table>\n",
       "</div>"
      ],
      "text/plain": [
       "       Некачественное ГДИС  Влияние ствола скважины  Радиальный режим  \\\n",
       "count           500.000000               500.000000        500.000000   \n",
       "mean              0.136000                 0.814000          0.556000   \n",
       "std               0.343132                 0.389496          0.497352   \n",
       "min               0.000000                 0.000000          0.000000   \n",
       "25%               0.000000                 1.000000          0.000000   \n",
       "50%               0.000000                 1.000000          1.000000   \n",
       "75%               0.000000                 1.000000          1.000000   \n",
       "max               1.000000                 1.000000          1.000000   \n",
       "\n",
       "       Линейный режим  Билинейный режим  Сферический режим  \\\n",
       "count      500.000000        500.000000         500.000000   \n",
       "mean         0.220000          0.184000           0.116000   \n",
       "std          0.414661          0.387872           0.320546   \n",
       "min          0.000000          0.000000           0.000000   \n",
       "25%          0.000000          0.000000           0.000000   \n",
       "50%          0.000000          0.000000           0.000000   \n",
       "75%          0.000000          0.000000           0.000000   \n",
       "max          1.000000          1.000000           1.000000   \n",
       "\n",
       "       Граница постоянного давления  Граница непроницаемый разлом  \\\n",
       "count                    500.000000                    500.000000   \n",
       "mean                       0.164000                      0.176000   \n",
       "std                        0.370646                      0.381202   \n",
       "min                        0.000000                      0.000000   \n",
       "25%                        0.000000                      0.000000   \n",
       "50%                        0.000000                      0.000000   \n",
       "75%                        0.000000                      0.000000   \n",
       "max                        1.000000                      1.000000   \n",
       "\n",
       "       Влияние ствола скважины_details  Радиальный режим_details  \\\n",
       "count                       500.000000                500.000000   \n",
       "mean                          1.502501                  0.830828   \n",
       "std                           1.454203                  0.921068   \n",
       "min                          -0.985342                 -0.949690   \n",
       "25%                           0.646042                  0.302296   \n",
       "50%                           1.475451                  0.781448   \n",
       "75%                           2.031351                  1.214180   \n",
       "max                           7.074275                  5.381161   \n",
       "\n",
       "       Линейный режим_details  Билинейный режим_details  \\\n",
       "count              500.000000                500.000000   \n",
       "mean                 0.514611                  0.723676   \n",
       "std                  0.959550                  0.950543   \n",
       "min                 -0.997889                 -0.995658   \n",
       "25%                 -0.107981                  0.176903   \n",
       "50%                  0.442277                  0.658113   \n",
       "75%                  0.938172                  1.058327   \n",
       "max                  5.015213                  5.669838   \n",
       "\n",
       "       Сферический режим_details  Граница постоянного давления_details  \\\n",
       "count                 500.000000                            500.000000   \n",
       "mean                    1.104518                            163.914816   \n",
       "std                     0.930414                            434.030398   \n",
       "min                    -0.972438                             -0.637121   \n",
       "25%                     0.480279                             17.037024   \n",
       "50%                     1.095829                             51.794124   \n",
       "75%                     1.752912                            148.290224   \n",
       "max                     4.667767                           4962.527716   \n",
       "\n",
       "       Граница непроницаемый разлом_details  \n",
       "count                            500.000000  \n",
       "mean                             126.706512  \n",
       "std                              245.407146  \n",
       "min                               -0.074855  \n",
       "25%                               20.264033  \n",
       "50%                               59.250973  \n",
       "75%                              139.659978  \n",
       "max                             3757.348834  "
      ]
     },
     "execution_count": 25,
     "metadata": {},
     "output_type": "execute_result"
    }
   ],
   "source": [
    "ch.describe()"
   ]
  },
  {
   "cell_type": "code",
   "execution_count": 16,
   "id": "03271da1-b416-441c-a9b2-d70370465fb2",
   "metadata": {},
   "outputs": [],
   "source": [
    "sb = pd.read_csv('E:/DS/data/siam/bi/inference/random/submit1.csv')\n",
    "columns_b=['Некачественное ГДИС',\n",
    "       'Влияние ствола скважины', 'Радиальный режим', 'Линейный режим',\n",
    "       'Билинейный режим', 'Сферический режим', 'Граница постоянного давления',\n",
    "       'Граница непроницаемый разлом', ]\n",
    "columns_r=['Влияние ствола скважины_details',\n",
    "       'Радиальный режим_details', 'Линейный режим_details',\n",
    "       'Билинейный режим_details', 'Сферический режим_details',\n",
    "       'Граница постоянного давления_details',\n",
    "       'Граница непроницаемый разлом_details']\n",
    "\n",
    "columns_b_2 = ['binary_Некачественное ГДИС', \n",
    "       'binary_Влияние ствола скважины', \n",
    "       'binary_Радиальный режим',\n",
    "       'binary_Линейный режим', \n",
    "       'binary_Билинейный режим', \n",
    "       'binary_Сферический режим', \n",
    "       'binary_Граница постоянного давления',\n",
    "       'binary_Граница непроницаемый разлом',]\n",
    "columns_r_2 =['regression_Влияние ствола скважины_details',\n",
    "       'regression_Радиальный режим_details',\n",
    "       'regression_Линейный режим_details',\n",
    "       'regression_Билинейный режим_details',\n",
    "       'regression_Сферический режим_details',\n",
    "       'regression_Граница постоянного давления_details',\n",
    "       'regression_Граница непроницаемый разлом_details']"
   ]
  },
  {
   "cell_type": "code",
   "execution_count": 23,
   "id": "6912c63a-3b0d-4430-b4bb-9cb5ba53b9b1",
   "metadata": {},
   "outputs": [],
   "source": [
    "ch.columns  = ['file_name']+columns_b+columns_r"
   ]
  },
  {
   "cell_type": "code",
   "execution_count": 24,
   "id": "7ffcf5a6-131a-4e03-b50e-dec982975324",
   "metadata": {},
   "outputs": [],
   "source": [
    "ch = sb[['file_name']].merge(ch)"
   ]
  },
  {
   "cell_type": "code",
   "execution_count": 26,
   "id": "dd0d7ca6-659e-4ff2-8f83-899090f90340",
   "metadata": {},
   "outputs": [],
   "source": [
    "ch.to_csv('E:/DS/data/siam/bi/inference/trans_enc_v1/inf_l1p_ts10_v1_tr.csv',index=False)"
   ]
  },
  {
   "cell_type": "markdown",
   "id": "62031078-0c3b-4700-ad36-217df47c327c",
   "metadata": {},
   "source": [
    "# blend"
   ]
  },
  {
   "cell_type": "code",
   "execution_count": null,
   "id": "c0e2b558-56fd-4490-951b-6876df671547",
   "metadata": {},
   "outputs": [],
   "source": []
  }
 ],
 "metadata": {
  "kernelspec": {
   "display_name": "Python 3 (ipykernel)",
   "language": "python",
   "name": "python3"
  },
  "language_info": {
   "codemirror_mode": {
    "name": "ipython",
    "version": 3
   },
   "file_extension": ".py",
   "mimetype": "text/x-python",
   "name": "python",
   "nbconvert_exporter": "python",
   "pygments_lexer": "ipython3",
   "version": "3.10.16"
  }
 },
 "nbformat": 4,
 "nbformat_minor": 5
}
