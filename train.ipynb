{
 "cells": [
  {
   "cell_type": "code",
   "execution_count": 1,
   "id": "a10560b0-6fa7-4b81-a589-cb9866513446",
   "metadata": {},
   "outputs": [],
   "source": [
    "%load_ext autoreload\n",
    "%autoreload 2"
   ]
  },
  {
   "cell_type": "code",
   "execution_count": 2,
   "id": "5fd7cd27-fbe5-45f2-9d98-303b05adbfe0",
   "metadata": {},
   "outputs": [],
   "source": [
    "from dataloader import create_data_loader\n",
    "from model import TransformerModel, TransformerModel_ver2\n",
    "from train import train_model,save_predictions, calculate_custom_accuracy\n",
    "\n"
   ]
  },
  {
   "cell_type": "markdown",
   "id": "a856c049-a6eb-4552-befe-989084cb2ec0",
   "metadata": {},
   "source": [
    "# Train"
   ]
  },
  {
   "cell_type": "code",
   "execution_count": 3,
   "id": "49cd6255-491e-4503-af71-18b6fc54c236",
   "metadata": {},
   "outputs": [
    {
     "name": "stdout",
     "output_type": "stream",
     "text": [
      "Preprocessing time series data...\n"
     ]
    },
    {
     "name": "stderr",
     "output_type": "stream",
     "text": [
      "100%|██████████████████████████████████████████████████████████████████████████| 44884/44884 [00:07<00:00, 6176.61it/s]\n"
     ]
    },
    {
     "name": "stdout",
     "output_type": "stream",
     "text": [
      "Preprocessed 4000 time series\n"
     ]
    }
   ],
   "source": [
    "val_loader = create_data_loader(\n",
    "    csv_path='E:/DS/data/siam/bi/tgs/val_df_l1p_2.csv',\n",
    "    parquet_path='E:/DS/data/siam/bi/train_trans/train_l1p.parquet',\n",
    "    batch_size=64,\n",
    "    max_seq_len=1024,\n",
    "    num_workers=0,\n",
    "    shuffle = False,\n",
    ")"
   ]
  },
  {
   "cell_type": "code",
   "execution_count": 4,
   "id": "2d7b47cb-336d-4b53-ad1a-9b69a9728590",
   "metadata": {},
   "outputs": [
    {
     "name": "stdout",
     "output_type": "stream",
     "text": [
      "Preprocessing time series data...\n"
     ]
    },
    {
     "name": "stderr",
     "output_type": "stream",
     "text": [
      "100%|███████████████████████████████████████████████████████████████████████████| 44884/44884 [00:55<00:00, 806.41it/s]\n"
     ]
    },
    {
     "name": "stdout",
     "output_type": "stream",
     "text": [
      "Preprocessed 40884 time series\n"
     ]
    }
   ],
   "source": [
    "# Create data loaders\n",
    "train_loader = create_data_loader(\n",
    "    csv_path='E:/DS/data/siam/bi/tgs/train_df_l1p_2.csv',\n",
    "    parquet_path='E:/DS/data/siam/bi/train_trans/train_l1p.parquet',\n",
    "    batch_size=64,\n",
    "    max_seq_len=1024,\n",
    "    num_workers=4\n",
    ")\n",
    "\n",
    "\n",
    "\n",
    "\n"
   ]
  },
  {
   "cell_type": "code",
   "execution_count": 6,
   "id": "e7bc1b85-ea24-4150-80b7-e3a5a926a2ca",
   "metadata": {},
   "outputs": [],
   "source": [
    "# Create model feats 3\n",
    "model = TransformerModel_ver2(\n",
    "    input_dim=3,\n",
    "    d_model=256,\n",
    "    nhead=4,\n",
    "    num_encoder_layers=4,\n",
    "    dim_feedforward=512,\n",
    "    dropout=0.1,\n",
    "    max_seq_len = 1024\n",
    ")"
   ]
  },
  {
   "cell_type": "code",
   "execution_count": 5,
   "id": "28dd79de-8c0a-42bc-ab88-5f5eeeb801af",
   "metadata": {},
   "outputs": [],
   "source": [
    "# Create model\n",
    "model = TransformerModel_ver2(\n",
    "    input_dim=10,\n",
    "    d_model=256,\n",
    "    nhead=4,\n",
    "    num_encoder_layers=4,\n",
    "    dim_feedforward=512,\n",
    "    dropout=0.1,\n",
    "    max_seq_len = 1024\n",
    ")"
   ]
  },
  {
   "cell_type": "code",
   "execution_count": null,
   "id": "f7d19a7d-896b-44cc-aaae-29684c9e1306",
   "metadata": {},
   "outputs": [
    {
     "name": "stdout",
     "output_type": "stream",
     "text": [
      "\n",
      "Epoch 1/30\n"
     ]
    },
    {
     "name": "stderr",
     "output_type": "stream",
     "text": [
      "Training: 100%|███████████████| 639/639 [03:52<00:00,  2.75it/s, loss=0.525, binary_loss=0.458, regression_loss=0.0667]\n",
      "Evaluating: 100%|██████████████████████████████████████████████████████████████████████| 63/63 [00:07<00:00,  8.95it/s]\n"
     ]
    },
    {
     "name": "stdout",
     "output_type": "stream",
     "text": [
      "Train Loss: 0.9659, Binary Loss: 0.5102, Regression Loss: 0.4557\n",
      "Val Loss: 0.5877, Binary Loss: 0.4476, Regression Loss: 0.1401, AUROC: 0.6710, MSE: 0.0446, Mean Accuracy: 0.6411\n",
      "New best model saved with validation mean accuracy: 0.6411\n",
      "\n",
      "Epoch 2/30\n"
     ]
    },
    {
     "name": "stderr",
     "output_type": "stream",
     "text": [
      "Training: 100%|███████████████| 639/639 [03:54<00:00,  2.72it/s, loss=0.493, binary_loss=0.414, regression_loss=0.0792]\n",
      "Evaluating: 100%|██████████████████████████████████████████████████████████████████████| 63/63 [00:06<00:00,  9.03it/s]\n"
     ]
    },
    {
     "name": "stdout",
     "output_type": "stream",
     "text": [
      "Train Loss: 0.5306, Binary Loss: 0.4140, Regression Loss: 0.1166\n",
      "Val Loss: 0.4972, Binary Loss: 0.3960, Regression Loss: 0.1012, AUROC: 0.7778, MSE: 0.0322, Mean Accuracy: 0.6650\n",
      "New best model saved with validation mean accuracy: 0.6650\n",
      "\n",
      "Epoch 3/30\n"
     ]
    },
    {
     "name": "stderr",
     "output_type": "stream",
     "text": [
      "Training: 100%|███████████████| 639/639 [03:54<00:00,  2.73it/s, loss=0.455, binary_loss=0.385, regression_loss=0.0708]\n",
      "Evaluating: 100%|██████████████████████████████████████████████████████████████████████| 63/63 [00:06<00:00,  9.20it/s]\n"
     ]
    },
    {
     "name": "stdout",
     "output_type": "stream",
     "text": [
      "Train Loss: 0.4714, Binary Loss: 0.3736, Regression Loss: 0.0978\n",
      "Val Loss: 0.4525, Binary Loss: 0.3624, Regression Loss: 0.0902, AUROC: 0.8300, MSE: 0.0287, Mean Accuracy: 0.6865\n",
      "New best model saved with validation mean accuracy: 0.6865\n",
      "\n",
      "Epoch 4/30\n"
     ]
    },
    {
     "name": "stderr",
     "output_type": "stream",
     "text": [
      "Training: 100%|███████████████| 639/639 [03:53<00:00,  2.73it/s, loss=0.415, binary_loss=0.351, regression_loss=0.0644]\n",
      "Evaluating: 100%|██████████████████████████████████████████████████████████████████████| 63/63 [00:06<00:00,  9.14it/s]\n"
     ]
    },
    {
     "name": "stdout",
     "output_type": "stream",
     "text": [
      "Train Loss: 0.4389, Binary Loss: 0.3517, Regression Loss: 0.0872\n",
      "Val Loss: 0.4372, Binary Loss: 0.3511, Regression Loss: 0.0861, AUROC: 0.8493, MSE: 0.0274, Mean Accuracy: 0.6931\n",
      "New best model saved with validation mean accuracy: 0.6931\n",
      "\n",
      "Epoch 5/30\n"
     ]
    },
    {
     "name": "stderr",
     "output_type": "stream",
     "text": [
      "Training: 100%|████████████████| 639/639 [03:53<00:00,  2.74it/s, loss=0.437, binary_loss=0.334, regression_loss=0.104]\n",
      "Evaluating: 100%|██████████████████████████████████████████████████████████████████████| 63/63 [00:06<00:00,  9.12it/s]\n"
     ]
    },
    {
     "name": "stdout",
     "output_type": "stream",
     "text": [
      "Train Loss: 0.4189, Binary Loss: 0.3392, Regression Loss: 0.0797\n",
      "Val Loss: 0.4230, Binary Loss: 0.3376, Regression Loss: 0.0854, AUROC: 0.8598, MSE: 0.0272, Mean Accuracy: 0.6789\n",
      "\n",
      "Epoch 6/30\n"
     ]
    },
    {
     "name": "stderr",
     "output_type": "stream",
     "text": [
      "Training: 100%|████████████████| 639/639 [03:53<00:00,  2.73it/s, loss=0.352, binary_loss=0.301, regression_loss=0.051]\n",
      "Evaluating: 100%|██████████████████████████████████████████████████████████████████████| 63/63 [00:06<00:00,  9.07it/s]\n"
     ]
    },
    {
     "name": "stdout",
     "output_type": "stream",
     "text": [
      "Train Loss: 0.4077, Binary Loss: 0.3311, Regression Loss: 0.0766\n",
      "Val Loss: 0.4121, Binary Loss: 0.3335, Regression Loss: 0.0786, AUROC: 0.8656, MSE: 0.0250, Mean Accuracy: 0.7164\n",
      "New best model saved with validation mean accuracy: 0.7164\n",
      "\n",
      "Epoch 7/30\n"
     ]
    },
    {
     "name": "stderr",
     "output_type": "stream",
     "text": [
      "Training:  41%|██████▍         | 259/639 [01:50<02:03,  3.08it/s, loss=0.374, binary_loss=0.34, regression_loss=0.0343]"
     ]
    }
   ],
   "source": [
    "# Train model\n",
    "trained_model, history = train_model(\n",
    "    model=model,\n",
    "    train_loader=train_loader,\n",
    "    val_loader=val_loader,\n",
    "    num_epochs=30,\n",
    "    learning_rate=3e-4,\n",
    "    device='cuda',\n",
    "    binary_loss_weight=1.0,\n",
    "    regression_loss_weight=1.0,\n",
    "    pos_weight=1.0\n",
    ")"
   ]
  },
  {
   "cell_type": "code",
   "execution_count": 7,
   "id": "8d3391cc-b89f-4c0d-9b9e-3752953ef9f7",
   "metadata": {},
   "outputs": [],
   "source": [
    "import torch"
   ]
  },
  {
   "cell_type": "code",
   "execution_count": 8,
   "id": "4e415366-6131-425f-b932-6c4564507c8c",
   "metadata": {},
   "outputs": [],
   "source": [
    "torch.save(trained_model.state_dict(), 'E:/DS/data/siam/weights/ts_3f_l1p_2.pth')"
   ]
  },
  {
   "cell_type": "code",
   "execution_count": 9,
   "id": "9644d1fc-b6a7-4a8b-b063-3b91dba70135",
   "metadata": {},
   "outputs": [
    {
     "name": "stdout",
     "output_type": "stream",
     "text": [
      "Preprocessing time series data...\n"
     ]
    },
    {
     "name": "stderr",
     "output_type": "stream",
     "text": [
      "100%|██████████████████████████████████████████████████████████████████████████████| 500/500 [00:00<00:00, 1929.54it/s]\n"
     ]
    },
    {
     "name": "stdout",
     "output_type": "stream",
     "text": [
      "Preprocessed 500 time series\n"
     ]
    }
   ],
   "source": [
    "test_loader  = create_data_loader(\n",
    "    csv_path=None,\n",
    "    parquet_path='E:/DS/data/siam/bi/test_trans/test_l1p_adv.parquet',\n",
    "    batch_size=64,\n",
    "    max_seq_len=1024,\n",
    "    num_workers=0\n",
    ")"
   ]
  },
  {
   "cell_type": "raw",
   "id": "cb0678bd-9c93-4510-865b-32f92e97d0b3",
   "metadata": {},
   "source": [
    "#065\n",
    "Train Loss: 0.3618, Binary Loss: 0.2958, Regression Loss: 0.0659\n",
    "Val Loss: 0.4191, Binary Loss: 0.3285, Regression Loss: 0.0906, AUROC: 0.8697, MSE: 0.0291, Mean Accuracy: 0.6739\n",
    "New best model saved with validation mean accuracy: 0.6739"
   ]
  },
  {
   "cell_type": "code",
   "execution_count": 10,
   "id": "cc48e4d1-2b32-4fe2-84b2-5c0aec808baa",
   "metadata": {},
   "outputs": [
    {
     "name": "stderr",
     "output_type": "stream",
     "text": [
      "Running inference: 100%|█████████████████████████████████████████████████████████████████| 8/8 [00:01<00:00,  6.72it/s]"
     ]
    },
    {
     "name": "stdout",
     "output_type": "stream",
     "text": [
      "Predictions saved to E:/DS/data/siam/bi/inference/trans_enc_v1/inf_l1p_ts10_v1.csv\n"
     ]
    },
    {
     "name": "stderr",
     "output_type": "stream",
     "text": [
      "\n"
     ]
    }
   ],
   "source": [
    "save_predictions(trained_model,test_loader,\n",
    "                'E:/DS/data/siam/bi/inference/trans_enc_v1/inf_l1p_ts3_v2.csv',\n",
    "                'cuda',\n",
    "                binary_threshold=0.5)"
   ]
  },
  {
   "cell_type": "markdown",
   "id": "191d4f4e-4a64-4efd-a455-c210606e30d1",
   "metadata": {},
   "source": [
    "# Prep data for public"
   ]
  },
  {
   "cell_type": "code",
   "execution_count": 11,
   "id": "70dce8be-85b1-4330-9a7e-2d36945980e4",
   "metadata": {},
   "outputs": [],
   "source": [
    "import numpy as np\n",
    "import pandas as pd"
   ]
  },
  {
   "cell_type": "code",
   "execution_count": 12,
   "id": "fa2c1bdc-c22a-45b8-b820-00e806cf7719",
   "metadata": {},
   "outputs": [],
   "source": [
    "ch=pd.read_csv('E:/DS/data/siam/bi/inference/trans_enc_v1/inf_l1p_ts3_v2.csv')"
   ]
  },
  {
   "cell_type": "code",
   "execution_count": 13,
   "id": "5b0c2383-7d2d-4ce6-b9e0-b9c9ac9492af",
   "metadata": {},
   "outputs": [],
   "source": [
    "keep_cols = ['file_name',\n",
    "       'binary_Некачественное ГДИС', \n",
    "       'binary_Влияние ствола скважины', \n",
    "       'binary_Радиальный режим',\n",
    "       'binary_Линейный режим', \n",
    "       'binary_Билинейный режим', \n",
    "       'binary_Сферический режим', \n",
    "       'binary_Граница постоянного давления',\n",
    "       'binary_Граница непроницаемый разлом',\n",
    "       'regression_Влияние ствола скважины_details',\n",
    "       'regression_Радиальный режим_details',\n",
    "       'regression_Линейный режим_details',\n",
    "       'regression_Билинейный режим_details',\n",
    "       'regression_Сферический режим_details',\n",
    "       'regression_Граница постоянного давления_details',\n",
    "       'regression_Граница непроницаемый разлом_details']"
   ]
  },
  {
   "cell_type": "code",
   "execution_count": 14,
   "id": "16d37fe9-8978-4edd-88e2-b555dfdb934c",
   "metadata": {},
   "outputs": [],
   "source": [
    "import pickle\n",
    "\n",
    "def load_scaler(file_path):\n",
    "    \"\"\"\n",
    "    Load an sklearn scaler from a pickle file.\n",
    "\n",
    "    Args:\n",
    "        file_path (str): Path to the scaler file.\n",
    "\n",
    "    Returns:\n",
    "        scaler: The loaded scaler object.\n",
    "    \"\"\"\n",
    "    try:\n",
    "        with open(file_path, 'rb') as file:\n",
    "            scaler = pickle.load(file)\n",
    "        print(f\"Scaler loaded successfully from {file_path}\")\n",
    "        return scaler\n",
    "    except Exception as e:\n",
    "        print(f\"Error loading scaler: {e}\")\n",
    "        return None"
   ]
  },
  {
   "cell_type": "code",
   "execution_count": 15,
   "id": "f576f0fa-3435-428c-b265-8d91f67e85ea",
   "metadata": {},
   "outputs": [],
   "source": [
    "def apply_trans_reg(ch, path_to_scalers='E:/DS/data/siam/scalers/tg_scalers_r/tg_r_'):\n",
    "    for i, col in enumerate(['regression_Влияние ствола скважины_details',\n",
    "           'regression_Радиальный режим_details',\n",
    "           'regression_Линейный режим_details',\n",
    "           'regression_Билинейный режим_details',\n",
    "           'regression_Сферический режим_details',\n",
    "           'regression_Граница постоянного давления_details',\n",
    "           'regression_Граница непроницаемый разлом_details']):\n",
    "        print(col)\n",
    "        curr_path = path_to_scalers+f'{i}.pkl'\n",
    "        r_scaler = load_scaler(curr_path)\n",
    "        \n",
    "        data = ch[[col]]\n",
    "        #print(col, data.shape)\n",
    "        data = r_scaler.inverse_transform(data)\n",
    "        #print(col, data.shape)\n",
    "        ch[col]=data\n",
    "    return ch"
   ]
  },
  {
   "cell_type": "code",
   "execution_count": 17,
   "id": "95e4e464-ac95-4bbc-a333-4e4966045119",
   "metadata": {},
   "outputs": [
    {
     "name": "stdout",
     "output_type": "stream",
     "text": [
      "regression_Влияние ствола скважины_details\n",
      "Scaler loaded successfully from E:/DS/data/siam/scalers/tg_scalers_r/tg_r_0.pkl\n",
      "regression_Радиальный режим_details\n",
      "Scaler loaded successfully from E:/DS/data/siam/scalers/tg_scalers_r/tg_r_1.pkl\n",
      "regression_Линейный режим_details\n",
      "Scaler loaded successfully from E:/DS/data/siam/scalers/tg_scalers_r/tg_r_2.pkl\n",
      "regression_Билинейный режим_details\n",
      "Scaler loaded successfully from E:/DS/data/siam/scalers/tg_scalers_r/tg_r_3.pkl\n",
      "regression_Сферический режим_details\n",
      "Scaler loaded successfully from E:/DS/data/siam/scalers/tg_scalers_r/tg_r_4.pkl\n",
      "regression_Граница постоянного давления_details\n",
      "Scaler loaded successfully from E:/DS/data/siam/scalers/tg_scalers_r/tg_r_5.pkl\n",
      "regression_Граница непроницаемый разлом_details\n",
      "Scaler loaded successfully from E:/DS/data/siam/scalers/tg_scalers_r/tg_r_6.pkl\n"
     ]
    }
   ],
   "source": [
    "ch = apply_trans_reg(ch, path_to_scalers='E:/DS/data/siam/scalers/tg_scalers_r/tg_r_')"
   ]
  },
  {
   "cell_type": "code",
   "execution_count": 15,
   "id": "1d9e47d3-968c-466f-97db-86cd271eb78a",
   "metadata": {},
   "outputs": [],
   "source": [
    "ch[columns_r_2] = np.expm1(ch[columns_r_2])"
   ]
  },
  {
   "cell_type": "code",
   "execution_count": 16,
   "id": "e68bc784-c174-4e1a-a203-2684568d8362",
   "metadata": {},
   "outputs": [],
   "source": [
    "ch = ch[keep_cols]"
   ]
  },
  {
   "cell_type": "code",
   "execution_count": 17,
   "id": "e07946be-e63f-4fea-96ae-b25479c07f3b",
   "metadata": {},
   "outputs": [],
   "source": [
    "df = pd.read_csv('E:/DS/data/siam/bi/markup_train.csv')"
   ]
  },
  {
   "cell_type": "code",
   "execution_count": 18,
   "id": "079c0329-bd76-45d4-9460-cbebfb0896cd",
   "metadata": {},
   "outputs": [
    {
     "data": {
      "text/html": [
       "<div>\n",
       "<style scoped>\n",
       "    .dataframe tbody tr th:only-of-type {\n",
       "        vertical-align: middle;\n",
       "    }\n",
       "\n",
       "    .dataframe tbody tr th {\n",
       "        vertical-align: top;\n",
       "    }\n",
       "\n",
       "    .dataframe thead th {\n",
       "        text-align: right;\n",
       "    }\n",
       "</style>\n",
       "<table border=\"1\" class=\"dataframe\">\n",
       "  <thead>\n",
       "    <tr style=\"text-align: right;\">\n",
       "      <th></th>\n",
       "      <th>Некачественное ГДИС</th>\n",
       "      <th>Влияние ствола скважины</th>\n",
       "      <th>Радиальный режим</th>\n",
       "      <th>Линейный режим</th>\n",
       "      <th>Билинейный режим</th>\n",
       "      <th>Сферический режим</th>\n",
       "      <th>Граница постоянного давления</th>\n",
       "      <th>Граница непроницаемый разлом</th>\n",
       "      <th>Влияние ствола скважины_details</th>\n",
       "      <th>Радиальный режим_details</th>\n",
       "      <th>Линейный режим_details</th>\n",
       "      <th>Билинейный режим_details</th>\n",
       "      <th>Сферический режим_details</th>\n",
       "      <th>Граница постоянного давления_details</th>\n",
       "      <th>Граница непроницаемый разлом_details</th>\n",
       "    </tr>\n",
       "  </thead>\n",
       "  <tbody>\n",
       "    <tr>\n",
       "      <th>count</th>\n",
       "      <td>45141.000000</td>\n",
       "      <td>45141.000000</td>\n",
       "      <td>45141.000000</td>\n",
       "      <td>45141.000000</td>\n",
       "      <td>45141.000000</td>\n",
       "      <td>45141.000000</td>\n",
       "      <td>45141.000000</td>\n",
       "      <td>45141.000000</td>\n",
       "      <td>35558.000000</td>\n",
       "      <td>25855.000000</td>\n",
       "      <td>12211.000000</td>\n",
       "      <td>12086.000000</td>\n",
       "      <td>5764.000000</td>\n",
       "      <td>4874.000000</td>\n",
       "      <td>4265.000000</td>\n",
       "    </tr>\n",
       "    <tr>\n",
       "      <th>mean</th>\n",
       "      <td>0.160984</td>\n",
       "      <td>0.787710</td>\n",
       "      <td>0.572761</td>\n",
       "      <td>0.270508</td>\n",
       "      <td>0.267739</td>\n",
       "      <td>0.127689</td>\n",
       "      <td>0.107973</td>\n",
       "      <td>0.094482</td>\n",
       "      <td>1.719234</td>\n",
       "      <td>1.140486</td>\n",
       "      <td>0.605509</td>\n",
       "      <td>0.934330</td>\n",
       "      <td>1.292040</td>\n",
       "      <td>144.019966</td>\n",
       "      <td>160.928583</td>\n",
       "    </tr>\n",
       "    <tr>\n",
       "      <th>std</th>\n",
       "      <td>0.367521</td>\n",
       "      <td>0.408934</td>\n",
       "      <td>0.494683</td>\n",
       "      <td>0.444227</td>\n",
       "      <td>0.442786</td>\n",
       "      <td>0.333747</td>\n",
       "      <td>0.310349</td>\n",
       "      <td>0.292501</td>\n",
       "      <td>1.537100</td>\n",
       "      <td>1.155191</td>\n",
       "      <td>1.012616</td>\n",
       "      <td>1.166539</td>\n",
       "      <td>0.982978</td>\n",
       "      <td>782.593841</td>\n",
       "      <td>339.370082</td>\n",
       "    </tr>\n",
       "    <tr>\n",
       "      <th>min</th>\n",
       "      <td>0.000000</td>\n",
       "      <td>0.000000</td>\n",
       "      <td>0.000000</td>\n",
       "      <td>0.000000</td>\n",
       "      <td>0.000000</td>\n",
       "      <td>0.000000</td>\n",
       "      <td>0.000000</td>\n",
       "      <td>0.000000</td>\n",
       "      <td>-3.843521</td>\n",
       "      <td>-3.707246</td>\n",
       "      <td>-4.109357</td>\n",
       "      <td>-3.332898</td>\n",
       "      <td>-5.164659</td>\n",
       "      <td>0.006653</td>\n",
       "      <td>0.010753</td>\n",
       "    </tr>\n",
       "    <tr>\n",
       "      <th>25%</th>\n",
       "      <td>0.000000</td>\n",
       "      <td>1.000000</td>\n",
       "      <td>0.000000</td>\n",
       "      <td>0.000000</td>\n",
       "      <td>0.000000</td>\n",
       "      <td>0.000000</td>\n",
       "      <td>0.000000</td>\n",
       "      <td>0.000000</td>\n",
       "      <td>0.914535</td>\n",
       "      <td>0.504870</td>\n",
       "      <td>0.028459</td>\n",
       "      <td>0.327374</td>\n",
       "      <td>0.743594</td>\n",
       "      <td>18.335495</td>\n",
       "      <td>29.301152</td>\n",
       "    </tr>\n",
       "    <tr>\n",
       "      <th>50%</th>\n",
       "      <td>0.000000</td>\n",
       "      <td>1.000000</td>\n",
       "      <td>1.000000</td>\n",
       "      <td>0.000000</td>\n",
       "      <td>0.000000</td>\n",
       "      <td>0.000000</td>\n",
       "      <td>0.000000</td>\n",
       "      <td>0.000000</td>\n",
       "      <td>1.589366</td>\n",
       "      <td>0.959171</td>\n",
       "      <td>0.516372</td>\n",
       "      <td>0.720093</td>\n",
       "      <td>1.296814</td>\n",
       "      <td>55.182021</td>\n",
       "      <td>75.822331</td>\n",
       "    </tr>\n",
       "    <tr>\n",
       "      <th>75%</th>\n",
       "      <td>0.000000</td>\n",
       "      <td>1.000000</td>\n",
       "      <td>1.000000</td>\n",
       "      <td>1.000000</td>\n",
       "      <td>1.000000</td>\n",
       "      <td>0.000000</td>\n",
       "      <td>0.000000</td>\n",
       "      <td>0.000000</td>\n",
       "      <td>2.256645</td>\n",
       "      <td>1.422883</td>\n",
       "      <td>1.024682</td>\n",
       "      <td>1.130444</td>\n",
       "      <td>1.808614</td>\n",
       "      <td>134.488126</td>\n",
       "      <td>182.395620</td>\n",
       "    </tr>\n",
       "    <tr>\n",
       "      <th>max</th>\n",
       "      <td>1.000000</td>\n",
       "      <td>1.000000</td>\n",
       "      <td>1.000000</td>\n",
       "      <td>1.000000</td>\n",
       "      <td>1.000000</td>\n",
       "      <td>1.000000</td>\n",
       "      <td>1.000000</td>\n",
       "      <td>1.000000</td>\n",
       "      <td>31.777765</td>\n",
       "      <td>6.408605</td>\n",
       "      <td>29.027806</td>\n",
       "      <td>29.129381</td>\n",
       "      <td>6.631359</td>\n",
       "      <td>51035.492870</td>\n",
       "      <td>11595.502940</td>\n",
       "    </tr>\n",
       "  </tbody>\n",
       "</table>\n",
       "</div>"
      ],
      "text/plain": [
       "       Некачественное ГДИС  Влияние ствола скважины  Радиальный режим  \\\n",
       "count         45141.000000             45141.000000      45141.000000   \n",
       "mean              0.160984                 0.787710          0.572761   \n",
       "std               0.367521                 0.408934          0.494683   \n",
       "min               0.000000                 0.000000          0.000000   \n",
       "25%               0.000000                 1.000000          0.000000   \n",
       "50%               0.000000                 1.000000          1.000000   \n",
       "75%               0.000000                 1.000000          1.000000   \n",
       "max               1.000000                 1.000000          1.000000   \n",
       "\n",
       "       Линейный режим  Билинейный режим  Сферический режим  \\\n",
       "count    45141.000000      45141.000000       45141.000000   \n",
       "mean         0.270508          0.267739           0.127689   \n",
       "std          0.444227          0.442786           0.333747   \n",
       "min          0.000000          0.000000           0.000000   \n",
       "25%          0.000000          0.000000           0.000000   \n",
       "50%          0.000000          0.000000           0.000000   \n",
       "75%          1.000000          1.000000           0.000000   \n",
       "max          1.000000          1.000000           1.000000   \n",
       "\n",
       "       Граница постоянного давления  Граница непроницаемый разлом  \\\n",
       "count                  45141.000000                  45141.000000   \n",
       "mean                       0.107973                      0.094482   \n",
       "std                        0.310349                      0.292501   \n",
       "min                        0.000000                      0.000000   \n",
       "25%                        0.000000                      0.000000   \n",
       "50%                        0.000000                      0.000000   \n",
       "75%                        0.000000                      0.000000   \n",
       "max                        1.000000                      1.000000   \n",
       "\n",
       "       Влияние ствола скважины_details  Радиальный режим_details  \\\n",
       "count                     35558.000000              25855.000000   \n",
       "mean                          1.719234                  1.140486   \n",
       "std                           1.537100                  1.155191   \n",
       "min                          -3.843521                 -3.707246   \n",
       "25%                           0.914535                  0.504870   \n",
       "50%                           1.589366                  0.959171   \n",
       "75%                           2.256645                  1.422883   \n",
       "max                          31.777765                  6.408605   \n",
       "\n",
       "       Линейный режим_details  Билинейный режим_details  \\\n",
       "count            12211.000000              12086.000000   \n",
       "mean                 0.605509                  0.934330   \n",
       "std                  1.012616                  1.166539   \n",
       "min                 -4.109357                 -3.332898   \n",
       "25%                  0.028459                  0.327374   \n",
       "50%                  0.516372                  0.720093   \n",
       "75%                  1.024682                  1.130444   \n",
       "max                 29.027806                 29.129381   \n",
       "\n",
       "       Сферический режим_details  Граница постоянного давления_details  \\\n",
       "count                5764.000000                           4874.000000   \n",
       "mean                    1.292040                            144.019966   \n",
       "std                     0.982978                            782.593841   \n",
       "min                    -5.164659                              0.006653   \n",
       "25%                     0.743594                             18.335495   \n",
       "50%                     1.296814                             55.182021   \n",
       "75%                     1.808614                            134.488126   \n",
       "max                     6.631359                          51035.492870   \n",
       "\n",
       "       Граница непроницаемый разлом_details  \n",
       "count                           4265.000000  \n",
       "mean                             160.928583  \n",
       "std                              339.370082  \n",
       "min                                0.010753  \n",
       "25%                               29.301152  \n",
       "50%                               75.822331  \n",
       "75%                              182.395620  \n",
       "max                            11595.502940  "
      ]
     },
     "execution_count": 18,
     "metadata": {},
     "output_type": "execute_result"
    }
   ],
   "source": [
    "df.describe()"
   ]
  },
  {
   "cell_type": "code",
   "execution_count": 18,
   "id": "263c0af7-2276-4920-bb35-967709f892d2",
   "metadata": {
    "scrolled": true
   },
   "outputs": [
    {
     "data": {
      "text/html": [
       "<div>\n",
       "<style scoped>\n",
       "    .dataframe tbody tr th:only-of-type {\n",
       "        vertical-align: middle;\n",
       "    }\n",
       "\n",
       "    .dataframe tbody tr th {\n",
       "        vertical-align: top;\n",
       "    }\n",
       "\n",
       "    .dataframe thead th {\n",
       "        text-align: right;\n",
       "    }\n",
       "</style>\n",
       "<table border=\"1\" class=\"dataframe\">\n",
       "  <thead>\n",
       "    <tr style=\"text-align: right;\">\n",
       "      <th></th>\n",
       "      <th>Некачественное ГДИС</th>\n",
       "      <th>Влияние ствола скважины</th>\n",
       "      <th>Радиальный режим</th>\n",
       "      <th>Линейный режим</th>\n",
       "      <th>Билинейный режим</th>\n",
       "      <th>Сферический режим</th>\n",
       "      <th>Граница постоянного давления</th>\n",
       "      <th>Граница непроницаемый разлом</th>\n",
       "      <th>Влияние ствола скважины_details</th>\n",
       "      <th>Радиальный режим_details</th>\n",
       "      <th>Линейный режим_details</th>\n",
       "      <th>Билинейный режим_details</th>\n",
       "      <th>Сферический режим_details</th>\n",
       "      <th>Граница постоянного давления_details</th>\n",
       "      <th>Граница непроницаемый разлом_details</th>\n",
       "    </tr>\n",
       "  </thead>\n",
       "  <tbody>\n",
       "    <tr>\n",
       "      <th>count</th>\n",
       "      <td>500.00000</td>\n",
       "      <td>500.000000</td>\n",
       "      <td>500.000000</td>\n",
       "      <td>500.000000</td>\n",
       "      <td>500.000000</td>\n",
       "      <td>500.000000</td>\n",
       "      <td>500.000000</td>\n",
       "      <td>500.000000</td>\n",
       "      <td>500.000000</td>\n",
       "      <td>500.000000</td>\n",
       "      <td>500.000000</td>\n",
       "      <td>500.000000</td>\n",
       "      <td>500.000000</td>\n",
       "      <td>500.000000</td>\n",
       "      <td>500.000000</td>\n",
       "    </tr>\n",
       "    <tr>\n",
       "      <th>mean</th>\n",
       "      <td>0.14600</td>\n",
       "      <td>0.802000</td>\n",
       "      <td>0.574000</td>\n",
       "      <td>0.208000</td>\n",
       "      <td>0.194000</td>\n",
       "      <td>0.138000</td>\n",
       "      <td>0.168000</td>\n",
       "      <td>0.170000</td>\n",
       "      <td>1.514535</td>\n",
       "      <td>0.830428</td>\n",
       "      <td>0.557185</td>\n",
       "      <td>0.699741</td>\n",
       "      <td>1.112256</td>\n",
       "      <td>163.048661</td>\n",
       "      <td>124.206743</td>\n",
       "    </tr>\n",
       "    <tr>\n",
       "      <th>std</th>\n",
       "      <td>0.35346</td>\n",
       "      <td>0.398891</td>\n",
       "      <td>0.494989</td>\n",
       "      <td>0.406283</td>\n",
       "      <td>0.395825</td>\n",
       "      <td>0.345245</td>\n",
       "      <td>0.374241</td>\n",
       "      <td>0.376009</td>\n",
       "      <td>1.490684</td>\n",
       "      <td>0.970351</td>\n",
       "      <td>1.073124</td>\n",
       "      <td>0.939794</td>\n",
       "      <td>0.982531</td>\n",
       "      <td>356.043289</td>\n",
       "      <td>245.323979</td>\n",
       "    </tr>\n",
       "    <tr>\n",
       "      <th>min</th>\n",
       "      <td>0.00000</td>\n",
       "      <td>0.000000</td>\n",
       "      <td>0.000000</td>\n",
       "      <td>0.000000</td>\n",
       "      <td>0.000000</td>\n",
       "      <td>0.000000</td>\n",
       "      <td>0.000000</td>\n",
       "      <td>0.000000</td>\n",
       "      <td>-0.986945</td>\n",
       "      <td>-0.970029</td>\n",
       "      <td>-0.996172</td>\n",
       "      <td>-0.979064</td>\n",
       "      <td>-0.967487</td>\n",
       "      <td>-0.221184</td>\n",
       "      <td>0.221630</td>\n",
       "    </tr>\n",
       "    <tr>\n",
       "      <th>25%</th>\n",
       "      <td>0.00000</td>\n",
       "      <td>1.000000</td>\n",
       "      <td>0.000000</td>\n",
       "      <td>0.000000</td>\n",
       "      <td>0.000000</td>\n",
       "      <td>0.000000</td>\n",
       "      <td>0.000000</td>\n",
       "      <td>0.000000</td>\n",
       "      <td>0.675532</td>\n",
       "      <td>0.275074</td>\n",
       "      <td>-0.142879</td>\n",
       "      <td>0.187088</td>\n",
       "      <td>0.451885</td>\n",
       "      <td>20.222968</td>\n",
       "      <td>21.503734</td>\n",
       "    </tr>\n",
       "    <tr>\n",
       "      <th>50%</th>\n",
       "      <td>0.00000</td>\n",
       "      <td>1.000000</td>\n",
       "      <td>1.000000</td>\n",
       "      <td>0.000000</td>\n",
       "      <td>0.000000</td>\n",
       "      <td>0.000000</td>\n",
       "      <td>0.000000</td>\n",
       "      <td>0.000000</td>\n",
       "      <td>1.461642</td>\n",
       "      <td>0.756100</td>\n",
       "      <td>0.401800</td>\n",
       "      <td>0.635850</td>\n",
       "      <td>1.088484</td>\n",
       "      <td>58.536489</td>\n",
       "      <td>63.128304</td>\n",
       "    </tr>\n",
       "    <tr>\n",
       "      <th>75%</th>\n",
       "      <td>0.00000</td>\n",
       "      <td>1.000000</td>\n",
       "      <td>1.000000</td>\n",
       "      <td>0.000000</td>\n",
       "      <td>0.000000</td>\n",
       "      <td>0.000000</td>\n",
       "      <td>0.000000</td>\n",
       "      <td>0.000000</td>\n",
       "      <td>2.082922</td>\n",
       "      <td>1.264266</td>\n",
       "      <td>1.014480</td>\n",
       "      <td>1.063428</td>\n",
       "      <td>1.763843</td>\n",
       "      <td>149.523001</td>\n",
       "      <td>143.859237</td>\n",
       "    </tr>\n",
       "    <tr>\n",
       "      <th>max</th>\n",
       "      <td>1.00000</td>\n",
       "      <td>1.000000</td>\n",
       "      <td>1.000000</td>\n",
       "      <td>1.000000</td>\n",
       "      <td>1.000000</td>\n",
       "      <td>1.000000</td>\n",
       "      <td>1.000000</td>\n",
       "      <td>1.000000</td>\n",
       "      <td>8.099486</td>\n",
       "      <td>4.855204</td>\n",
       "      <td>5.677583</td>\n",
       "      <td>5.567347</td>\n",
       "      <td>5.377112</td>\n",
       "      <td>3874.457503</td>\n",
       "      <td>4403.262055</td>\n",
       "    </tr>\n",
       "  </tbody>\n",
       "</table>\n",
       "</div>"
      ],
      "text/plain": [
       "       Некачественное ГДИС  Влияние ствола скважины  Радиальный режим  \\\n",
       "count            500.00000               500.000000        500.000000   \n",
       "mean               0.14600                 0.802000          0.574000   \n",
       "std                0.35346                 0.398891          0.494989   \n",
       "min                0.00000                 0.000000          0.000000   \n",
       "25%                0.00000                 1.000000          0.000000   \n",
       "50%                0.00000                 1.000000          1.000000   \n",
       "75%                0.00000                 1.000000          1.000000   \n",
       "max                1.00000                 1.000000          1.000000   \n",
       "\n",
       "       Линейный режим  Билинейный режим  Сферический режим  \\\n",
       "count      500.000000        500.000000         500.000000   \n",
       "mean         0.208000          0.194000           0.138000   \n",
       "std          0.406283          0.395825           0.345245   \n",
       "min          0.000000          0.000000           0.000000   \n",
       "25%          0.000000          0.000000           0.000000   \n",
       "50%          0.000000          0.000000           0.000000   \n",
       "75%          0.000000          0.000000           0.000000   \n",
       "max          1.000000          1.000000           1.000000   \n",
       "\n",
       "       Граница постоянного давления  Граница непроницаемый разлом  \\\n",
       "count                    500.000000                    500.000000   \n",
       "mean                       0.168000                      0.170000   \n",
       "std                        0.374241                      0.376009   \n",
       "min                        0.000000                      0.000000   \n",
       "25%                        0.000000                      0.000000   \n",
       "50%                        0.000000                      0.000000   \n",
       "75%                        0.000000                      0.000000   \n",
       "max                        1.000000                      1.000000   \n",
       "\n",
       "       Влияние ствола скважины_details  Радиальный режим_details  \\\n",
       "count                       500.000000                500.000000   \n",
       "mean                          1.514535                  0.830428   \n",
       "std                           1.490684                  0.970351   \n",
       "min                          -0.986945                 -0.970029   \n",
       "25%                           0.675532                  0.275074   \n",
       "50%                           1.461642                  0.756100   \n",
       "75%                           2.082922                  1.264266   \n",
       "max                           8.099486                  4.855204   \n",
       "\n",
       "       Линейный режим_details  Билинейный режим_details  \\\n",
       "count              500.000000                500.000000   \n",
       "mean                 0.557185                  0.699741   \n",
       "std                  1.073124                  0.939794   \n",
       "min                 -0.996172                 -0.979064   \n",
       "25%                 -0.142879                  0.187088   \n",
       "50%                  0.401800                  0.635850   \n",
       "75%                  1.014480                  1.063428   \n",
       "max                  5.677583                  5.567347   \n",
       "\n",
       "       Сферический режим_details  Граница постоянного давления_details  \\\n",
       "count                 500.000000                            500.000000   \n",
       "mean                    1.112256                            163.048661   \n",
       "std                     0.982531                            356.043289   \n",
       "min                    -0.967487                             -0.221184   \n",
       "25%                     0.451885                             20.222968   \n",
       "50%                     1.088484                             58.536489   \n",
       "75%                     1.763843                            149.523001   \n",
       "max                     5.377112                           3874.457503   \n",
       "\n",
       "       Граница непроницаемый разлом_details  \n",
       "count                            500.000000  \n",
       "mean                             124.206743  \n",
       "std                              245.323979  \n",
       "min                                0.221630  \n",
       "25%                               21.503734  \n",
       "50%                               63.128304  \n",
       "75%                              143.859237  \n",
       "max                             4403.262055  "
      ]
     },
     "execution_count": 18,
     "metadata": {},
     "output_type": "execute_result"
    }
   ],
   "source": [
    "ch.describe()"
   ]
  },
  {
   "cell_type": "code",
   "execution_count": 14,
   "id": "03271da1-b416-441c-a9b2-d70370465fb2",
   "metadata": {},
   "outputs": [],
   "source": [
    "sb = pd.read_csv('E:/DS/data/siam/bi/inference/random/submit1.csv')\n",
    "columns_b=['Некачественное ГДИС',\n",
    "       'Влияние ствола скважины', 'Радиальный режим', 'Линейный режим',\n",
    "       'Билинейный режим', 'Сферический режим', 'Граница постоянного давления',\n",
    "       'Граница непроницаемый разлом', ]\n",
    "columns_r=['Влияние ствола скважины_details',\n",
    "       'Радиальный режим_details', 'Линейный режим_details',\n",
    "       'Билинейный режим_details', 'Сферический режим_details',\n",
    "       'Граница постоянного давления_details',\n",
    "       'Граница непроницаемый разлом_details']\n",
    "\n",
    "columns_b_2 = ['binary_Некачественное ГДИС', \n",
    "       'binary_Влияние ствола скважины', \n",
    "       'binary_Радиальный режим',\n",
    "       'binary_Линейный режим', \n",
    "       'binary_Билинейный режим', \n",
    "       'binary_Сферический режим', \n",
    "       'binary_Граница постоянного давления',\n",
    "       'binary_Граница непроницаемый разлом',]\n",
    "columns_r_2 =['regression_Влияние ствола скважины_details',\n",
    "       'regression_Радиальный режим_details',\n",
    "       'regression_Линейный режим_details',\n",
    "       'regression_Билинейный режим_details',\n",
    "       'regression_Сферический режим_details',\n",
    "       'regression_Граница постоянного давления_details',\n",
    "       'regression_Граница непроницаемый разлом_details']"
   ]
  },
  {
   "cell_type": "code",
   "execution_count": 17,
   "id": "6912c63a-3b0d-4430-b4bb-9cb5ba53b9b1",
   "metadata": {},
   "outputs": [],
   "source": [
    "ch.columns  = ['file_name']+columns_b+columns_r"
   ]
  },
  {
   "cell_type": "code",
   "execution_count": 19,
   "id": "7ffcf5a6-131a-4e03-b50e-dec982975324",
   "metadata": {},
   "outputs": [],
   "source": [
    "ch = sb[['file_name']].merge(ch)"
   ]
  },
  {
   "cell_type": "code",
   "execution_count": 20,
   "id": "dd0d7ca6-659e-4ff2-8f83-899090f90340",
   "metadata": {},
   "outputs": [],
   "source": [
    "ch.to_csv('E:/DS/data/siam/bi/inference/trans_enc_v1/inf_l1p_ts3_v2_tr.csv',index=False)"
   ]
  },
  {
   "cell_type": "markdown",
   "id": "62031078-0c3b-4700-ad36-217df47c327c",
   "metadata": {},
   "source": [
    "# blend"
   ]
  },
  {
   "cell_type": "code",
   "execution_count": null,
   "id": "c0e2b558-56fd-4490-951b-6876df671547",
   "metadata": {},
   "outputs": [],
   "source": []
  }
 ],
 "metadata": {
  "kernelspec": {
   "display_name": "Python 3 (ipykernel)",
   "language": "python",
   "name": "python3"
  },
  "language_info": {
   "codemirror_mode": {
    "name": "ipython",
    "version": 3
   },
   "file_extension": ".py",
   "mimetype": "text/x-python",
   "name": "python",
   "nbconvert_exporter": "python",
   "pygments_lexer": "ipython3",
   "version": "3.10.16"
  }
 },
 "nbformat": 4,
 "nbformat_minor": 5
}
