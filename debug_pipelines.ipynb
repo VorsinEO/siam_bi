{
 "cells": [
  {
   "cell_type": "code",
   "execution_count": 1,
   "id": "a10560b0-6fa7-4b81-a589-cb9866513446",
   "metadata": {},
   "outputs": [],
   "source": [
    "%load_ext autoreload\n",
    "%autoreload 2"
   ]
  },
  {
   "cell_type": "code",
   "execution_count": 2,
   "id": "5fd7cd27-fbe5-45f2-9d98-303b05adbfe0",
   "metadata": {},
   "outputs": [],
   "source": [
    "from dataloader import create_data_loader,WellDataset\n",
    "from model import TransformerModel, TransformerModel_ver2\n",
    "from train import train_model\n",
    "\n"
   ]
  },
  {
   "cell_type": "markdown",
   "id": "42ae5004-af7f-4301-a0df-2115b4fd2afc",
   "metadata": {},
   "source": [
    "# Dataloader"
   ]
  },
  {
   "cell_type": "code",
   "execution_count": null,
   "id": "51f8bc18-fadd-48f4-a1e0-9aae69ed772a",
   "metadata": {},
   "outputs": [],
   "source": []
  },
  {
   "cell_type": "code",
   "execution_count": 37,
   "id": "4517d45c-92f0-4e9a-99ad-82161139ae46",
   "metadata": {},
   "outputs": [
    {
     "name": "stdout",
     "output_type": "stream",
     "text": [
      "Preprocessing time series data...\n"
     ]
    },
    {
     "name": "stderr",
     "output_type": "stream",
     "text": [
      "100%|██████████████████████████████████████████████████████████████████████████████| 996/996 [00:00<00:00, 2131.08it/s]"
     ]
    },
    {
     "name": "stdout",
     "output_type": "stream",
     "text": [
      "Preprocessed 996 time series\n"
     ]
    },
    {
     "name": "stderr",
     "output_type": "stream",
     "text": [
      "\n"
     ]
    }
   ],
   "source": [
    "dataset = WellDataset(\n",
    "        csv_path='E:/DS/data/siam/deb/tg.csv',\n",
    "        parquet_path='E:/DS/data/siam/deb/data.parquet',\n",
    "        max_seq_len=20\n",
    "    )"
   ]
  },
  {
   "cell_type": "code",
   "execution_count": 38,
   "id": "f3540367-bb25-4ae0-aab3-9f5b7ddcb1cb",
   "metadata": {},
   "outputs": [
    {
     "data": {
      "text/plain": [
       "{'binary': array([0, 0, 1, 1, 0, 1, 0, 0], dtype=object),\n",
       " 'regression': array([nan, 1.013299184, 2.102156549, nan, 1.10329706, nan, nan],\n",
       "       dtype=object),\n",
       " 'regression_mask': array([False,  True,  True, False,  True, False, False])}"
      ]
     },
     "execution_count": 38,
     "metadata": {},
     "output_type": "execute_result"
    }
   ],
   "source": [
    "dataset.label_dict['7035127a-7d2c-4df2-8731-dfcf69eff50f']"
   ]
  },
  {
   "cell_type": "code",
   "execution_count": 39,
   "id": "b6602dfb-0531-46a0-ab68-3528374ed197",
   "metadata": {},
   "outputs": [
    {
     "data": {
      "text/plain": [
       "array([0, 0, 1, 1, 0, 1, 0, 0], dtype=object)"
      ]
     },
     "execution_count": 39,
     "metadata": {},
     "output_type": "execute_result"
    }
   ],
   "source": [
    "dataset.label_dict['7035127a-7d2c-4df2-8731-dfcf69eff50f']['binary']"
   ]
  },
  {
   "cell_type": "code",
   "execution_count": null,
   "id": "85c66d1c-3b4c-4307-a0d0-2765548e6086",
   "metadata": {},
   "outputs": [],
   "source": [
    "   timeseries_df: pd.DataFrame,\n",
    "    binary_targets_df = 'E:/DS/data/siam/deb/tg.csv',\n",
    "    regression_targets_df: pd.DataFrame,\n",
    "    sequence_length: int = 1000,\n",
    "    stride: int = 100,\n",
    "    transform: Optional[Callable] = None,\n",
    "    batch_size: int = 32,\n",
    "    shuffle: bool = True,\n",
    "    num_workers: int = 4"
   ]
  },
  {
   "cell_type": "code",
   "execution_count": 41,
   "id": "e210df8f-eda2-4750-bc2f-bb6241989e82",
   "metadata": {},
   "outputs": [
    {
     "name": "stdout",
     "output_type": "stream",
     "text": [
      "Preprocessing time series data...\n"
     ]
    },
    {
     "name": "stderr",
     "output_type": "stream",
     "text": [
      "100%|██████████████████████████████████████████████████████████████████████████████| 996/996 [00:00<00:00, 1768.49it/s]\n"
     ]
    },
    {
     "name": "stdout",
     "output_type": "stream",
     "text": [
      "Preprocessed 996 time series\n"
     ]
    }
   ],
   "source": [
    "# Create data loaders\n",
    "train_loader = create_data_loader(\n",
    "    csv_path='E:/DS/data/siam/deb/tg.csv',\n",
    "    parquet_path='E:/DS/data/siam/deb/data.parquet',\n",
    "    batch_size=32,\n",
    "    max_seq_len=512,\n",
    "    shuffle = False,\n",
    "    num_workers = 0,\n",
    ")"
   ]
  },
  {
   "cell_type": "code",
   "execution_count": 45,
   "id": "16da30b2-32e8-4858-8e50-42b1108b475b",
   "metadata": {},
   "outputs": [],
   "source": [
    "import pandas as pd"
   ]
  },
  {
   "cell_type": "code",
   "execution_count": 46,
   "id": "4db35472-da17-4b5b-a498-b32d58b42f70",
   "metadata": {},
   "outputs": [],
   "source": [
    "ch = pd.read_csv('E:/DS/data/siam/deb/tg.csv')"
   ]
  },
  {
   "cell_type": "code",
   "execution_count": 47,
   "id": "0f2fd876-689f-43c1-85b0-5bbab4eeeadb",
   "metadata": {},
   "outputs": [],
   "source": [
    "ch2 = pd.read_parquet('E:/DS/data/siam/deb/data.parquet')"
   ]
  },
  {
   "cell_type": "code",
   "execution_count": 50,
   "id": "66adebaa-be34-4d60-82c9-a0ee688ccfa6",
   "metadata": {},
   "outputs": [
    {
     "data": {
      "text/plain": [
       "1000"
      ]
     },
     "execution_count": 50,
     "metadata": {},
     "output_type": "execute_result"
    }
   ],
   "source": [
    "ch.file_name.nunique()"
   ]
  },
  {
   "cell_type": "code",
   "execution_count": 48,
   "id": "4b5e3baa-4084-41c5-9467-c3da60f5cd25",
   "metadata": {},
   "outputs": [
    {
     "data": {
      "text/html": [
       "<div>\n",
       "<style scoped>\n",
       "    .dataframe tbody tr th:only-of-type {\n",
       "        vertical-align: middle;\n",
       "    }\n",
       "\n",
       "    .dataframe tbody tr th {\n",
       "        vertical-align: top;\n",
       "    }\n",
       "\n",
       "    .dataframe thead th {\n",
       "        text-align: right;\n",
       "    }\n",
       "</style>\n",
       "<table border=\"1\" class=\"dataframe\">\n",
       "  <thead>\n",
       "    <tr style=\"text-align: right;\">\n",
       "      <th></th>\n",
       "      <th>file_name</th>\n",
       "      <th>time</th>\n",
       "      <th>atm</th>\n",
       "      <th>der_atm</th>\n",
       "    </tr>\n",
       "  </thead>\n",
       "  <tbody>\n",
       "  </tbody>\n",
       "</table>\n",
       "</div>"
      ],
      "text/plain": [
       "Empty DataFrame\n",
       "Columns: [file_name, time, atm, der_atm]\n",
       "Index: []"
      ]
     },
     "execution_count": 48,
     "metadata": {},
     "output_type": "execute_result"
    }
   ],
   "source": [
    "ch2[ch2.file_name=='af3cb4de-72a7-4a55-b288-04f741eb2138']"
   ]
  },
  {
   "cell_type": "code",
   "execution_count": 6,
   "id": "302044f4-d30e-4874-a0a9-eb534c93f06f",
   "metadata": {},
   "outputs": [],
   "source": [
    "b = next(iter(dataset))"
   ]
  },
  {
   "cell_type": "code",
   "execution_count": 42,
   "id": "45998aca-6252-4f01-80b2-5aa447422a21",
   "metadata": {},
   "outputs": [
    {
     "name": "stdout",
     "output_type": "stream",
     "text": [
      "Warning: Missing time series for af3cb4de-72a7-4a55-b288-04f741eb2138\n"
     ]
    }
   ],
   "source": [
    "batch = next(iter(train_loader))"
   ]
  },
  {
   "cell_type": "code",
   "execution_count": 43,
   "id": "14e33caa-e6a2-4905-b2e9-f6a71c97fd0e",
   "metadata": {
    "collapsed": true,
    "jupyter": {
     "outputs_hidden": true
    }
   },
   "outputs": [
    {
     "data": {
      "text/plain": [
       "{'input_features': tensor([[[8.3333e-03, 1.6684e+01, 1.0773e+01],\n",
       "          [1.6667e-02, 2.6314e+01, 1.7047e+01],\n",
       "          [2.5000e-02, 3.3954e+01, 2.0997e+01],\n",
       "          ...,\n",
       "          [0.0000e+00, 0.0000e+00, 0.0000e+00],\n",
       "          [0.0000e+00, 0.0000e+00, 0.0000e+00],\n",
       "          [0.0000e+00, 0.0000e+00, 0.0000e+00]],\n",
       " \n",
       "         [[8.3333e-03, 4.2215e+04, 8.4655e+04],\n",
       "          [1.6667e-02, 8.5542e+04, 4.0427e+04],\n",
       "          [2.5000e-02, 9.6681e+04, 2.5501e+04],\n",
       "          ...,\n",
       "          [0.0000e+00, 0.0000e+00, 0.0000e+00],\n",
       "          [0.0000e+00, 0.0000e+00, 0.0000e+00],\n",
       "          [0.0000e+00, 0.0000e+00, 0.0000e+00]],\n",
       " \n",
       "         [[1.6667e-02, 2.7870e-02, 2.1391e-02],\n",
       "          [3.3333e-02, 5.5401e-02, 5.8148e-02],\n",
       "          [5.0000e-02, 8.3271e-02, 9.9316e-02],\n",
       "          ...,\n",
       "          [0.0000e+00, 0.0000e+00, 0.0000e+00],\n",
       "          [0.0000e+00, 0.0000e+00, 0.0000e+00],\n",
       "          [0.0000e+00, 0.0000e+00, 0.0000e+00]],\n",
       " \n",
       "         ...,\n",
       " \n",
       "         [[1.4681e-02, 8.1104e-01, 1.0251e+00],\n",
       "          [3.1348e-02, 1.9329e+00, 1.9326e+00],\n",
       "          [4.8014e-02, 2.8656e+00, 2.5027e+00],\n",
       "          ...,\n",
       "          [0.0000e+00, 0.0000e+00, 0.0000e+00],\n",
       "          [0.0000e+00, 0.0000e+00, 0.0000e+00],\n",
       "          [0.0000e+00, 0.0000e+00, 0.0000e+00]],\n",
       " \n",
       "         [[1.6667e-02, 2.8215e-01, 6.6926e-02],\n",
       "          [3.3333e-02, 4.7366e-01, 4.8566e-01],\n",
       "          [5.0000e-02, 7.2024e-01, 5.9028e-01],\n",
       "          ...,\n",
       "          [0.0000e+00, 0.0000e+00, 0.0000e+00],\n",
       "          [0.0000e+00, 0.0000e+00, 0.0000e+00],\n",
       "          [0.0000e+00, 0.0000e+00, 0.0000e+00]],\n",
       " \n",
       "         [[4.4044e-01, 1.9607e+01, 1.0242e+01],\n",
       "          [4.7044e-01, 2.0923e+01, 2.1559e+01],\n",
       "          [5.0044e-01, 2.1969e+01, 1.9001e+01],\n",
       "          ...,\n",
       "          [0.0000e+00, 0.0000e+00, 0.0000e+00],\n",
       "          [0.0000e+00, 0.0000e+00, 0.0000e+00],\n",
       "          [0.0000e+00, 0.0000e+00, 0.0000e+00]]]),\n",
       " 'attention_mask': tensor([[1., 1., 1.,  ..., 0., 0., 0.],\n",
       "         [1., 1., 1.,  ..., 0., 0., 0.],\n",
       "         [1., 1., 1.,  ..., 0., 0., 0.],\n",
       "         ...,\n",
       "         [1., 1., 1.,  ..., 0., 0., 0.],\n",
       "         [1., 1., 1.,  ..., 0., 0., 0.],\n",
       "         [1., 1., 1.,  ..., 0., 0., 0.]]),\n",
       " 'binary_targets': tensor([[0., 0., 1., 1., 0., 1., 0., 0.],\n",
       "         [0., 0., 1., 0., 1., 0., 0., 0.],\n",
       "         [0., 1., 1., 0., 0., 1., 0., 0.],\n",
       "         [0., 1., 0., 0., 1., 1., 0., 0.],\n",
       "         [0., 0., 0., 0., 0., 0., 0., 0.],\n",
       "         [0., 0., 1., 0., 1., 1., 0., 0.],\n",
       "         [1., 0., 0., 0., 0., 0., 0., 0.],\n",
       "         [1., 1., 1., 0., 0., 0., 0., 0.],\n",
       "         [0., 0., 1., 0., 0., 0., 0., 0.],\n",
       "         [0., 1., 0., 0., 1., 0., 0., 0.],\n",
       "         [0., 1., 0., 0., 1., 0., 0., 0.],\n",
       "         [0., 1., 1., 0., 0., 0., 0., 0.],\n",
       "         [0., 1., 1., 0., 0., 0., 0., 1.],\n",
       "         [0., 0., 1., 1., 0., 0., 0., 0.],\n",
       "         [1., 0., 0., 0., 0., 0., 0., 0.],\n",
       "         [0., 1., 1., 0., 1., 0., 0., 0.],\n",
       "         [0., 1., 0., 0., 0., 0., 0., 1.],\n",
       "         [0., 1., 1., 0., 0., 0., 0., 1.],\n",
       "         [0., 0., 0., 1., 0., 0., 0., 0.],\n",
       "         [0., 1., 0., 0., 0., 0., 0., 0.],\n",
       "         [0., 1., 1., 0., 1., 0., 0., 0.],\n",
       "         [1., 1., 1., 0., 0., 0., 0., 0.],\n",
       "         [0., 1., 1., 1., 0., 0., 0., 0.],\n",
       "         [0., 1., 0., 1., 1., 0., 0., 0.],\n",
       "         [0., 1., 1., 0., 0., 0., 0., 0.],\n",
       "         [1., 0., 0., 0., 0., 0., 0., 0.],\n",
       "         [0., 1., 1., 0., 0., 0., 1., 0.],\n",
       "         [0., 1., 0., 0., 0., 0., 0., 0.],\n",
       "         [0., 1., 0., 1., 0., 0., 0., 0.],\n",
       "         [0., 1., 1., 1., 0., 0., 0., 0.],\n",
       "         [0., 1., 0., 1., 0., 0., 0., 0.],\n",
       "         [0., 1., 1., 0., 0., 1., 0., 0.]]),\n",
       " 'regression_targets': tensor([[  0.0000,   1.0133,   2.1022,   0.0000,   1.1033,   0.0000,   0.0000],\n",
       "         [  0.0000,   4.4591,   0.0000,   4.3518,   0.0000,   0.0000,   0.0000],\n",
       "         [  0.2132,   0.7041,   0.0000,   0.0000,   1.3153,   0.0000,   0.0000],\n",
       "         [  2.1328,   0.0000,   0.0000,   1.0962,   1.6160,   0.0000,   0.0000],\n",
       "         [  0.0000,   0.0000,   0.0000,   0.0000,   0.0000,   0.0000,   0.0000],\n",
       "         [  0.0000,  -0.9614,   0.0000,  -1.1814,  -1.7847,   0.0000,   0.0000],\n",
       "         [  0.0000,   0.0000,   0.0000,   0.0000,   0.0000,   0.0000,   0.0000],\n",
       "         [  3.2346,   0.7571,   0.0000,   0.0000,   0.0000,   0.0000,   0.0000],\n",
       "         [  0.0000,   0.3057,   0.0000,   0.0000,   0.0000,   0.0000,   0.0000],\n",
       "         [  6.9445,   0.0000,   0.0000,   3.9789,   0.0000,   0.0000,   0.0000],\n",
       "         [  1.7435,   0.0000,   0.0000,   1.2566,   0.0000,   0.0000,   0.0000],\n",
       "         [  1.7908,   0.3918,   0.0000,   0.0000,   0.0000,   0.0000,   0.0000],\n",
       "         [  1.5449,   0.6599,   0.0000,   0.0000,   0.0000,   0.0000,  43.2281],\n",
       "         [  0.0000,   1.1122,   1.4900,   0.0000,   0.0000,   0.0000,   0.0000],\n",
       "         [  0.0000,   0.0000,   0.0000,   0.0000,   0.0000,   0.0000,   0.0000],\n",
       "         [  6.8112,   3.7470,   0.0000,   3.6973,   0.0000,   0.0000,   0.0000],\n",
       "         [  0.4963,   0.0000,   0.0000,   0.0000,   0.0000,   0.0000, 131.4584],\n",
       "         [  2.3592,   0.8863,   0.0000,   0.0000,   0.0000,   0.0000,  27.8320],\n",
       "         [  0.0000,   0.0000,  -2.3263,   0.0000,   0.0000,   0.0000,   0.0000],\n",
       "         [  2.0347,   0.0000,   0.0000,   0.0000,   0.0000,   0.0000,   0.0000],\n",
       "         [  1.3290,   0.8101,   0.0000,   0.4109,   0.0000,   0.0000,   0.0000],\n",
       "         [  0.1576,   0.4970,   0.0000,   0.0000,   0.0000,   0.0000,   0.0000],\n",
       "         [  1.5696,   0.8732,  -0.2303,   0.0000,   0.0000,   0.0000,   0.0000],\n",
       "         [  1.8767,   0.0000,   0.3156,   0.4162,   0.0000,   0.0000,   0.0000],\n",
       "         [  3.1261,   0.6867,   0.0000,   0.0000,   0.0000,   0.0000,   0.0000],\n",
       "         [  0.0000,   0.0000,   0.0000,   0.0000,   0.0000,   0.0000,   0.0000],\n",
       "         [ -0.6493,  -0.5282,   0.0000,   0.0000,   0.0000,  50.6105,   0.0000],\n",
       "         [  1.6596,   0.0000,   0.0000,   0.0000,   0.0000,   0.0000,   0.0000],\n",
       "         [  2.6865,   0.0000,   0.7934,   0.0000,   0.0000,   0.0000,   0.0000],\n",
       "         [  1.7679,   0.9488,  -0.5842,   0.0000,   0.0000,   0.0000,   0.0000],\n",
       "         [  1.1122,   0.0000,  -1.1253,   0.0000,   0.0000,   0.0000,   0.0000],\n",
       "         [  1.6370,   0.8317,   0.0000,   0.0000,   1.2023,   0.0000,   0.0000]]),\n",
       " 'regression_mask': tensor([[False,  True,  True, False,  True, False, False],\n",
       "         [False,  True, False,  True, False, False, False],\n",
       "         [ True,  True, False, False,  True, False, False],\n",
       "         [ True, False, False,  True,  True, False, False],\n",
       "         [False, False, False, False, False, False, False],\n",
       "         [False,  True, False,  True,  True, False, False],\n",
       "         [False, False, False, False, False, False, False],\n",
       "         [ True,  True, False, False, False, False, False],\n",
       "         [False,  True, False, False, False, False, False],\n",
       "         [ True, False, False,  True, False, False, False],\n",
       "         [ True, False, False,  True, False, False, False],\n",
       "         [ True,  True, False, False, False, False, False],\n",
       "         [ True,  True, False, False, False, False,  True],\n",
       "         [False,  True,  True, False, False, False, False],\n",
       "         [False, False, False, False, False, False, False],\n",
       "         [ True,  True, False,  True, False, False, False],\n",
       "         [ True, False, False, False, False, False,  True],\n",
       "         [ True,  True, False, False, False, False,  True],\n",
       "         [False, False,  True, False, False, False, False],\n",
       "         [ True, False, False, False, False, False, False],\n",
       "         [ True,  True, False,  True, False, False, False],\n",
       "         [ True,  True, False, False, False, False, False],\n",
       "         [ True,  True,  True, False, False, False, False],\n",
       "         [ True, False,  True,  True, False, False, False],\n",
       "         [ True,  True, False, False, False, False, False],\n",
       "         [False, False, False, False, False, False, False],\n",
       "         [ True,  True, False, False, False,  True, False],\n",
       "         [ True, False, False, False, False, False, False],\n",
       "         [ True, False,  True, False, False, False, False],\n",
       "         [ True,  True,  True, False, False, False, False],\n",
       "         [ True, False,  True, False, False, False, False],\n",
       "         [ True,  True, False, False,  True, False, False]]),\n",
       " 'file_name': ['7035127a-7d2c-4df2-8731-dfcf69eff50f',\n",
       "  'c5e44e59-7d4f-4b18-aad5-6b75600d09e4',\n",
       "  'fba83813-122a-405f-9317-722f7f612bc8',\n",
       "  '94853e93-ee5a-4f7c-82cc-148bc29c7b39',\n",
       "  'df12b0fe-667f-4678-80a8-2f66d88b2566',\n",
       "  '866f2164-492e-4ba4-b80a-d6e0ee56a645',\n",
       "  '6e13437a-42b7-40fe-8898-07e35c4013c4',\n",
       "  'ec1c9c83-a0c5-4ddc-b96e-7c2e2d26e86b',\n",
       "  '09d36d9a-037b-4ea2-8c93-cba91126b6b0',\n",
       "  'f6b10a0e-fded-4c9e-9868-3f65b18122cf',\n",
       "  'd2ce7f2c-4e90-469f-9dbd-5a2cc7b13185',\n",
       "  '51c351ab-fb86-4d45-b432-2c071b98c50f',\n",
       "  '2b5fa290-bb95-4901-8ade-8aaf9184c51d',\n",
       "  'd840cbb0-4a7b-4580-989e-f8113242b40d',\n",
       "  '60be794b-67ec-4cee-9aab-463784831920',\n",
       "  '243ce162-ef8c-4b4e-8eff-f1f0bc9e1ff1',\n",
       "  'cbf86b78-3543-4eb9-9029-9dc83e9161b3',\n",
       "  '1a3a14df-4e93-4618-baef-dc715d408d44',\n",
       "  '20792141-9893-407d-a15a-ee7135f67028',\n",
       "  'acc53482-fe40-435d-852c-86377e99f172',\n",
       "  '4061fe15-cb42-4e91-b3b7-26d2830e7c19',\n",
       "  '9fcdcf91-b40a-494d-9340-6e9b85da9e55',\n",
       "  'e3441d3d-d1ba-4792-9ed2-295d1c64b5ac',\n",
       "  '4b5f3a07-abc0-4e63-a07b-40f5d1b3577e',\n",
       "  'b28d34bb-6be4-4bb7-a2a4-5c1ff537103d',\n",
       "  'af3cb4de-72a7-4a55-b288-04f741eb2138',\n",
       "  'e8dd0957-005e-4dc4-8b5c-4037fb4fd608',\n",
       "  '5a6f6d21-c880-4b6c-b2e7-36005eb44a86',\n",
       "  '3c510f32-8d38-429c-8b0b-1bb70c11792b',\n",
       "  'e6238b21-bd97-444c-8ce5-8b86a59d0e75',\n",
       "  'f363a948-b6ed-44fd-8555-8fb119c876b3',\n",
       "  'b4aacecd-8894-4510-a869-8963f9ea93ef']}"
      ]
     },
     "execution_count": 43,
     "metadata": {},
     "output_type": "execute_result"
    }
   ],
   "source": [
    "batch"
   ]
  },
  {
   "cell_type": "code",
   "execution_count": 7,
   "id": "679a55a2-fc02-4d66-815d-b7637ccacf6b",
   "metadata": {},
   "outputs": [
    {
     "data": {
      "text/plain": [
       "dict_keys(['input_features', 'attention_mask', 'binary_targets', 'regression_targets', 'regression_mask', 'file_name'])"
      ]
     },
     "execution_count": 7,
     "metadata": {},
     "output_type": "execute_result"
    }
   ],
   "source": [
    "batch.keys()"
   ]
  },
  {
   "cell_type": "markdown",
   "id": "ce6c751f-73c6-428d-953e-47a4e4de73e2",
   "metadata": {},
   "source": [
    "# Model"
   ]
  },
  {
   "cell_type": "code",
   "execution_count": null,
   "id": "4ed24baa-0d1e-46c6-8c5d-ee7fb21c8d72",
   "metadata": {},
   "outputs": [],
   "source": [
    "from model import WellTransformer\n",
    "from train import train_model"
   ]
  },
  {
   "cell_type": "code",
   "execution_count": 32,
   "id": "f1a81fe0-979d-4eb6-9b1a-cefcba9a76fc",
   "metadata": {},
   "outputs": [],
   "source": [
    "model = WellTransformer(\n",
    "    input_dim=3,\n",
    "    d_model=256,\n",
    "    nhead=8,\n",
    "    num_encoder_layers=6\n",
    ")"
   ]
  },
  {
   "cell_type": "code",
   "execution_count": 8,
   "id": "517b8c8f-4272-42c7-8986-0ff3d52636eb",
   "metadata": {},
   "outputs": [],
   "source": [
    "device='cuda'"
   ]
  },
  {
   "cell_type": "code",
   "execution_count": 9,
   "id": "4eadd527-74a5-47bb-bda6-aea9dae3f590",
   "metadata": {},
   "outputs": [],
   "source": [
    "batch = next(iter(train_loader))\n",
    "input_features = batch['input_features'].to(device)\n",
    "attention_mask = batch['attention_mask'].to(device)\n",
    "binary_targets = batch['binary_targets'].to(device)\n",
    "regression_targets = batch['regression_targets'].to(device)\n"
   ]
  },
  {
   "cell_type": "code",
   "execution_count": 33,
   "id": "a417d3d4-b684-4f16-ad87-0732f5ca6bf4",
   "metadata": {},
   "outputs": [
    {
     "name": "stdout",
     "output_type": "stream",
     "text": [
      "hi\n"
     ]
    }
   ],
   "source": [
    "model.to(device)\n",
    "print('hi')"
   ]
  },
  {
   "cell_type": "code",
   "execution_count": null,
   "id": "ddf1b8ed-f5e6-4c1e-a792-af7f0795aabb",
   "metadata": {},
   "outputs": [],
   "source": []
  },
  {
   "cell_type": "code",
   "execution_count": 10,
   "id": "97889fd8-c0ad-464b-903f-980377aaec5a",
   "metadata": {},
   "outputs": [],
   "source": [
    "# Forward pass\n",
    "binary_output, regression_output = model(input_features, attention_mask)"
   ]
  },
  {
   "cell_type": "code",
   "execution_count": 16,
   "id": "33f3def7-91f3-421b-81b1-b25651bb9cba",
   "metadata": {
    "collapsed": true,
    "jupyter": {
     "outputs_hidden": true
    }
   },
   "outputs": [
    {
     "data": {
      "text/plain": [
       "['6792d33a-c5f1-414c-b0bd-8f8fff67554b',\n",
       " '85d034af-0a38-4588-a7d9-ad68d526323a',\n",
       " '63a564e6-b3b9-40f8-9431-308f00fe102a',\n",
       " 'd0544fba-cb05-4bab-bec7-e44b50324356',\n",
       " '17ab789d-fe4e-4ef7-818f-92f13ee59cb7',\n",
       " '0d27476d-c62c-4cb1-9843-fc3e93f2671a',\n",
       " 'f1a702ea-0b47-49ba-baf4-5ab5aee0e942',\n",
       " 'b4f50901-5900-47e3-9fec-7f49933507df',\n",
       " '42a6052e-e0c7-4da6-96ad-c5c3af3ebf09',\n",
       " '60be794b-67ec-4cee-9aab-463784831920',\n",
       " 'd1033674-5968-4878-bfab-46afe9b09054',\n",
       " 'a887ed91-e50f-4f9f-a33a-0dddf08ebdd9',\n",
       " '8db0eafc-0330-4366-9dda-f11a997002af',\n",
       " '22e81afb-db50-4092-aea2-7bcef8a0ecbc',\n",
       " 'b4eb3cd2-a437-493e-b95e-c7259afabe5b',\n",
       " 'ef761615-02e5-4309-9f1e-6ad87b2d436d',\n",
       " '4a6c6668-ce49-4b75-87c6-242f1b46d636',\n",
       " '3c7456b4-5237-4956-9f68-11ebc0274088',\n",
       " '48a3d1ac-fefc-4267-83c0-0c300029213c',\n",
       " 'c9daa53d-2deb-402a-bc7a-7dde765acdd9',\n",
       " 'dadfe47e-6f35-4e19-969f-2518499146b2',\n",
       " '1f0da69a-bf38-4ec3-b315-ab0fe5c71102',\n",
       " '9d9c2e0f-945e-401e-aea6-d67fc0feddfe',\n",
       " 'de4033ac-fd6c-4a5b-9dfb-39ae35b58bbe',\n",
       " '0216d406-0d17-400d-9c08-bc30fdd347f0',\n",
       " 'a133f3e2-058e-48c2-b66a-c8d414df477f',\n",
       " 'dc2eedcd-30e3-4e22-8699-2f6b17e0a58d',\n",
       " 'a2802def-cdfc-443d-8629-4894527ce63b',\n",
       " '5fc3941a-1ba9-4061-961b-1f4082d01f46',\n",
       " 'c70980d2-b25a-43da-963b-332ec1ab71ad',\n",
       " '1982c240-d343-458b-bb3b-9d62574efeac',\n",
       " 'aa2622c2-d732-4ae8-aa03-e4e007e19849']"
      ]
     },
     "execution_count": 16,
     "metadata": {},
     "output_type": "execute_result"
    }
   ],
   "source": [
    "batch['file_name']"
   ]
  },
  {
   "cell_type": "code",
   "execution_count": 11,
   "id": "27942bdf-bdf2-4849-8121-4269f6b85a90",
   "metadata": {
    "collapsed": true,
    "jupyter": {
     "outputs_hidden": true
    }
   },
   "outputs": [
    {
     "data": {
      "text/plain": [
       "tensor([[ 1.4441e+00,  1.4013e+00,  0.0000e+00,  0.0000e+00,  0.0000e+00,\n",
       "          0.0000e+00,  0.0000e+00],\n",
       "        [ 1.5648e+00,  4.5170e-01,  0.0000e+00,  0.0000e+00,  0.0000e+00,\n",
       "          0.0000e+00,  0.0000e+00],\n",
       "        [ 1.7228e+00,  8.9881e-01,  0.0000e+00,  0.0000e+00,  0.0000e+00,\n",
       "          0.0000e+00,  1.1507e+02],\n",
       "        [ 2.5305e+00,  1.3800e+00,  1.9359e+00,  0.0000e+00,  0.0000e+00,\n",
       "          0.0000e+00,  0.0000e+00],\n",
       "        [ 3.8128e+00,  1.4936e+00,  0.0000e+00,  0.0000e+00,  0.0000e+00,\n",
       "          0.0000e+00,  0.0000e+00],\n",
       "        [ 2.6232e+00,  0.0000e+00,  0.0000e+00,  0.0000e+00,  0.0000e+00,\n",
       "          0.0000e+00,  0.0000e+00],\n",
       "        [ 0.0000e+00,  0.0000e+00,  0.0000e+00,  0.0000e+00,  0.0000e+00,\n",
       "          0.0000e+00,  0.0000e+00],\n",
       "        [ 1.5425e+00,  0.0000e+00,  9.5508e-01,  0.0000e+00,  0.0000e+00,\n",
       "          0.0000e+00,  0.0000e+00],\n",
       "        [ 6.8915e-01,  0.0000e+00,  0.0000e+00,  9.0825e-01,  0.0000e+00,\n",
       "          0.0000e+00,  0.0000e+00],\n",
       "        [ 1.9042e+00,  1.4108e+00,  0.0000e+00,  9.9283e-01,  0.0000e+00,\n",
       "          0.0000e+00,  0.0000e+00],\n",
       "        [ 0.0000e+00,  1.0055e+00,  0.0000e+00,  0.0000e+00,  8.5273e-01,\n",
       "          2.8292e+01,  0.0000e+00],\n",
       "        [ 5.0071e-01,  8.6019e-01,  0.0000e+00,  0.0000e+00,  0.0000e+00,\n",
       "          5.5211e+01,  0.0000e+00],\n",
       "        [ 0.0000e+00,  0.0000e+00,  0.0000e+00,  0.0000e+00,  0.0000e+00,\n",
       "          0.0000e+00,  0.0000e+00],\n",
       "        [ 1.0367e+00,  1.2023e+00,  0.0000e+00,  5.6163e-01,  0.0000e+00,\n",
       "          0.0000e+00,  0.0000e+00],\n",
       "        [ 2.6306e+00,  0.0000e+00,  0.0000e+00,  0.0000e+00,  0.0000e+00,\n",
       "          0.0000e+00,  0.0000e+00],\n",
       "        [ 7.7926e-01,  0.0000e+00, -1.7894e-01,  4.0217e-01,  0.0000e+00,\n",
       "          0.0000e+00,  0.0000e+00],\n",
       "        [ 2.1577e+00,  1.2544e+00,  0.0000e+00,  0.0000e+00,  0.0000e+00,\n",
       "          0.0000e+00,  0.0000e+00],\n",
       "        [ 2.8674e+00,  0.0000e+00,  0.0000e+00,  0.0000e+00,  0.0000e+00,\n",
       "          0.0000e+00,  0.0000e+00],\n",
       "        [ 2.2798e+00,  1.7046e+00,  0.0000e+00,  0.0000e+00,  0.0000e+00,\n",
       "          0.0000e+00,  0.0000e+00],\n",
       "        [ 6.5917e-01,  0.0000e+00,  0.0000e+00,  0.0000e+00,  0.0000e+00,\n",
       "          0.0000e+00,  2.0191e+02],\n",
       "        [ 6.7374e-01,  0.0000e+00,  0.0000e+00,  0.0000e+00,  0.0000e+00,\n",
       "          0.0000e+00,  0.0000e+00],\n",
       "        [ 1.6193e+00,  0.0000e+00,  9.9674e-01,  0.0000e+00,  0.0000e+00,\n",
       "          0.0000e+00,  0.0000e+00],\n",
       "        [ 1.7752e+00,  1.5004e+00,  0.0000e+00,  1.2666e+00,  0.0000e+00,\n",
       "          0.0000e+00,  0.0000e+00],\n",
       "        [ 0.0000e+00,  1.2528e+00,  0.0000e+00,  9.1784e-01,  0.0000e+00,\n",
       "          0.0000e+00,  0.0000e+00],\n",
       "        [ 1.9103e+00,  1.2561e-01,  0.0000e+00,  0.0000e+00,  0.0000e+00,\n",
       "          0.0000e+00,  0.0000e+00],\n",
       "        [ 1.0172e+00,  3.8251e-01,  0.0000e+00,  0.0000e+00,  0.0000e+00,\n",
       "          9.2850e+02,  0.0000e+00],\n",
       "        [ 1.8419e+00,  7.1525e-02,  0.0000e+00,  0.0000e+00,  0.0000e+00,\n",
       "          0.0000e+00,  0.0000e+00],\n",
       "        [ 2.0601e+00,  6.9317e-01,  9.8148e-01,  9.7349e-01,  1.2325e+00,\n",
       "          0.0000e+00,  0.0000e+00],\n",
       "        [ 3.0438e-01,  8.1858e-01,  5.0460e-02,  0.0000e+00,  0.0000e+00,\n",
       "          0.0000e+00,  0.0000e+00],\n",
       "        [ 1.0750e+00,  0.0000e+00,  0.0000e+00,  0.0000e+00,  0.0000e+00,\n",
       "          0.0000e+00,  0.0000e+00],\n",
       "        [ 8.8838e-01,  0.0000e+00,  0.0000e+00,  2.8248e-01,  0.0000e+00,\n",
       "          2.5417e+03,  0.0000e+00],\n",
       "        [ 1.5900e+00, -8.0625e-01,  0.0000e+00,  0.0000e+00, -5.6732e-01,\n",
       "          0.0000e+00,  0.0000e+00]], device='cuda:0')"
      ]
     },
     "execution_count": 11,
     "metadata": {},
     "output_type": "execute_result"
    }
   ],
   "source": [
    "regression_targets"
   ]
  },
  {
   "cell_type": "code",
   "execution_count": 12,
   "id": "1f6cbc6f-c4a2-4225-9460-7c43cf452bca",
   "metadata": {
    "collapsed": true,
    "jupyter": {
     "outputs_hidden": true
    }
   },
   "outputs": [
    {
     "data": {
      "text/plain": [
       "tensor([[ 1.9815,  0.8004,  0.2070,  1.0424,  1.7658, 12.2642,  6.8711],\n",
       "        [ 1.9603,  0.7808,  0.1896,  1.0431,  1.7648, 12.2769,  6.8593],\n",
       "        [ 1.9726,  0.7968,  0.1965,  1.0500,  1.7646, 12.2660,  6.8733],\n",
       "        [ 2.0045,  0.8196,  0.2113,  1.0546,  1.7668, 12.2489,  6.8757],\n",
       "        [ 2.0036,  0.8202,  0.2031,  1.0640,  1.7640, 12.2489,  6.8754],\n",
       "        [ 2.0024,  0.8126,  0.2048,  1.0547,  1.7679, 12.2526,  6.8630],\n",
       "        [ 1.9397,  0.7620,  0.1829,  1.0373,  1.7674, 12.2828,  6.8561],\n",
       "        [ 2.0028,  0.8208,  0.2143,  1.0545,  1.7728, 12.2414,  6.8703],\n",
       "        [ 1.9657,  0.7936,  0.2023,  1.0407,  1.7581, 12.2640,  6.8708],\n",
       "        [ 1.9770,  0.7975,  0.2042,  1.0424,  1.7656, 12.2675,  6.8698],\n",
       "        [ 1.9810,  0.7927,  0.1919,  1.0557,  1.7725, 12.2692,  6.8631],\n",
       "        [ 1.9323,  0.7581,  0.1826,  1.0310,  1.7636, 12.2848,  6.8505],\n",
       "        [ 1.8785,  0.7646,  0.1975,  1.0162,  1.7486, 12.2433,  6.8492],\n",
       "        [ 1.9487,  0.7767,  0.1924,  1.0375,  1.7634, 12.2778,  6.8636],\n",
       "        [ 2.0328,  0.8647,  0.2276,  1.0662,  1.7583, 12.1929,  6.8684],\n",
       "        [ 1.9484,  0.7823,  0.1904,  1.0422,  1.7541, 12.2729,  6.8677],\n",
       "        [ 1.9963,  0.8108,  0.2076,  1.0509,  1.7670, 12.2576,  6.8733],\n",
       "        [ 1.9631,  0.7851,  0.1888,  1.0464,  1.7596, 12.2757,  6.8633],\n",
       "        [ 1.9989,  0.8173,  0.2123,  1.0516,  1.7666, 12.2506,  6.8769],\n",
       "        [ 1.9563,  0.7894,  0.1980,  1.0428,  1.7644, 12.2637,  6.8793],\n",
       "        [ 1.9446,  0.7654,  0.1841,  1.0369,  1.7649, 12.2840,  6.8563],\n",
       "        [ 2.0105,  0.8529,  0.2396,  1.0352,  1.7592, 12.1670,  6.8493],\n",
       "        [ 1.9839,  0.8096,  0.2067,  1.0530,  1.7686, 12.2535,  6.8804],\n",
       "        [ 1.9606,  0.7918,  0.1992,  1.0440,  1.7663, 12.2629,  6.8793],\n",
       "        [ 1.9645,  0.7725,  0.1883,  1.0351,  1.7677, 12.2861,  6.8446],\n",
       "        [ 1.9514,  0.7657,  0.1835,  1.0377,  1.7651, 12.2884,  6.8511],\n",
       "        [ 1.9631,  0.7721,  0.1860,  1.0414,  1.7705, 12.2847,  6.8505],\n",
       "        [ 1.9687,  0.7911,  0.1942,  1.0472,  1.7644, 12.2705,  6.8685],\n",
       "        [ 1.9367,  0.7666,  0.1864,  1.0331,  1.7623, 12.2804,  6.8587],\n",
       "        [ 1.9275,  0.7459,  0.1786,  1.0224,  1.7667, 12.2900,  6.8272],\n",
       "        [ 1.9270,  0.7689,  0.1844,  1.0399,  1.7579, 12.2710,  6.8681],\n",
       "        [ 1.9280,  0.7517,  0.1792,  1.0213,  1.7545, 12.2810,  6.8271]],\n",
       "       device='cuda:0', grad_fn=<AddmmBackward0>)"
      ]
     },
     "execution_count": 12,
     "metadata": {},
     "output_type": "execute_result"
    }
   ],
   "source": [
    "regression_output"
   ]
  },
  {
   "cell_type": "code",
   "execution_count": 25,
   "id": "959f7c3e-b533-4bcf-ae2b-708ff3903570",
   "metadata": {},
   "outputs": [],
   "source": [
    "import torch"
   ]
  },
  {
   "cell_type": "code",
   "execution_count": 26,
   "id": "0830df1a-5821-4433-abe9-5dc82050bff8",
   "metadata": {},
   "outputs": [
    {
     "data": {
      "text/plain": [
       "'2.6.0+cu126'"
      ]
     },
     "execution_count": 26,
     "metadata": {},
     "output_type": "execute_result"
    }
   ],
   "source": [
    "torch.__version__"
   ]
  },
  {
   "cell_type": "code",
   "execution_count": 13,
   "id": "1b50fc40-a939-4ce1-bfd3-1c5667055eeb",
   "metadata": {
    "collapsed": true,
    "jupyter": {
     "outputs_hidden": true
    }
   },
   "outputs": [
    {
     "data": {
      "text/plain": [
       "tensor([[0.1743, 0.7972, 0.5401, 0.2663, 0.2664, 0.1445, 0.1287, 0.1205],\n",
       "        [0.1740, 0.7980, 0.5410, 0.2670, 0.2672, 0.1444, 0.1282, 0.1201],\n",
       "        [0.1729, 0.7980, 0.5424, 0.2669, 0.2679, 0.1451, 0.1286, 0.1209],\n",
       "        [0.1729, 0.7976, 0.5412, 0.2655, 0.2667, 0.1460, 0.1286, 0.1213],\n",
       "        [0.1715, 0.7986, 0.5438, 0.2657, 0.2695, 0.1466, 0.1289, 0.1212],\n",
       "        [0.1730, 0.8003, 0.5401, 0.2665, 0.2698, 0.1456, 0.1274, 0.1205],\n",
       "        [0.1757, 0.7946, 0.5421, 0.2662, 0.2634, 0.1445, 0.1297, 0.1205],\n",
       "        [0.1726, 0.7999, 0.5391, 0.2659, 0.2687, 0.1445, 0.1270, 0.1205],\n",
       "        [0.1742, 0.7979, 0.5403, 0.2680, 0.2702, 0.1445, 0.1287, 0.1202],\n",
       "        [0.1743, 0.7972, 0.5399, 0.2661, 0.2659, 0.1445, 0.1286, 0.1206],\n",
       "        [0.1724, 0.7990, 0.5413, 0.2659, 0.2666, 0.1450, 0.1278, 0.1204],\n",
       "        [0.1774, 0.7936, 0.5412, 0.2671, 0.2638, 0.1441, 0.1297, 0.1203],\n",
       "        [0.1795, 0.7940, 0.5375, 0.2690, 0.2638, 0.1414, 0.1303, 0.1200],\n",
       "        [0.1759, 0.7943, 0.5408, 0.2673, 0.2655, 0.1445, 0.1292, 0.1206],\n",
       "        [0.1713, 0.8001, 0.5403, 0.2674, 0.2722, 0.1469, 0.1289, 0.1217],\n",
       "        [0.1744, 0.7958, 0.5418, 0.2673, 0.2680, 0.1447, 0.1295, 0.1207],\n",
       "        [0.1732, 0.7975, 0.5412, 0.2657, 0.2663, 0.1455, 0.1287, 0.1211],\n",
       "        [0.1737, 0.7973, 0.5425, 0.2665, 0.2679, 0.1451, 0.1291, 0.1205],\n",
       "        [0.1731, 0.7976, 0.5407, 0.2656, 0.2669, 0.1456, 0.1286, 0.1212],\n",
       "        [0.1740, 0.7951, 0.5422, 0.2669, 0.2666, 0.1450, 0.1293, 0.1214],\n",
       "        [0.1756, 0.7951, 0.5419, 0.2666, 0.2633, 0.1445, 0.1296, 0.1203],\n",
       "        [0.1750, 0.8007, 0.5335, 0.2680, 0.2716, 0.1428, 0.1272, 0.1206],\n",
       "        [0.1723, 0.7981, 0.5414, 0.2662, 0.2682, 0.1449, 0.1281, 0.1211],\n",
       "        [0.1735, 0.7958, 0.5423, 0.2668, 0.2670, 0.1448, 0.1290, 0.1213],\n",
       "        [0.1757, 0.7968, 0.5399, 0.2661, 0.2636, 0.1441, 0.1288, 0.1196],\n",
       "        [0.1764, 0.7937, 0.5417, 0.2673, 0.2643, 0.1450, 0.1295, 0.1205],\n",
       "        [0.1753, 0.7956, 0.5411, 0.2671, 0.2648, 0.1448, 0.1287, 0.1199],\n",
       "        [0.1734, 0.7981, 0.5418, 0.2670, 0.2678, 0.1449, 0.1283, 0.1206],\n",
       "        [0.1765, 0.7936, 0.5412, 0.2671, 0.2645, 0.1442, 0.1295, 0.1206],\n",
       "        [0.1788, 0.7955, 0.5381, 0.2675, 0.2624, 0.1434, 0.1291, 0.1191],\n",
       "        [0.1749, 0.7940, 0.5431, 0.2671, 0.2652, 0.1448, 0.1300, 0.1216],\n",
       "        [0.1784, 0.7952, 0.5394, 0.2679, 0.2675, 0.1439, 0.1290, 0.1194]],\n",
       "       device='cuda:0', grad_fn=<SigmoidBackward0>)"
      ]
     },
     "execution_count": 13,
     "metadata": {},
     "output_type": "execute_result"
    }
   ],
   "source": [
    "binary_output"
   ]
  },
  {
   "cell_type": "code",
   "execution_count": 36,
   "id": "efd06e43-029b-4bbf-bf87-1d437e0689e1",
   "metadata": {
    "collapsed": true,
    "jupyter": {
     "outputs_hidden": true
    },
    "scrolled": true
   },
   "outputs": [
    {
     "data": {
      "text/plain": [
       "tensor([[-0.0799,  0.1651,  0.0431, -0.2534,  0.2002, -0.0372,  0.4909],\n",
       "        [-0.2676,  0.0895, -0.0709, -0.1633,  0.0310,  0.0316,  0.4695],\n",
       "        [-0.0647, -0.0453, -0.0756, -0.1928,  0.0414,  0.3822,  0.4602],\n",
       "        [-0.5158,  0.1917, -0.0062, -0.5409, -0.0301,  0.2594,  0.3123],\n",
       "        [-0.0967,  0.0231,  0.0659, -0.2884, -0.0229,  0.3029,  0.3925],\n",
       "        [ 0.0862, -0.0982,  0.1590,  0.0287,  0.1546,  0.1567,  0.2391],\n",
       "        [ 0.0527, -0.2035,  0.1338, -0.2445, -0.1296,  0.2083,  0.2712],\n",
       "        [-0.5058,  0.1675, -0.0697, -0.3646,  0.0571,  0.0802,  0.4114],\n",
       "        [-0.1591, -0.0722,  0.0478, -0.4445,  0.1089,  0.1614,  0.5998],\n",
       "        [-0.1494,  0.1073,  0.1564, -0.4769,  0.0034,  0.2700,  0.5165],\n",
       "        [-0.2837,  0.2268,  0.1116, -0.1756, -0.0866,  0.0503,  0.3421],\n",
       "        [-0.3557,  0.0136, -0.0009, -0.3917, -0.0776,  0.2966,  0.5447],\n",
       "        [-0.1480,  0.0083, -0.1019, -0.2632, -0.1213,  0.3040,  0.4917],\n",
       "        [-0.4308,  0.1718,  0.0487, -0.3503, -0.0791,  0.1602,  0.4239],\n",
       "        [-0.0159, -0.0806,  0.0208, -0.1960, -0.1795,  0.1654,  0.3093],\n",
       "        [-0.3123,  0.0938, -0.1043, -0.3374,  0.3258, -0.0495,  0.5298],\n",
       "        [ 0.0775, -0.0194, -0.0695, -0.1637, -0.0609,  0.1657,  0.5813],\n",
       "        [-0.4521,  0.2939,  0.0118, -0.4510,  0.0363,  0.3544,  0.4562],\n",
       "        [-0.0637, -0.1052,  0.1092, -0.2535, -0.0178,  0.1699,  0.0728],\n",
       "        [-0.1242, -0.0344,  0.1276, -0.3174, -0.0876,  0.2893,  0.3228],\n",
       "        [-0.2189,  0.0364, -0.0695, -0.3696, -0.1249,  0.3482,  0.5338],\n",
       "        [-0.0204, -0.0089, -0.0572, -0.3693, -0.0503,  0.1776,  0.4324],\n",
       "        [-0.0060, -0.0983, -0.0628, -0.2811, -0.1029,  0.2312,  0.4180],\n",
       "        [-0.4313,  0.1417,  0.0273, -0.5887, -0.1383,  0.3222,  0.3405],\n",
       "        [-0.4010,  0.2728,  0.0941, -0.4062, -0.0319,  0.1589,  0.4998],\n",
       "        [ 0.0243, -0.1325,  0.2076, -0.1463,  0.2090,  0.0906,  0.2049],\n",
       "        [ 0.1147, -0.0445, -0.1013, -0.3486, -0.2512,  0.3051,  0.4201],\n",
       "        [-0.1951, -0.0606,  0.0242, -0.3690, -0.2196,  0.3102,  0.4446],\n",
       "        [-0.2473,  0.2600,  0.0594, -0.2749, -0.1323,  0.3206,  0.3461],\n",
       "        [-0.0408,  0.0514, -0.0109, -0.2948, -0.0743,  0.4124,  0.3818],\n",
       "        [-0.2260,  0.0362,  0.0550, -0.2179, -0.1776,  0.2750,  0.2138],\n",
       "        [-0.1569,  0.3313, -0.1231, -0.3071,  0.0139,  0.1070,  0.4190]],\n",
       "       device='cuda:0', grad_fn=<AddmmBackward0>)"
      ]
     },
     "execution_count": 36,
     "metadata": {},
     "output_type": "execute_result"
    }
   ],
   "source": [
    "regression_output"
   ]
  },
  {
   "cell_type": "markdown",
   "id": "a856c049-a6eb-4552-befe-989084cb2ec0",
   "metadata": {},
   "source": [
    "# Train"
   ]
  },
  {
   "cell_type": "code",
   "execution_count": 17,
   "id": "c098a2f5-4c91-4fed-a295-6eeeaf881f73",
   "metadata": {},
   "outputs": [
    {
     "name": "stdout",
     "output_type": "stream",
     "text": [
      "Preprocessing time series data...\n"
     ]
    },
    {
     "name": "stderr",
     "output_type": "stream",
     "text": [
      "100%|█████████████████████████████████████████████████████████████████████████| 44884/44884 [00:03<00:00, 13853.03it/s]\n"
     ]
    },
    {
     "name": "stdout",
     "output_type": "stream",
     "text": [
      "Preprocessed 1000 time series\n",
      "Preprocessing time series data...\n"
     ]
    },
    {
     "name": "stderr",
     "output_type": "stream",
     "text": [
      "100%|█████████████████████████████████████████████████████████████████████████| 44884/44884 [00:03<00:00, 14199.48it/s]\n"
     ]
    },
    {
     "name": "stdout",
     "output_type": "stream",
     "text": [
      "Preprocessed 1000 time series\n"
     ]
    }
   ],
   "source": [
    "# Create data loaders\n",
    "train_loader = create_data_loader(\n",
    "    csv_path='E:/DS/data/siam/bi/tgs/deb1k_df_woo_r_sc_f.csv',\n",
    "    parquet_path='E:/DS/data/siam/bi/train_trans/train_r_sc.parquet',\n",
    "    batch_size=64,\n",
    "    max_seq_len=1024,\n",
    "    num_workers=0\n",
    ")\n",
    "\n",
    "val_loader = create_data_loader(\n",
    "    csv_path='E:/DS/data/siam/bi/tgs/deb1k_df_woo_r_sc_f.csv',\n",
    "    parquet_path='E:/DS/data/siam/bi/train_trans/train_r_sc.parquet',\n",
    "    batch_size=64,\n",
    "    max_seq_len=1024,\n",
    "    num_workers=0\n",
    ")\n",
    "\n",
    "# Create model\n",
    "model = TransformerModel(\n",
    "    input_dim=3,\n",
    "    d_model=64,\n",
    "    nhead=4,\n",
    "    num_encoder_layers=2,\n",
    "    dim_feedforward = 256,\n",
    "    dropout = 0.1,\n",
    "    max_seq_len = 1024\n",
    ")\n",
    "\n"
   ]
  },
  {
   "cell_type": "code",
   "execution_count": 3,
   "id": "a254ab15-bc35-4b6f-9905-bb07948ae0c6",
   "metadata": {},
   "outputs": [
    {
     "name": "stdout",
     "output_type": "stream",
     "text": [
      "Preprocessing time series data...\n"
     ]
    },
    {
     "name": "stderr",
     "output_type": "stream",
     "text": [
      "100%|█████████████████████████████████████████████████████████████████████████| 44884/44884 [00:03<00:00, 13517.57it/s]\n"
     ]
    },
    {
     "name": "stdout",
     "output_type": "stream",
     "text": [
      "Preprocessed 1000 time series\n",
      "Preprocessing time series data...\n"
     ]
    },
    {
     "name": "stderr",
     "output_type": "stream",
     "text": [
      "100%|█████████████████████████████████████████████████████████████████████████| 44884/44884 [00:03<00:00, 13856.38it/s]\n"
     ]
    },
    {
     "name": "stdout",
     "output_type": "stream",
     "text": [
      "Preprocessed 1000 time series\n"
     ]
    }
   ],
   "source": [
    "# Create data loaders\n",
    "train_loader = create_data_loader(\n",
    "    csv_path='E:/DS/data/siam/bi/tgs/deb1k_df_woo_r_sc_f.csv',\n",
    "    parquet_path='E:/DS/data/siam/bi/train_trans/train_r_sc.parquet',\n",
    "    batch_size=64,\n",
    "    max_seq_len=1024,\n",
    "    num_workers=0\n",
    ")\n",
    "\n",
    "val_loader = create_data_loader(\n",
    "    csv_path='E:/DS/data/siam/bi/tgs/deb1k_df_woo_r_sc_f.csv',\n",
    "    parquet_path='E:/DS/data/siam/bi/train_trans/train_r_sc.parquet',\n",
    "    batch_size=64,\n",
    "    max_seq_len=1024,\n",
    "    num_workers=0\n",
    ")"
   ]
  },
  {
   "cell_type": "code",
   "execution_count": 3,
   "id": "46e63a25-0251-4d4d-924c-5e7580d6da52",
   "metadata": {},
   "outputs": [
    {
     "name": "stdout",
     "output_type": "stream",
     "text": [
      "Preprocessing time series data...\n"
     ]
    },
    {
     "name": "stderr",
     "output_type": "stream",
     "text": [
      "100%|█████████████████████████████████████████████████████████████████████████| 44809/44809 [00:03<00:00, 13603.71it/s]\n"
     ]
    },
    {
     "name": "stdout",
     "output_type": "stream",
     "text": [
      "Preprocessed 1000 time series\n",
      "Preprocessing time series data...\n"
     ]
    },
    {
     "name": "stderr",
     "output_type": "stream",
     "text": [
      "100%|█████████████████████████████████████████████████████████████████████████| 44809/44809 [00:03<00:00, 13806.40it/s]\n"
     ]
    },
    {
     "name": "stdout",
     "output_type": "stream",
     "text": [
      "Preprocessed 1000 time series\n"
     ]
    }
   ],
   "source": [
    "# Create data loaders\n",
    "train_loader = create_data_loader(\n",
    "    csv_path='E:/DS/data/siam/bi/tgs/deb1k_df_woo_r_sc_f_adv.csv',\n",
    "    parquet_path='E:/DS/data/siam/bi/train_trans/train_r_sc_adv.parquet',\n",
    "    batch_size=64,\n",
    "    max_seq_len=1024,\n",
    "    num_workers=0\n",
    ")\n",
    "\n",
    "val_loader = create_data_loader(\n",
    "    csv_path='E:/DS/data/siam/bi/tgs/deb1k_df_woo_r_sc_f_adv.csv',\n",
    "    parquet_path='E:/DS/data/siam/bi/train_trans/train_r_sc_adv.parquet',\n",
    "    batch_size=64,\n",
    "    max_seq_len=1024,\n",
    "    num_workers=0\n",
    ")"
   ]
  },
  {
   "cell_type": "code",
   "execution_count": 8,
   "id": "c50cfe36-ef07-4586-b0f6-353e4a31303d",
   "metadata": {},
   "outputs": [],
   "source": [
    "# Create model\n",
    "model = TransformerModel_ver2(\n",
    "    input_dim=10,\n",
    "    d_model=256,\n",
    "    nhead=4,\n",
    "    num_encoder_layers=4,\n",
    "    dim_feedforward=512,\n",
    "    dropout=0.1,\n",
    "    max_seq_len = 1024\n",
    ")"
   ]
  },
  {
   "cell_type": "code",
   "execution_count": null,
   "id": "46f593fc-33fe-480b-9ab2-3acbf840d4f1",
   "metadata": {},
   "outputs": [],
   "source": [
    "Train Loss: 2.1410\n",
    "Val Loss: 2.0866"
   ]
  },
  {
   "cell_type": "code",
   "execution_count": 9,
   "id": "5e1b905d-62e5-4368-9766-dc64c974b4f9",
   "metadata": {},
   "outputs": [
    {
     "name": "stdout",
     "output_type": "stream",
     "text": [
      "\n",
      "Epoch 1/2\n"
     ]
    },
    {
     "name": "stderr",
     "output_type": "stream",
     "text": [
      "Training: 100%|██████████████████| 16/16 [00:05<00:00,  3.03it/s, loss=0.945, binary_loss=0.476, regression_loss=0.469]\n",
      "Evaluating: 100%|██████████████████████████████████████████████████████████████████████| 16/16 [00:01<00:00,  8.95it/s]\n"
     ]
    },
    {
     "name": "stdout",
     "output_type": "stream",
     "text": [
      "Train Loss: 1.8111, Binary Loss: 0.6187, Regression Loss: 1.1924\n",
      "Val Loss: 1.5627, Binary Loss: 0.5248, Regression Loss: 1.0379, AUROC: 0.5164, MSE: 0.3388, Mean Accuracy: 0.5518\n",
      "New best model saved with validation mean accuracy: 0.5518\n",
      "\n",
      "Epoch 2/2\n"
     ]
    },
    {
     "name": "stderr",
     "output_type": "stream",
     "text": [
      "Training: 100%|██████████████████| 16/16 [00:05<00:00,  3.13it/s, loss=0.827, binary_loss=0.507, regression_loss=0.321]\n",
      "Evaluating: 100%|██████████████████████████████████████████████████████████████████████| 16/16 [00:01<00:00,  8.91it/s]\n"
     ]
    },
    {
     "name": "stdout",
     "output_type": "stream",
     "text": [
      "Train Loss: 1.5040, Binary Loss: 0.5182, Regression Loss: 0.9858\n",
      "Val Loss: 1.4775, Binary Loss: 0.5145, Regression Loss: 0.9630, AUROC: 0.5226, MSE: 0.3204, Mean Accuracy: 0.5550\n",
      "New best model saved with validation mean accuracy: 0.5550\n"
     ]
    }
   ],
   "source": [
    "# Train model\n",
    "trained_model, history = train_model(\n",
    "    model=model,\n",
    "    train_loader=train_loader,\n",
    "    val_loader=val_loader,\n",
    "    num_epochs=2,\n",
    "    learning_rate=1e-4,\n",
    "    device='cuda',\n",
    "    binary_loss_weight=1.0,\n",
    "    regression_loss_weight=1.0,\n",
    "    pos_weight=1.0\n",
    ")"
   ]
  },
  {
   "cell_type": "code",
   "execution_count": 11,
   "id": "7d349df9-b7e5-4208-a9b6-fc84042ebfef",
   "metadata": {},
   "outputs": [
    {
     "name": "stdout",
     "output_type": "stream",
     "text": [
      "\n",
      "Epoch 1/2\n"
     ]
    },
    {
     "name": "stderr",
     "output_type": "stream",
     "text": [
      "Training: 100%|████████████████████| 16/16 [00:04<00:00,  3.40it/s, loss=1.86, binary_loss=0.599, regression_loss=1.26]\n",
      "Evaluating: 100%|██████████████████████████████████████████████████████████████████████| 16/16 [00:01<00:00, 11.06it/s]\n"
     ]
    },
    {
     "name": "stdout",
     "output_type": "stream",
     "text": [
      "Train Loss: 2.0473, Binary Loss: 0.6422, Regression Loss: 1.4050\n",
      "Val Loss: 1.7450, Binary Loss: 0.5791, Regression Loss: 1.1659, AUROC: 0.4670, MSE: 0.3797, Mean Accuracy: 0.5200\n",
      "New best model saved with validation mean accuracy: 0.5200\n",
      "\n",
      "Epoch 2/2\n"
     ]
    },
    {
     "name": "stderr",
     "output_type": "stream",
     "text": [
      "Training: 100%|███████████████████| 16/16 [00:04<00:00,  3.82it/s, loss=1.18, binary_loss=0.542, regression_loss=0.637]\n",
      "Evaluating: 100%|██████████████████████████████████████████████████████████████████████| 16/16 [00:01<00:00, 11.01it/s]\n"
     ]
    },
    {
     "name": "stdout",
     "output_type": "stream",
     "text": [
      "Train Loss: 1.7052, Binary Loss: 0.5678, Regression Loss: 1.1374\n",
      "Val Loss: 1.6863, Binary Loss: 0.5586, Regression Loss: 1.1277, AUROC: 0.4769, MSE: 0.3645, Mean Accuracy: 0.5248\n",
      "New best model saved with validation mean accuracy: 0.5248\n"
     ]
    }
   ],
   "source": [
    "# Train model\n",
    "trained_model, history = train_model(\n",
    "    model=model,\n",
    "    train_loader=train_loader,\n",
    "    val_loader=val_loader,\n",
    "    num_epochs=2,\n",
    "    learning_rate=1e-4,\n",
    "    device='cuda',\n",
    "    binary_loss_weight=1.0,\n",
    "    regression_loss_weight=1.0,\n",
    "    pos_weight=1.0\n",
    ")"
   ]
  },
  {
   "cell_type": "code",
   "execution_count": 18,
   "id": "f7d19a7d-896b-44cc-aaae-29684c9e1306",
   "metadata": {},
   "outputs": [
    {
     "name": "stdout",
     "output_type": "stream",
     "text": [
      "\n",
      "Epoch 1/2\n"
     ]
    },
    {
     "name": "stderr",
     "output_type": "stream",
     "text": [
      "Training: 100%|█████████████████████| 16/16 [00:01<00:00,  9.78it/s, loss=2.34, binary_loss=0.89, regression_loss=1.45]\n",
      "C:\\Users\\vorsi\\miniconda3\\envs\\and_kar_c\\lib\\site-packages\\torch\\nn\\modules\\transformer.py:508: UserWarning: The PyTorch API of nested tensors is in prototype stage and will change in the near future. We recommend specifying layout=torch.jagged when constructing a nested tensor, as this layout receives active development, has better operator coverage, and works with torch.compile. (Triggered internally at C:\\actions-runner\\_work\\pytorch\\pytorch\\pytorch\\aten\\src\\ATen\\NestedTensorImpl.cpp:182.)\n",
      "  output = torch._nested_tensor_from_mask(\n",
      "Evaluating: 100%|██████████████████████████████████████████████████████████████████████| 16/16 [00:00<00:00, 64.52it/s]\n"
     ]
    },
    {
     "name": "stdout",
     "output_type": "stream",
     "text": [
      "Train Loss: 2.3649, Binary Loss: 0.8921, Regression Loss: 1.4728\n",
      "Val Loss: 2.1437, Binary Loss: 0.8643, Regression Loss: 1.2794, AUROC: 0.5080, MSE: 0.4092, Mean Accuracy: 0.5700\n",
      "New best model saved with validation loss: 2.1437\n",
      "\n",
      "Epoch 2/2\n"
     ]
    },
    {
     "name": "stderr",
     "output_type": "stream",
     "text": [
      "Training: 100%|████████████████████| 16/16 [00:01<00:00, 13.24it/s, loss=1.92, binary_loss=0.881, regression_loss=1.04]\n",
      "Evaluating: 100%|██████████████████████████████████████████████████████████████████████| 16/16 [00:00<00:00, 79.27it/s]\n"
     ]
    },
    {
     "name": "stdout",
     "output_type": "stream",
     "text": [
      "Train Loss: 2.0861, Binary Loss: 0.8544, Regression Loss: 1.2317\n",
      "Val Loss: 2.0252, Binary Loss: 0.8482, Regression Loss: 1.1769, AUROC: 0.5070, MSE: 0.3820, Mean Accuracy: 0.6001\n",
      "New best model saved with validation loss: 2.0252\n"
     ]
    }
   ],
   "source": [
    "# Train model\n",
    "trained_model, history = train_model(\n",
    "    model=model,\n",
    "    train_loader=train_loader,\n",
    "    val_loader=val_loader,\n",
    "    num_epochs=2,\n",
    "    learning_rate=1e-4,\n",
    "    device='cuda',\n",
    "    binary_loss_weight=1.0,\n",
    "    regression_loss_weight=1.0,\n",
    "    pos_weight=2.0\n",
    ")"
   ]
  },
  {
   "cell_type": "markdown",
   "id": "77d081e0-48a7-4c9a-b58a-ffe99099811d",
   "metadata": {},
   "source": [
    "# CV parts"
   ]
  },
  {
   "cell_type": "code",
   "execution_count": 8,
   "id": "9e369a6e-71c1-4f0d-b6c8-ffb7422d38c5",
   "metadata": {},
   "outputs": [],
   "source": [
    "from cv_dataloader import create_image_data_loader, TimeSeriesImageDataset, TimeSeriesImageInferenceDataset\n",
    "\n",
    "#from cv_model import ViTTimeSeriesModel, ViTTimeSeriesModel_v2\n",
    "from cv_model import ViTTimeSeriesModel, ViTTimeSeriesModel_v2, create_model\n",
    "from cv_train import train_cv_model, inference_cv, save_cv_predictions\n",
    "from cv_example import plot_training_history\n",
    "#from train import save_predictions"
   ]
  },
  {
   "cell_type": "code",
   "execution_count": 8,
   "id": "eaf79d11-0c8c-474f-9f81-7247a9a35664",
   "metadata": {},
   "outputs": [],
   "source": [
    "dataset = TimeSeriesImageDataset(\n",
    "    csv_path='E:/DS/data/siam/bi/tgs/deb1k_df_woo_r_sc_f_adv.csv',\n",
    "    images_dir='E:/DS/data/siam/plots/deb/',\n",
    ")"
   ]
  },
  {
   "cell_type": "code",
   "execution_count": 9,
   "id": "fc7f98bb-b631-48f7-8cd3-7bd5f3319bbd",
   "metadata": {},
   "outputs": [],
   "source": [
    "b = next(iter(dataset))"
   ]
  },
  {
   "cell_type": "code",
   "execution_count": 10,
   "id": "f6dc0e3c-19a3-4880-a801-cf250a99e046",
   "metadata": {},
   "outputs": [
    {
     "data": {
      "text/plain": [
       "dict_keys(['image', 'binary_targets', 'regression_targets', 'regression_masks', 'file_name'])"
      ]
     },
     "execution_count": 10,
     "metadata": {},
     "output_type": "execute_result"
    }
   ],
   "source": [
    "b.keys()"
   ]
  },
  {
   "cell_type": "code",
   "execution_count": 13,
   "id": "f466037f-ad7e-4d7f-b0ab-a8b88347c8c9",
   "metadata": {},
   "outputs": [],
   "source": [
    "loader = create_image_data_loader(\n",
    "    csv_path='E:/DS/data/siam/bi/tgs/deb1k_df_woo_r_sc_f_adv.csv',\n",
    "    images_dir='E:/DS/data/siam/plots/deb/',\n",
    "    batch_size = 4,\n",
    "    shuffle = True,\n",
    "    num_workers = 0\n",
    ")"
   ]
  },
  {
   "cell_type": "code",
   "execution_count": 14,
   "id": "7053c523-e1cd-48ef-ad92-78fce3218a20",
   "metadata": {},
   "outputs": [],
   "source": [
    "batch = next(iter(loader))"
   ]
  },
  {
   "cell_type": "code",
   "execution_count": 15,
   "id": "d7960231-6816-40a1-83e9-588771b3e74f",
   "metadata": {
    "scrolled": true
   },
   "outputs": [
    {
     "data": {
      "text/plain": [
       "dict_keys(['image', 'binary_targets', 'regression_targets', 'regression_masks', 'file_name'])"
      ]
     },
     "execution_count": 15,
     "metadata": {},
     "output_type": "execute_result"
    }
   ],
   "source": [
    "batch.keys()"
   ]
  },
  {
   "cell_type": "code",
   "execution_count": 2,
   "id": "3acd8497-eee5-42a9-bd49-486126a514e2",
   "metadata": {},
   "outputs": [],
   "source": [
    "train_loader = create_image_data_loader(\n",
    "    csv_path='E:/DS/data/siam/bi/tgs/deb1k_df_woo_r_sc_f_adv.csv',\n",
    "    images_dir='E:/DS/data/siam/plots/deb/',\n",
    "    batch_size = 32,\n",
    "    shuffle = True,\n",
    "    num_workers = 0\n",
    ")"
   ]
  },
  {
   "cell_type": "code",
   "execution_count": 3,
   "id": "5c03ff23-2b5e-4761-89d2-945aca33ea2e",
   "metadata": {},
   "outputs": [],
   "source": [
    "val_loader = create_image_data_loader(\n",
    "    csv_path='E:/DS/data/siam/bi/tgs/deb1k_df_woo_r_sc_f_adv.csv',\n",
    "    images_dir='E:/DS/data/siam/plots/deb/',\n",
    "    batch_size = 32,\n",
    "    shuffle = False,\n",
    "    num_workers = 0\n",
    ")"
   ]
  },
  {
   "cell_type": "code",
   "execution_count": 4,
   "id": "a3431b10-59ea-4b85-8d11-a6f827d85886",
   "metadata": {},
   "outputs": [],
   "source": [
    "test_loader = create_image_data_loader(\n",
    "    csv_path=None,\n",
    "    images_dir='E:/DS/data/siam/plots/deb/',\n",
    "    batch_size = 32,\n",
    "    shuffle = False,\n",
    "    num_workers = 0\n",
    ")"
   ]
  },
  {
   "cell_type": "code",
   "execution_count": 6,
   "id": "81e2656d-c44a-4646-a6b0-b20195cb1165",
   "metadata": {},
   "outputs": [
    {
     "name": "stderr",
     "output_type": "stream",
     "text": [
      "Some weights of ViTModel were not initialized from the model checkpoint at google/vit-base-patch16-224 and are newly initialized: ['vit.pooler.dense.bias', 'vit.pooler.dense.weight']\n",
      "You should probably TRAIN this model on a down-stream task to be able to use it for predictions and inference.\n"
     ]
    }
   ],
   "source": [
    "model = create_model(\n",
    "    model_type = \"vit\",\n",
    "    #model_name='b7',\n",
    "    n_binary_targets = 8,\n",
    "    n_regression_targets = 7,\n",
    "    dropout = 0.1,\n",
    "    freeze_backbone = False,\n",
    "    use_multi_layer_features = False,\n",
    "    pretrained = True\n",
    ")"
   ]
  },
  {
   "cell_type": "code",
   "execution_count": 7,
   "id": "37447d67-d24e-4ce5-9485-f2ec828f7d6b",
   "metadata": {},
   "outputs": [
    {
     "name": "stdout",
     "output_type": "stream",
     "text": [
      "\n",
      "Epoch 1/2\n"
     ]
    },
    {
     "name": "stderr",
     "output_type": "stream",
     "text": [
      "Training: 100%|████████████████████| 32/32 [00:38<00:00,  1.20s/it, loss=3.66, binary_loss=0.484, regression_loss=3.17]\n",
      "Evaluating: 100%|██████████████████████████████████████████████████████████████████████| 32/32 [00:19<00:00,  1.60it/s]\n"
     ]
    },
    {
     "name": "stdout",
     "output_type": "stream",
     "text": [
      "Train Loss: 2.1247, Binary Loss: 0.6297, Regression Loss: 1.4949\n",
      "Val Loss: 1.8931, Binary Loss: 0.4935, Regression Loss: 1.3996, AUROC: 0.5381, MSE: 0.4426, Mean Accuracy: 0.5646\n",
      "New best model saved with validation mean accuracy: 0.5646\n",
      "\n",
      "Epoch 2/2\n"
     ]
    },
    {
     "name": "stderr",
     "output_type": "stream",
     "text": [
      "Training: 100%|███████████████████| 32/32 [00:24<00:00,  1.30it/s, loss=0.964, binary_loss=0.51, regression_loss=0.455]\n",
      "Evaluating: 100%|██████████████████████████████████████████████████████████████████████| 32/32 [00:19<00:00,  1.62it/s]\n"
     ]
    },
    {
     "name": "stdout",
     "output_type": "stream",
     "text": [
      "Train Loss: 1.7475, Binary Loss: 0.4817, Regression Loss: 1.2659\n",
      "Val Loss: 1.6466, Binary Loss: 0.4687, Regression Loss: 1.1779, AUROC: 0.6234, MSE: 0.3726, Mean Accuracy: 0.5694\n",
      "New best model saved with validation mean accuracy: 0.5694\n"
     ]
    }
   ],
   "source": [
    "trained_model, history = train_cv_model(\n",
    "    model=model,\n",
    "    train_loader=train_loader,\n",
    "    val_loader=val_loader,\n",
    "    num_epochs=2,  # Adjust as needed\n",
    "    learning_rate=2e-5,  # Lower learning rate for pretrained model\n",
    "    device='cuda',\n",
    "    binary_loss_weight=1.0,\n",
    "    regression_loss_weight=1.,\n",
    "    pos_weight=1.,\n",
    "    warmup_epochs=1\n",
    ")"
   ]
  },
  {
   "cell_type": "code",
   "execution_count": 9,
   "id": "6336a3d0-f328-4a58-89d2-a972c93dc6f0",
   "metadata": {},
   "outputs": [
    {
     "name": "stderr",
     "output_type": "stream",
     "text": [
      "Running inference: 100%|███████████████████████████████████████████████████████████████| 32/32 [00:20<00:00,  1.53it/s]\n"
     ]
    }
   ],
   "source": [
    "res =inference_cv(model = trained_model, dataloader=test_loader,)"
   ]
  },
  {
   "cell_type": "code",
   "execution_count": 35,
   "id": "e74bcb2c-d643-47a6-ae0f-bd273287dd15",
   "metadata": {},
   "outputs": [],
   "source": [
    "plot_training_history(history)"
   ]
  },
  {
   "cell_type": "code",
   "execution_count": null,
   "id": "79ccac18-35aa-4479-ba3e-0a286899ffa7",
   "metadata": {},
   "outputs": [],
   "source": []
  }
 ],
 "metadata": {
  "kernelspec": {
   "display_name": "Python 3 (ipykernel)",
   "language": "python",
   "name": "python3"
  },
  "language_info": {
   "codemirror_mode": {
    "name": "ipython",
    "version": 3
   },
   "file_extension": ".py",
   "mimetype": "text/x-python",
   "name": "python",
   "nbconvert_exporter": "python",
   "pygments_lexer": "ipython3",
   "version": "3.10.16"
  }
 },
 "nbformat": 4,
 "nbformat_minor": 5
}
