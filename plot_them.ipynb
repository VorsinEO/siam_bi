{
 "cells": [
  {
   "cell_type": "markdown",
   "id": "ad7b7942-2188-4e91-9379-8380274aef9c",
   "metadata": {},
   "source": [
    "# Строим графики от авторов"
   ]
  },
  {
   "cell_type": "code",
   "execution_count": 1,
   "id": "8a46b4b7-979b-44e9-a2ec-e463ade3fb77",
   "metadata": {},
   "outputs": [],
   "source": [
    "import numpy as np\n",
    "import pandas as pd\n",
    "import matplotlib.pyplot as plt\n",
    "\n",
    "def plot_log_data(df):\n",
    "    \"\"\"Plots a log-log graph from a given DataFrame.\"\"\"\n",
    "    # Extract columns\n",
    "    time = df[\"time\"]\n",
    "    pressure = df[\"atm\"]\n",
    "    derivative = df[\"der_atm\"]\n",
    "    \n",
    "    # Create log-log plot\n",
    "    plt.figure(figsize=(8, 6))\n",
    "    plt.loglog(time, pressure, 'o', label='Давление')\n",
    "    plt.loglog(time, derivative, 's', label='Производная давления')\n",
    "    \n",
    "    # Labels and title\n",
    "    plt.xlabel(\"Время (часы)\")\n",
    "    plt.ylabel(\"Давление и производная (атм)\")\n",
    "    plt.title(\"График давления и производной во времени\")\n",
    "    plt.legend()\n",
    "    plt.grid(True, which='both', linestyle='--', linewidth=0.5)\n",
    "    \n",
    "    # Show plot\n",
    "    plt.show()\n"
   ]
  },
  {
   "cell_type": "code",
   "execution_count": 5,
   "id": "89ab4569-0657-4fd3-a05d-68e3d3974ebc",
   "metadata": {},
   "outputs": [],
   "source": [
    "test = pd.read_parquet('E:/DS/data/siam/bi/test_meas.parquet')"
   ]
  },
  {
   "cell_type": "code",
   "execution_count": 6,
   "id": "44ae8ff9-a8e8-46d1-b7a4-8583af8411f7",
   "metadata": {},
   "outputs": [
    {
     "data": {
      "text/html": [
       "<div>\n",
       "<style scoped>\n",
       "    .dataframe tbody tr th:only-of-type {\n",
       "        vertical-align: middle;\n",
       "    }\n",
       "\n",
       "    .dataframe tbody tr th {\n",
       "        vertical-align: top;\n",
       "    }\n",
       "\n",
       "    .dataframe thead th {\n",
       "        text-align: right;\n",
       "    }\n",
       "</style>\n",
       "<table border=\"1\" class=\"dataframe\">\n",
       "  <thead>\n",
       "    <tr style=\"text-align: right;\">\n",
       "      <th></th>\n",
       "      <th>file_name</th>\n",
       "      <th>time</th>\n",
       "      <th>atm</th>\n",
       "      <th>der_atm</th>\n",
       "    </tr>\n",
       "  </thead>\n",
       "  <tbody>\n",
       "    <tr>\n",
       "      <th>0</th>\n",
       "      <td>00950953-2e3b-4e38-91cb-5bbdd5dbda0e</td>\n",
       "      <td>0.155730</td>\n",
       "      <td>3.762312</td>\n",
       "      <td>5.678179</td>\n",
       "    </tr>\n",
       "    <tr>\n",
       "      <th>1</th>\n",
       "      <td>00950953-2e3b-4e38-91cb-5bbdd5dbda0e</td>\n",
       "      <td>0.189730</td>\n",
       "      <td>4.508152</td>\n",
       "      <td>4.686962</td>\n",
       "    </tr>\n",
       "    <tr>\n",
       "      <th>2</th>\n",
       "      <td>00950953-2e3b-4e38-91cb-5bbdd5dbda0e</td>\n",
       "      <td>0.222730</td>\n",
       "      <td>5.804305</td>\n",
       "      <td>5.854821</td>\n",
       "    </tr>\n",
       "    <tr>\n",
       "      <th>3</th>\n",
       "      <td>00950953-2e3b-4e38-91cb-5bbdd5dbda0e</td>\n",
       "      <td>0.255730</td>\n",
       "      <td>6.138593</td>\n",
       "      <td>6.969295</td>\n",
       "    </tr>\n",
       "    <tr>\n",
       "      <th>4</th>\n",
       "      <td>00950953-2e3b-4e38-91cb-5bbdd5dbda0e</td>\n",
       "      <td>0.289730</td>\n",
       "      <td>7.318060</td>\n",
       "      <td>7.049870</td>\n",
       "    </tr>\n",
       "    <tr>\n",
       "      <th>...</th>\n",
       "      <td>...</td>\n",
       "      <td>...</td>\n",
       "      <td>...</td>\n",
       "      <td>...</td>\n",
       "    </tr>\n",
       "    <tr>\n",
       "      <th>105</th>\n",
       "      <td>00950953-2e3b-4e38-91cb-5bbdd5dbda0e</td>\n",
       "      <td>250.339563</td>\n",
       "      <td>138.743547</td>\n",
       "      <td>78.299472</td>\n",
       "    </tr>\n",
       "    <tr>\n",
       "      <th>106</th>\n",
       "      <td>00950953-2e3b-4e38-91cb-5bbdd5dbda0e</td>\n",
       "      <td>256.339563</td>\n",
       "      <td>140.709852</td>\n",
       "      <td>80.186100</td>\n",
       "    </tr>\n",
       "    <tr>\n",
       "      <th>107</th>\n",
       "      <td>00950953-2e3b-4e38-91cb-5bbdd5dbda0e</td>\n",
       "      <td>262.339563</td>\n",
       "      <td>141.608644</td>\n",
       "      <td>89.769276</td>\n",
       "    </tr>\n",
       "    <tr>\n",
       "      <th>108</th>\n",
       "      <td>00950953-2e3b-4e38-91cb-5bbdd5dbda0e</td>\n",
       "      <td>271.339563</td>\n",
       "      <td>143.929735</td>\n",
       "      <td>103.311969</td>\n",
       "    </tr>\n",
       "    <tr>\n",
       "      <th>109</th>\n",
       "      <td>00950953-2e3b-4e38-91cb-5bbdd5dbda0e</td>\n",
       "      <td>280.339563</td>\n",
       "      <td>145.653208</td>\n",
       "      <td>158.745881</td>\n",
       "    </tr>\n",
       "  </tbody>\n",
       "</table>\n",
       "<p>110 rows × 4 columns</p>\n",
       "</div>"
      ],
      "text/plain": [
       "                                file_name        time         atm     der_atm\n",
       "0    00950953-2e3b-4e38-91cb-5bbdd5dbda0e    0.155730    3.762312    5.678179\n",
       "1    00950953-2e3b-4e38-91cb-5bbdd5dbda0e    0.189730    4.508152    4.686962\n",
       "2    00950953-2e3b-4e38-91cb-5bbdd5dbda0e    0.222730    5.804305    5.854821\n",
       "3    00950953-2e3b-4e38-91cb-5bbdd5dbda0e    0.255730    6.138593    6.969295\n",
       "4    00950953-2e3b-4e38-91cb-5bbdd5dbda0e    0.289730    7.318060    7.049870\n",
       "..                                    ...         ...         ...         ...\n",
       "105  00950953-2e3b-4e38-91cb-5bbdd5dbda0e  250.339563  138.743547   78.299472\n",
       "106  00950953-2e3b-4e38-91cb-5bbdd5dbda0e  256.339563  140.709852   80.186100\n",
       "107  00950953-2e3b-4e38-91cb-5bbdd5dbda0e  262.339563  141.608644   89.769276\n",
       "108  00950953-2e3b-4e38-91cb-5bbdd5dbda0e  271.339563  143.929735  103.311969\n",
       "109  00950953-2e3b-4e38-91cb-5bbdd5dbda0e  280.339563  145.653208  158.745881\n",
       "\n",
       "[110 rows x 4 columns]"
      ]
     },
     "execution_count": 6,
     "metadata": {},
     "output_type": "execute_result"
    }
   ],
   "source": [
    "test[test.file_name=='00950953-2e3b-4e38-91cb-5bbdd5dbda0e']"
   ]
  },
  {
   "cell_type": "code",
   "execution_count": 11,
   "id": "41f85962-ba5f-4052-aa91-39a7d36b9f2d",
   "metadata": {},
   "outputs": [
    {
     "data": {
      "image/png": "[encoded data removed]",
      "text/plain": [
       "<Figure size 800x600 with 1 Axes>"
      ]
     },
     "metadata": {},
     "output_type": "display_data"
    }
   ],
   "source": [
    "plot_log_data(test_rs[test_rs.file_name=='00950953-2e3b-4e38-91cb-5bbdd5dbda0e'])"
   ]
  },
  {
   "cell_type": "markdown",
   "id": "733fbd0f-de7a-4052-8657-a09f0a92ee09",
   "metadata": {},
   "source": [
    "# Свои графики"
   ]
  },
  {
   "cell_type": "code",
   "execution_count": 1,
   "id": "165fd993-49aa-4f05-b1f6-2542968ab601",
   "metadata": {},
   "outputs": [],
   "source": [
    "import pandas as pd\n",
    "import numpy as np\n",
    "import matplotlib.pyplot as plt\n",
    "from scipy.ndimage import gaussian_filter1d\n",
    "from scipy.signal import savgol_filter\n",
    "from statsmodels.nonparametric.smoothers_lowess import lowess\n",
    "\n",
    "def smooth_and_plot(df, save_path, pressure_type='ma', derivative_type='fd', save_plot=True):\n",
    "    \"\"\"\n",
    "    Function to smooth the pressure and derivative pressure time-series data,\n",
    "    create log-log plots of both pressure and derivative, and optionally save the plot as an image.\n",
    "    \n",
    "    Parameters:\n",
    "        time (pd.Series): The time series data.\n",
    "        pressure (pd.Series): The pressure time series data.\n",
    "        derivative_pressure (pd.Series): The derivative of pressure.\n",
    "        save_path (str): Path where the plot image will be saved (if save_plot=True).\n",
    "        pressure_type (str): Type of smoothing for pressure ('ma', 'gaussian', 'sg', 'lowess').\n",
    "        derivative_type (str): Type of derivative computation ('fd', 'sd', 'cd_log').\n",
    "        save_plot (bool): Whether to save the plot as an image (default=True). If False, it will just display the plot.\n",
    "    \"\"\"\n",
    "    time = df[\"time\"]\n",
    "    pressure = df[\"atm\"]\n",
    "    derivative_pressure = df[\"der_atm\"]\n",
    "    file_name = df.file_name.head(1).item()\n",
    "    \n",
    "    # Smoothing Techniques for Pressure\n",
    "    def moving_average(data, window_size):\n",
    "        return np.convolve(data, np.ones(window_size) / window_size, mode='valid')\n",
    "\n",
    "    def gaussian_smoothing(data, sigma=1):\n",
    "        return gaussian_filter1d(data, sigma=sigma)\n",
    "\n",
    "    def savitzky_golay_smoothing(data, window_length=51, polyorder=3):\n",
    "        return savgol_filter(data, window_length=window_length, polyorder=polyorder)\n",
    "\n",
    "    def lowess_smoothing(time, data, frac=0.1):\n",
    "        smoothed = lowess(data, time, frac=frac)\n",
    "        return smoothed[:, 1]\n",
    "\n",
    "    # Apply smoothing to pressure\n",
    "    if pressure_type == 'ma':\n",
    "        smoothed_pressure = moving_average(pressure, window_size=5)\n",
    "    elif pressure_type == 'gaussian':\n",
    "        smoothed_pressure = gaussian_smoothing(pressure, sigma=2)\n",
    "    elif pressure_type == 'sg':\n",
    "        smoothed_pressure = savitzky_golay_smoothing(pressure)\n",
    "    elif pressure_type == 'lowess':\n",
    "        smoothed_pressure = lowess_smoothing(time, pressure)\n",
    "    elif pressure_type == 'origin':\n",
    "        smoothed_pressure = pressure \n",
    "    else:\n",
    "        raise ValueError(\"Invalid pressure smoothing type. Choose from 'ma', 'gaussian', 'sg', 'lowess'.\")\n",
    "\n",
    "    # Derivative Calculation Methods\n",
    "    def finite_difference_derivative(time, pressure):\n",
    "        return np.gradient(pressure, time)\n",
    "\n",
    "    def smoothed_derivative(time, pressure, window_length=51, polyorder=3):\n",
    "        smoothed_pressure = savitzky_golay_smoothing(pressure, window_length, polyorder)\n",
    "        return np.gradient(smoothed_pressure, time)\n",
    "\n",
    "    def central_difference_logscale_derivative(time, pressure):\n",
    "        dt = np.gradient(np.log(time))\n",
    "        dp = np.gradient(pressure)\n",
    "        return dp * time / dt\n",
    "\n",
    "    # Apply chosen derivative method\n",
    "    if derivative_type == 'fd':\n",
    "        derivative = finite_difference_derivative(time, pressure)\n",
    "    elif derivative_type == 'sd':\n",
    "        derivative = smoothed_derivative(time, pressure)\n",
    "    elif derivative_type == 'cd_log':\n",
    "        derivative = central_difference_logscale_derivative(time, pressure)\n",
    "    elif derivative_type == 'origin':\n",
    "        derivative = derivative_pressure \n",
    "    else:\n",
    "        raise ValueError(\"Invalid derivative type. Choose from 'fd', 'sd', 'cd_log'.\")\n",
    "\n",
    "    # Plotting both pressure and its derivative on the same plot (log-log scale)\n",
    "    plt.figure(figsize=(10, 6))\n",
    "\n",
    "    # Plot original and smoothed pressure\n",
    "    #plt.loglog(time, pressure, label='Original Pressure', color='blue', alpha=0.5)\n",
    "    plt.loglog(time[:len(smoothed_pressure)], smoothed_pressure, label=f'{pressure_type.capitalize()} Smoothing', color='green')\n",
    "\n",
    "    # Plot original and computed derivative\n",
    "    #plt.loglog(time, derivative_pressure, label='Original Derivative of Pressure', color='orange', alpha=0.5)\n",
    "    plt.loglog(time, derivative, label=f'{derivative_type.capitalize()} Derivative', color='red')\n",
    "    \n",
    "    plt.title(\"Smoothed Pressure and Derivative of Pressure (Log-Log Scale)\")\n",
    "    plt.xlabel(\"Time\")\n",
    "    plt.ylabel(\"Pressure / Derivative of Pressure\")\n",
    "    plt.legend()\n",
    "    plt.grid(True)\n",
    "\n",
    "    # If save_plot is True, save the plot as an image\n",
    "    if save_plot:\n",
    "        plt.tight_layout()\n",
    "        plt.savefig(f'{save_path}/{file_name}.png')\n",
    "        #print(f\"Plot saved to {save_path}\")\n",
    "    else:\n",
    "        # Just display the plot if save_plot is False\n",
    "        plt.show()\n",
    "\n",
    "    # Close the plot after saving or showing\n",
    "    plt.close()\n",
    "\n",
    "# Example usage:\n",
    "# Assuming you have 'time', 'pressure', 'derivative_pressure' data ready and a save path\n",
    "# smooth_and_plot(time, pressure, derivative_pressure, \"/path/to/save/directory\", pressure_type='sg', derivative_type='sd', save_plot=True)\n",
    "\n",
    "# Example to just display the plot without saving\n",
    "# smooth_and_plot(time, pressure, derivative_pressure, \"/path/to/save/directory\", pressure_type='ma', derivative_type='fd', save_plot=False)\n"
   ]
  },
  {
   "cell_type": "code",
   "execution_count": 7,
   "id": "d15d3516-d17e-4399-9f6f-f15938ebdfac",
   "metadata": {},
   "outputs": [
    {
     "data": {
      "image/png": "[encoded data removed]",
      "text/plain": [
       "<Figure size 1000x600 with 1 Axes>"
      ]
     },
     "metadata": {},
     "output_type": "display_data"
    }
   ],
   "source": [
    "smooth_and_plot(test[test.file_name==a], '', pressure_type='origin', derivative_type='origin', save_plot=False)"
   ]
  },
  {
   "cell_type": "markdown",
   "id": "92858e8d-992c-426e-9e0c-967ff0c05f84",
   "metadata": {},
   "source": [
    "# Код для генерации разных сглажиавний и производных"
   ]
  },
  {
   "cell_type": "code",
   "execution_count": 3,
   "id": "88b55a93-c0bf-4402-9efe-c1d8d8dc89e9",
   "metadata": {},
   "outputs": [],
   "source": [
    "import pandas as pd\n",
    "import numpy as np\n",
    "from scipy.ndimage import gaussian_filter1d\n",
    "from scipy.signal import savgol_filter\n",
    "from statsmodels.nonparametric.smoothers_lowess import lowess\n",
    "\n",
    "def smooth_and_compute_derivative(df,window_length =51, polyorder =3):\n",
    "    \"\"\"\n",
    "    Function to smooth the pressure and derivative pressure time-series data using all smoothing and derivative methods, \n",
    "    and add new columns to the DataFrame with the smoothed data and derivatives.\n",
    "    \n",
    "    Parameters:\n",
    "        df (pd.DataFrame): The DataFrame containing 'time', 'pressure', and 'derivative_pressure' columns.\n",
    "    \n",
    "    Returns:\n",
    "        pd.DataFrame: The DataFrame with added columns for smoothed pressure and derivatives for all methods.\n",
    "    \"\"\"\n",
    "    \n",
    "    time = df['time']\n",
    "    pressure = df['atm']\n",
    "    derivative_pressure = df['der_atm']\n",
    "    if len(df)<51:\n",
    "        window_length = len(df)\n",
    "    if polyorder>=window_length:\n",
    "        polyorder=window_length-1\n",
    "        \n",
    "    \n",
    "    # Smoothing Techniques for Pressure\n",
    "    def moving_average(data, window_size):\n",
    "        return np.convolve(data, np.ones(window_size) / window_size, mode='valid')\n",
    "\n",
    "    def gaussian_smoothing(data, sigma=1):\n",
    "        return gaussian_filter1d(data, sigma=sigma)\n",
    "\n",
    "    def savitzky_golay_smoothing(data, window_length=window_length, polyorder=polyorder):\n",
    "        return savgol_filter(data, window_length=window_length, polyorder=polyorder)\n",
    "\n",
    "    def lowess_smoothing(time, data, frac=0.1):\n",
    "        smoothed = lowess(data, time, frac=frac)\n",
    "        return smoothed[:, 1]\n",
    "\n",
    "    # Derivative Calculation Methods\n",
    "    def finite_difference_derivative(time, pressure):\n",
    "        return np.gradient(pressure, time)\n",
    "\n",
    "    def smoothed_derivative(time, pressure, window_length=window_length, polyorder=polyorder):\n",
    "        smoothed_pressure = savitzky_golay_smoothing(pressure, window_length, polyorder)\n",
    "        return np.gradient(smoothed_pressure, time)\n",
    "\n",
    "    def central_difference_logscale_derivative(time, pressure):\n",
    "        dt = np.gradient(np.log(time))\n",
    "        dp = np.gradient(pressure)\n",
    "        return dp * time / dt\n",
    "    if len(df)>1:\n",
    "        # Apply smoothing to pressure (all types)\n",
    "        smoothed_pressure_ma = moving_average(pressure, window_size=5)\n",
    "        smoothed_pressure_gaussian = gaussian_smoothing(pressure, sigma=2)\n",
    "        #print(window_length,polyorder)\n",
    "        smoothed_pressure_sg = savitzky_golay_smoothing(pressure, window_length=window_length, polyorder=polyorder)\n",
    "        smoothed_pressure_lowess = lowess_smoothing(time, pressure)\n",
    "    \n",
    "        # Apply derivative methods (all types)\n",
    "        derivative_fd = finite_difference_derivative(time, pressure)\n",
    "        derivative_sd = smoothed_derivative(time, pressure, window_length=window_length, polyorder=polyorder)\n",
    "        derivative_cd_log = central_difference_logscale_derivative(time, pressure)\n",
    "        \n",
    "\n",
    "        # Add new columns to the DataFrame for all smoothed pressure and derivatives\n",
    "        df['smoothed_pressure_ma'] = np.pad(smoothed_pressure_ma, (0, len(df) - len(smoothed_pressure_ma)), mode='edge')\n",
    "        df['smoothed_pressure_gaussian'] = np.pad(smoothed_pressure_gaussian, (0, len(df) - len(smoothed_pressure_gaussian)), mode='edge')\n",
    "        df['smoothed_pressure_sg'] = np.pad(smoothed_pressure_sg, (0, len(df) - len(smoothed_pressure_sg)), mode='edge')\n",
    "        df['smoothed_pressure_lowess'] = np.pad(smoothed_pressure_lowess, (0, len(df) - len(smoothed_pressure_lowess)), mode='edge')\n",
    "    \n",
    "        df['derivative_fd'] = np.pad(derivative_fd, (0, len(df) - len(derivative_fd)), mode='edge')\n",
    "        df['derivative_sd'] = np.pad(derivative_sd, (0, len(df) - len(derivative_sd)), mode='edge')\n",
    "        df['derivative_cd_log'] = np.pad(derivative_cd_log, (0, len(df) - len(derivative_cd_log)), mode='edge')\n",
    "    else:\n",
    "        df['smoothed_pressure_ma']=0\n",
    "        df['smoothed_pressure_gaussian']=0\n",
    "        df['smoothed_pressure_sg']=0\n",
    "        df['smoothed_pressure_lowess']=0\n",
    "        df['derivative_fd']=0\n",
    "        df['derivative_sd']=0\n",
    "        df['derivative_cd_log']=0\n",
    "    return df\n",
    "\n",
    "# Example usage:\n",
    "# Assuming you have a DataFrame `df` with 'time', 'pressure', and 'derivative_pressure' columns\n",
    "# df = smooth_and_compute_derivative(df)\n"
   ]
  },
  {
   "cell_type": "code",
   "execution_count": 99,
   "id": "475dcddf-c3aa-431a-bbb1-5c5c2c2983ea",
   "metadata": {},
   "outputs": [],
   "source": [
    "cc = test[test.file_name=='00950953-2e3b-4e38-91cb-5bbdd5dbda0e']"
   ]
  },
  {
   "cell_type": "code",
   "execution_count": 2,
   "id": "ff0b0309-1773-40d5-87f7-5bdfeec14889",
   "metadata": {},
   "outputs": [],
   "source": [
    "import warnings\n",
    "warnings.filterwarnings('ignore')"
   ]
  },
  {
   "cell_type": "code",
   "execution_count": 100,
   "id": "9dfecc81-256e-495a-ac9f-d2279736459a",
   "metadata": {},
   "outputs": [
    {
     "name": "stdout",
     "output_type": "stream",
     "text": [
      "CPU times: total: 15.6 ms\n",
      "Wall time: 16 ms\n"
     ]
    }
   ],
   "source": [
    "%%time\n",
    "cc = smooth_and_compute_derivative(cc)"
   ]
  },
  {
   "cell_type": "code",
   "execution_count": 108,
   "id": "0ba6fc62-542d-4594-8450-ab8f6dcae22c",
   "metadata": {},
   "outputs": [],
   "source": [
    "un_ids = test.file_name.unique()"
   ]
  },
  {
   "cell_type": "code",
   "execution_count": 122,
   "id": "e189f589-d812-460e-b29e-beacd914bbf3",
   "metadata": {},
   "outputs": [],
   "source": [
    "new_test = []\n",
    "for uuid in un_ids:\n",
    "    cc = test[test.file_name==uuid]\n",
    "    cc = smooth_and_compute_derivative(cc)\n",
    "    new_test.append(cc)\n",
    "new_test = pd.concat(new_test)"
   ]
  },
  {
   "cell_type": "code",
   "execution_count": 106,
   "id": "2c712a95-39df-45b5-8053-a2ffaea41c20",
   "metadata": {},
   "outputs": [
    {
     "data": {
      "text/plain": [
       "file_name\n",
       "147a0303-014c-4ad3-adbb-0679b9816b82    1851\n",
       "5c50201b-6445-49a1-8e8c-9402749854ca    1526\n",
       "61fbe25b-2b93-4e35-bebf-9f05b28779ee     722\n",
       "81b585eb-532c-478a-9a95-68c89e2787b4     693\n",
       "3088dbdd-c980-4835-a6ab-997ce8d0c25e     597\n",
       "                                        ... \n",
       "d3421fe4-5c16-481c-8ec1-845b59cae9e0       3\n",
       "106fb7c4-3d9f-43c7-8401-f08e2b02a921       1\n",
       "3712e002-6e62-4d87-aa44-9d25817e2004       1\n",
       "287db032-b8aa-4608-b389-2fe60f0a6a54       1\n",
       "846291a2-6475-47ac-8f10-08eac6b93fcb       1\n",
       "Name: count, Length: 500, dtype: int64"
      ]
     },
     "execution_count": 106,
     "metadata": {},
     "output_type": "execute_result"
    }
   ],
   "source": [
    "test.file_name.value_counts()"
   ]
  },
  {
   "cell_type": "code",
   "execution_count": 124,
   "id": "92725a23-1d64-4b23-8547-0f18435c4cad",
   "metadata": {},
   "outputs": [
    {
     "data": {
      "text/html": [
       "<div>\n",
       "<style scoped>\n",
       "    .dataframe tbody tr th:only-of-type {\n",
       "        vertical-align: middle;\n",
       "    }\n",
       "\n",
       "    .dataframe tbody tr th {\n",
       "        vertical-align: top;\n",
       "    }\n",
       "\n",
       "    .dataframe thead th {\n",
       "        text-align: right;\n",
       "    }\n",
       "</style>\n",
       "<table border=\"1\" class=\"dataframe\">\n",
       "  <thead>\n",
       "    <tr style=\"text-align: right;\">\n",
       "      <th></th>\n",
       "      <th>time</th>\n",
       "      <th>atm</th>\n",
       "      <th>der_atm</th>\n",
       "      <th>smoothed_pressure_ma</th>\n",
       "      <th>smoothed_pressure_gaussian</th>\n",
       "      <th>smoothed_pressure_sg</th>\n",
       "      <th>smoothed_pressure_lowess</th>\n",
       "      <th>derivative_fd</th>\n",
       "      <th>derivative_sd</th>\n",
       "      <th>derivative_cd_log</th>\n",
       "    </tr>\n",
       "  </thead>\n",
       "  <tbody>\n",
       "    <tr>\n",
       "      <th>count</th>\n",
       "      <td>79042.000000</td>\n",
       "      <td>7.904200e+04</td>\n",
       "      <td>7.904200e+04</td>\n",
       "      <td>7.904200e+04</td>\n",
       "      <td>7.904200e+04</td>\n",
       "      <td>7.904200e+04</td>\n",
       "      <td>7.904200e+04</td>\n",
       "      <td>7.904200e+04</td>\n",
       "      <td>7.904200e+04</td>\n",
       "      <td>7.904200e+04</td>\n",
       "    </tr>\n",
       "    <tr>\n",
       "      <th>mean</th>\n",
       "      <td>96.937459</td>\n",
       "      <td>1.252793e+04</td>\n",
       "      <td>2.306339e+03</td>\n",
       "      <td>1.267891e+04</td>\n",
       "      <td>1.252793e+04</td>\n",
       "      <td>1.253099e+04</td>\n",
       "      <td>1.252224e+04</td>\n",
       "      <td>1.537771e+04</td>\n",
       "      <td>1.480789e+04</td>\n",
       "      <td>1.355195e+05</td>\n",
       "    </tr>\n",
       "    <tr>\n",
       "      <th>std</th>\n",
       "      <td>354.703714</td>\n",
       "      <td>1.000603e+05</td>\n",
       "      <td>2.791532e+04</td>\n",
       "      <td>1.008991e+05</td>\n",
       "      <td>1.000426e+05</td>\n",
       "      <td>1.000598e+05</td>\n",
       "      <td>9.995991e+04</td>\n",
       "      <td>2.833488e+05</td>\n",
       "      <td>2.688222e+05</td>\n",
       "      <td>2.048223e+06</td>\n",
       "    </tr>\n",
       "    <tr>\n",
       "      <th>min</th>\n",
       "      <td>0.000011</td>\n",
       "      <td>3.234952e-04</td>\n",
       "      <td>8.626791e-05</td>\n",
       "      <td>0.000000e+00</td>\n",
       "      <td>0.000000e+00</td>\n",
       "      <td>-1.092720e+04</td>\n",
       "      <td>-1.178097e+00</td>\n",
       "      <td>-2.333560e+05</td>\n",
       "      <td>-4.032586e+06</td>\n",
       "      <td>-5.338110e+05</td>\n",
       "    </tr>\n",
       "    <tr>\n",
       "      <th>25%</th>\n",
       "      <td>1.463325</td>\n",
       "      <td>1.081356e+01</td>\n",
       "      <td>1.958375e+00</td>\n",
       "      <td>1.149160e+01</td>\n",
       "      <td>1.088666e+01</td>\n",
       "      <td>1.088698e+01</td>\n",
       "      <td>1.083278e+01</td>\n",
       "      <td>5.123203e-02</td>\n",
       "      <td>5.958817e-02</td>\n",
       "      <td>3.812278e+00</td>\n",
       "    </tr>\n",
       "    <tr>\n",
       "      <th>50%</th>\n",
       "      <td>11.747529</td>\n",
       "      <td>3.557671e+01</td>\n",
       "      <td>6.169643e+00</td>\n",
       "      <td>3.647108e+01</td>\n",
       "      <td>3.558352e+01</td>\n",
       "      <td>3.565409e+01</td>\n",
       "      <td>3.556310e+01</td>\n",
       "      <td>4.329581e-01</td>\n",
       "      <td>4.916724e-01</td>\n",
       "      <td>5.684591e+01</td>\n",
       "    </tr>\n",
       "    <tr>\n",
       "      <th>75%</th>\n",
       "      <td>64.338869</td>\n",
       "      <td>8.672769e+01</td>\n",
       "      <td>1.797883e+01</td>\n",
       "      <td>8.840990e+01</td>\n",
       "      <td>8.669406e+01</td>\n",
       "      <td>8.673467e+01</td>\n",
       "      <td>8.674621e+01</td>\n",
       "      <td>5.532607e+00</td>\n",
       "      <td>6.178167e+00</td>\n",
       "      <td>5.860682e+02</td>\n",
       "    </tr>\n",
       "    <tr>\n",
       "      <th>max</th>\n",
       "      <td>9796.000000</td>\n",
       "      <td>2.160217e+06</td>\n",
       "      <td>1.093242e+06</td>\n",
       "      <td>2.160003e+06</td>\n",
       "      <td>2.159899e+06</td>\n",
       "      <td>2.159795e+06</td>\n",
       "      <td>2.159882e+06</td>\n",
       "      <td>2.031930e+07</td>\n",
       "      <td>1.436239e+07</td>\n",
       "      <td>6.566944e+07</td>\n",
       "    </tr>\n",
       "  </tbody>\n",
       "</table>\n",
       "</div>"
      ],
      "text/plain": [
       "               time           atm       der_atm  smoothed_pressure_ma  \\\n",
       "count  79042.000000  7.904200e+04  7.904200e+04          7.904200e+04   \n",
       "mean      96.937459  1.252793e+04  2.306339e+03          1.267891e+04   \n",
       "std      354.703714  1.000603e+05  2.791532e+04          1.008991e+05   \n",
       "min        0.000011  3.234952e-04  8.626791e-05          0.000000e+00   \n",
       "25%        1.463325  1.081356e+01  1.958375e+00          1.149160e+01   \n",
       "50%       11.747529  3.557671e+01  6.169643e+00          3.647108e+01   \n",
       "75%       64.338869  8.672769e+01  1.797883e+01          8.840990e+01   \n",
       "max     9796.000000  2.160217e+06  1.093242e+06          2.160003e+06   \n",
       "\n",
       "       smoothed_pressure_gaussian  smoothed_pressure_sg  \\\n",
       "count                7.904200e+04          7.904200e+04   \n",
       "mean                 1.252793e+04          1.253099e+04   \n",
       "std                  1.000426e+05          1.000598e+05   \n",
       "min                  0.000000e+00         -1.092720e+04   \n",
       "25%                  1.088666e+01          1.088698e+01   \n",
       "50%                  3.558352e+01          3.565409e+01   \n",
       "75%                  8.669406e+01          8.673467e+01   \n",
       "max                  2.159899e+06          2.159795e+06   \n",
       "\n",
       "       smoothed_pressure_lowess  derivative_fd  derivative_sd  \\\n",
       "count              7.904200e+04   7.904200e+04   7.904200e+04   \n",
       "mean               1.252224e+04   1.537771e+04   1.480789e+04   \n",
       "std                9.995991e+04   2.833488e+05   2.688222e+05   \n",
       "min               -1.178097e+00  -2.333560e+05  -4.032586e+06   \n",
       "25%                1.083278e+01   5.123203e-02   5.958817e-02   \n",
       "50%                3.556310e+01   4.329581e-01   4.916724e-01   \n",
       "75%                8.674621e+01   5.532607e+00   6.178167e+00   \n",
       "max                2.159882e+06   2.031930e+07   1.436239e+07   \n",
       "\n",
       "       derivative_cd_log  \n",
       "count       7.904200e+04  \n",
       "mean        1.355195e+05  \n",
       "std         2.048223e+06  \n",
       "min        -5.338110e+05  \n",
       "25%         3.812278e+00  \n",
       "50%         5.684591e+01  \n",
       "75%         5.860682e+02  \n",
       "max         6.566944e+07  "
      ]
     },
     "execution_count": 124,
     "metadata": {},
     "output_type": "execute_result"
    }
   ],
   "source": [
    "new_test.describe()"
   ]
  },
  {
   "cell_type": "code",
   "execution_count": 125,
   "id": "8321f9d3-e21e-45a0-9cfa-acfe6a7aa325",
   "metadata": {},
   "outputs": [
    {
     "data": {
      "text/plain": [
       "file_name                     0\n",
       "time                          0\n",
       "atm                           0\n",
       "der_atm                       0\n",
       "smoothed_pressure_ma          0\n",
       "smoothed_pressure_gaussian    0\n",
       "smoothed_pressure_sg          0\n",
       "smoothed_pressure_lowess      0\n",
       "derivative_fd                 0\n",
       "derivative_sd                 0\n",
       "derivative_cd_log             0\n",
       "dtype: int64"
      ]
     },
     "execution_count": 125,
     "metadata": {},
     "output_type": "execute_result"
    }
   ],
   "source": [
    "new_test.isna().sum()"
   ]
  },
  {
   "cell_type": "markdown",
   "id": "f7405871-ad03-4f2d-9b1e-315ab676acd8",
   "metadata": {},
   "source": [
    "## подготовим альтернативные сглаживания и производные"
   ]
  },
  {
   "cell_type": "code",
   "execution_count": 126,
   "id": "0d8582b7-a089-4024-a130-b141a03b4b53",
   "metadata": {},
   "outputs": [],
   "source": [
    "from tqdm import tqdm"
   ]
  },
  {
   "cell_type": "code",
   "execution_count": 130,
   "id": "d20c00ec-14cb-411a-8294-0bef804cbc27",
   "metadata": {},
   "outputs": [],
   "source": [
    "import os"
   ]
  },
  {
   "cell_type": "code",
   "execution_count": 131,
   "id": "d1aae297-c766-4341-83a5-61a3bb69c44a",
   "metadata": {},
   "outputs": [],
   "source": [
    "\n",
    "un_ids = os.listdir('E:/DS/data/siam/bi/train/')"
   ]
  },
  {
   "cell_type": "code",
   "execution_count": 127,
   "id": "d3792f68-f8e7-4418-aae3-91180b1efd0f",
   "metadata": {},
   "outputs": [],
   "source": [
    "train = pd.read_parquet('E:/DS/data/siam/bi/train_meas.parquet')"
   ]
  },
  {
   "cell_type": "code",
   "execution_count": 128,
   "id": "ef251e61-b86e-4dee-81f8-ca13c24651b8",
   "metadata": {},
   "outputs": [],
   "source": [
    "un_ids = train.file_name.unique()"
   ]
  },
  {
   "cell_type": "code",
   "execution_count": 140,
   "id": "580fd1f6-1670-489b-aa23-caca32653983",
   "metadata": {},
   "outputs": [
    {
     "name": "stderr",
     "output_type": "stream",
     "text": [
      "100%|████████████████████████████████████████████████████████████████████████████| 45141/45141 [21:49<00:00, 34.46it/s]\n"
     ]
    }
   ],
   "source": [
    "new_train = []\n",
    "errors = []\n",
    "for uuid in tqdm(un_ids, total = len(un_ids)):\n",
    "    file_path = os.path.join('E:/DS/data/siam/bi/train/', uuid)\n",
    "    if os.path.isfile(file_path):\n",
    "        # Read the CSV file without a header and with tab as the separator\n",
    "        try:\n",
    "            df = pd.read_csv(file_path, sep='\\t', header=None)\n",
    "    \n",
    "            # Ensure the file has exactly 3 columns (time, atm, der_atm)\n",
    "    \n",
    "            # Assign column names to the DataFrame\n",
    "            df.columns = ['time', 'atm', 'der_atm']\n",
    "    \n",
    "            # Add a new column for the file name\n",
    "            df['file_name'] = uuid\n",
    "    \n",
    "            # Reorder columns to match the desired output format\n",
    "            df = df[['file_name', 'time', 'atm', 'der_atm']]\n",
    "            cc = df\n",
    "            try:\n",
    "                cc = smooth_and_compute_derivative(cc)\n",
    "                new_train.append(cc)\n",
    "            except:\n",
    "                errors.append(uuid)\n",
    "        except:\n",
    "            errors.append(uuid)                \n",
    "new_train = pd.concat(new_train)"
   ]
  },
  {
   "cell_type": "code",
   "execution_count": 145,
   "id": "7ced8136-346b-42f1-b8b5-e530e34cc284",
   "metadata": {},
   "outputs": [
    {
     "data": {
      "text/plain": [
       "332"
      ]
     },
     "execution_count": 145,
     "metadata": {},
     "output_type": "execute_result"
    }
   ],
   "source": [
    "len(errors)"
   ]
  },
  {
   "cell_type": "code",
   "execution_count": 141,
   "id": "5ef1a94d-2870-47b2-9a5e-f24c83867e15",
   "metadata": {},
   "outputs": [
    {
     "data": {
      "text/html": [
       "<div>\n",
       "<style scoped>\n",
       "    .dataframe tbody tr th:only-of-type {\n",
       "        vertical-align: middle;\n",
       "    }\n",
       "\n",
       "    .dataframe tbody tr th {\n",
       "        vertical-align: top;\n",
       "    }\n",
       "\n",
       "    .dataframe thead th {\n",
       "        text-align: right;\n",
       "    }\n",
       "</style>\n",
       "<table border=\"1\" class=\"dataframe\">\n",
       "  <thead>\n",
       "    <tr style=\"text-align: right;\">\n",
       "      <th></th>\n",
       "      <th>time</th>\n",
       "      <th>atm</th>\n",
       "      <th>der_atm</th>\n",
       "      <th>smoothed_pressure_ma</th>\n",
       "      <th>smoothed_pressure_gaussian</th>\n",
       "      <th>smoothed_pressure_sg</th>\n",
       "      <th>smoothed_pressure_lowess</th>\n",
       "      <th>derivative_fd</th>\n",
       "      <th>derivative_sd</th>\n",
       "      <th>derivative_cd_log</th>\n",
       "    </tr>\n",
       "  </thead>\n",
       "  <tbody>\n",
       "    <tr>\n",
       "      <th>count</th>\n",
       "      <td>8.450291e+06</td>\n",
       "      <td>8.450291e+06</td>\n",
       "      <td>8.450291e+06</td>\n",
       "      <td>8.450291e+06</td>\n",
       "      <td>8.450291e+06</td>\n",
       "      <td>8.450291e+06</td>\n",
       "      <td>8.450291e+06</td>\n",
       "      <td>8.450291e+06</td>\n",
       "      <td>8.450291e+06</td>\n",
       "      <td>8.450115e+06</td>\n",
       "    </tr>\n",
       "    <tr>\n",
       "      <th>mean</th>\n",
       "      <td>1.047740e+02</td>\n",
       "      <td>1.098560e+26</td>\n",
       "      <td>1.538404e+25</td>\n",
       "      <td>1.108552e+26</td>\n",
       "      <td>1.098560e+26</td>\n",
       "      <td>1.099158e+26</td>\n",
       "      <td>1.112726e+26</td>\n",
       "      <td>9.180014e+25</td>\n",
       "      <td>9.033633e+25</td>\n",
       "      <td>5.862241e+26</td>\n",
       "    </tr>\n",
       "    <tr>\n",
       "      <th>std</th>\n",
       "      <td>1.808394e+03</td>\n",
       "      <td>1.807096e+28</td>\n",
       "      <td>3.163218e+27</td>\n",
       "      <td>1.820474e+28</td>\n",
       "      <td>1.806788e+28</td>\n",
       "      <td>1.807766e+28</td>\n",
       "      <td>1.817742e+28</td>\n",
       "      <td>6.154411e+28</td>\n",
       "      <td>5.907448e+28</td>\n",
       "      <td>2.207650e+29</td>\n",
       "    </tr>\n",
       "    <tr>\n",
       "      <th>min</th>\n",
       "      <td>-5.561043e+02</td>\n",
       "      <td>2.564978e-07</td>\n",
       "      <td>5.039755e-13</td>\n",
       "      <td>0.000000e+00</td>\n",
       "      <td>0.000000e+00</td>\n",
       "      <td>-3.263002e+05</td>\n",
       "      <td>-1.384848e+05</td>\n",
       "      <td>-2.375855e+07</td>\n",
       "      <td>-4.585329e+28</td>\n",
       "      <td>-1.532981e+09</td>\n",
       "    </tr>\n",
       "    <tr>\n",
       "      <th>25%</th>\n",
       "      <td>9.083333e-01</td>\n",
       "      <td>1.212583e+01</td>\n",
       "      <td>2.378922e+00</td>\n",
       "      <td>1.264083e+01</td>\n",
       "      <td>1.217117e+01</td>\n",
       "      <td>1.216526e+01</td>\n",
       "      <td>1.214141e+01</td>\n",
       "      <td>1.110449e-01</td>\n",
       "      <td>1.308368e-01</td>\n",
       "      <td>3.361554e+00</td>\n",
       "    </tr>\n",
       "    <tr>\n",
       "      <th>50%</th>\n",
       "      <td>7.300000e+00</td>\n",
       "      <td>3.823615e+01</td>\n",
       "      <td>7.674474e+00</td>\n",
       "      <td>3.913066e+01</td>\n",
       "      <td>3.825940e+01</td>\n",
       "      <td>3.827316e+01</td>\n",
       "      <td>3.822085e+01</td>\n",
       "      <td>9.278012e-01</td>\n",
       "      <td>1.037269e+00</td>\n",
       "      <td>5.198626e+01</td>\n",
       "    </tr>\n",
       "    <tr>\n",
       "      <th>75%</th>\n",
       "      <td>4.397588e+01</td>\n",
       "      <td>1.126225e+02</td>\n",
       "      <td>2.418928e+01</td>\n",
       "      <td>1.142728e+02</td>\n",
       "      <td>1.126223e+02</td>\n",
       "      <td>1.125673e+02</td>\n",
       "      <td>1.125531e+02</td>\n",
       "      <td>1.254890e+01</td>\n",
       "      <td>1.422721e+01</td>\n",
       "      <td>5.995373e+02</td>\n",
       "    </tr>\n",
       "    <tr>\n",
       "      <th>max</th>\n",
       "      <td>8.429354e+05</td>\n",
       "      <td>4.647122e+30</td>\n",
       "      <td>1.324309e+30</td>\n",
       "      <td>4.595379e+30</td>\n",
       "      <td>4.616909e+30</td>\n",
       "      <td>4.647281e+30</td>\n",
       "      <td>4.667284e+30</td>\n",
       "      <td>6.696182e+31</td>\n",
       "      <td>6.355187e+31</td>\n",
       "      <td>1.645891e+32</td>\n",
       "    </tr>\n",
       "  </tbody>\n",
       "</table>\n",
       "</div>"
      ],
      "text/plain": [
       "               time           atm       der_atm  smoothed_pressure_ma  \\\n",
       "count  8.450291e+06  8.450291e+06  8.450291e+06          8.450291e+06   \n",
       "mean   1.047740e+02  1.098560e+26  1.538404e+25          1.108552e+26   \n",
       "std    1.808394e+03  1.807096e+28  3.163218e+27          1.820474e+28   \n",
       "min   -5.561043e+02  2.564978e-07  5.039755e-13          0.000000e+00   \n",
       "25%    9.083333e-01  1.212583e+01  2.378922e+00          1.264083e+01   \n",
       "50%    7.300000e+00  3.823615e+01  7.674474e+00          3.913066e+01   \n",
       "75%    4.397588e+01  1.126225e+02  2.418928e+01          1.142728e+02   \n",
       "max    8.429354e+05  4.647122e+30  1.324309e+30          4.595379e+30   \n",
       "\n",
       "       smoothed_pressure_gaussian  smoothed_pressure_sg  \\\n",
       "count                8.450291e+06          8.450291e+06   \n",
       "mean                 1.098560e+26          1.099158e+26   \n",
       "std                  1.806788e+28          1.807766e+28   \n",
       "min                  0.000000e+00         -3.263002e+05   \n",
       "25%                  1.217117e+01          1.216526e+01   \n",
       "50%                  3.825940e+01          3.827316e+01   \n",
       "75%                  1.126223e+02          1.125673e+02   \n",
       "max                  4.616909e+30          4.647281e+30   \n",
       "\n",
       "       smoothed_pressure_lowess  derivative_fd  derivative_sd  \\\n",
       "count              8.450291e+06   8.450291e+06   8.450291e+06   \n",
       "mean               1.112726e+26   9.180014e+25   9.033633e+25   \n",
       "std                1.817742e+28   6.154411e+28   5.907448e+28   \n",
       "min               -1.384848e+05  -2.375855e+07  -4.585329e+28   \n",
       "25%                1.214141e+01   1.110449e-01   1.308368e-01   \n",
       "50%                3.822085e+01   9.278012e-01   1.037269e+00   \n",
       "75%                1.125531e+02   1.254890e+01   1.422721e+01   \n",
       "max                4.667284e+30   6.696182e+31   6.355187e+31   \n",
       "\n",
       "       derivative_cd_log  \n",
       "count       8.450115e+06  \n",
       "mean        5.862241e+26  \n",
       "std         2.207650e+29  \n",
       "min        -1.532981e+09  \n",
       "25%         3.361554e+00  \n",
       "50%         5.198626e+01  \n",
       "75%         5.995373e+02  \n",
       "max         1.645891e+32  "
      ]
     },
     "execution_count": 141,
     "metadata": {},
     "output_type": "execute_result"
    }
   ],
   "source": [
    "new_train.describe()"
   ]
  },
  {
   "cell_type": "code",
   "execution_count": 144,
   "id": "f6c1d9f8-991f-4294-b0b8-56480bfd70db",
   "metadata": {},
   "outputs": [],
   "source": [
    "new_test.to_parquet('E:/DS/data/siam/bi/test_meas_adv.parquet', index=False)\n",
    "new_train.fillna(0).to_parquet('E:/DS/data/siam/bi/train_meas_adv.parquet', index=False)"
   ]
  },
  {
   "cell_type": "code",
   "execution_count": 3,
   "id": "252c7534-059b-4084-85ae-087fa91b894a",
   "metadata": {},
   "outputs": [],
   "source": [
    "import os\n",
    "from tqdm import tqdm"
   ]
  },
  {
   "cell_type": "code",
   "execution_count": 14,
   "id": "e02e5818-ebe5-4d20-a980-91520a20faee",
   "metadata": {},
   "outputs": [
    {
     "name": "stderr",
     "output_type": "stream",
     "text": [
      "100%|████████████████████████████████████████████████████████████████████████████████| 500/500 [04:50<00:00,  1.72it/s]\n"
     ]
    }
   ],
   "source": [
    "#new_train = []\n",
    "un_ids = test.file_name.unique()\n",
    "errors = []\n",
    "for uuid in tqdm(un_ids, total = len(un_ids)):\n",
    "    file_path = os.path.join('E:/DS/data/siam/bi/test/', uuid)\n",
    "    if os.path.isfile(file_path):\n",
    "        # Read the CSV file without a header and with tab as the separator\n",
    "        try:\n",
    "            df = pd.read_csv(file_path, sep='\\t', header=None)\n",
    "    \n",
    "            # Ensure the file has exactly 3 columns (time, atm, der_atm)\n",
    "    \n",
    "            # Assign column names to the DataFrame\n",
    "            df.columns = ['time', 'atm', 'der_atm']\n",
    "    \n",
    "            # Add a new column for the file name\n",
    "            df['file_name'] = uuid\n",
    "    \n",
    "            # Reorder columns to match the desired output format\n",
    "            df = df[['file_name', 'time', 'atm', 'der_atm']]\n",
    "            cc = df\n",
    "            try:\n",
    "                smooth_and_plot(cc, 'E:/DS/data/siam/plots/test/', pressure_type='origin', derivative_type='origin', save_plot=True)\n",
    "                #new_train.append(cc)\n",
    "            except:\n",
    "                errors.append(uuid)\n",
    "        except:\n",
    "            errors.append(uuid)                "
   ]
  },
  {
   "cell_type": "code",
   "execution_count": 15,
   "id": "dfc1e26c-a5e6-4953-bc98-c1ba4da7b245",
   "metadata": {},
   "outputs": [
    {
     "name": "stdout",
     "output_type": "stream",
     "text": [
      "1\n"
     ]
    }
   ],
   "source": [
    "print(len(errors))"
   ]
  },
  {
   "cell_type": "code",
   "execution_count": 16,
   "id": "73a76896-c596-484a-8474-1e84eba47228",
   "metadata": {},
   "outputs": [
    {
     "data": {
      "text/plain": [
       "['846291a2-6475-47ac-8f10-08eac6b93fcb']"
      ]
     },
     "execution_count": 16,
     "metadata": {},
     "output_type": "execute_result"
    }
   ],
   "source": [
    "errors"
   ]
  },
  {
   "cell_type": "code",
   "execution_count": 17,
   "id": "8d0db2d5-11ec-4816-a885-591d93882505",
   "metadata": {},
   "outputs": [
    {
     "data": {
      "text/plain": [
       "500"
      ]
     },
     "execution_count": 17,
     "metadata": {},
     "output_type": "execute_result"
    }
   ],
   "source": [
    "len(un_ids)"
   ]
  },
  {
   "cell_type": "code",
   "execution_count": 23,
   "id": "fd65e3f3-f938-4270-9935-f55d39225186",
   "metadata": {},
   "outputs": [],
   "source": [
    "dev_ids = pd.read_csv('E:/DS/data/siam/bi/tgs/deb1k_df_woo_r_sc_f_adv.csv')"
   ]
  },
  {
   "cell_type": "code",
   "execution_count": 25,
   "id": "822d5dc4-d7fc-4004-94d8-cc4874bb66ab",
   "metadata": {},
   "outputs": [
    {
     "data": {
      "text/plain": [
       "1000"
      ]
     },
     "execution_count": 25,
     "metadata": {},
     "output_type": "execute_result"
    }
   ],
   "source": [
    "dev_ids.file_name.nunique()"
   ]
  },
  {
   "cell_type": "code",
   "execution_count": 26,
   "id": "a4b962e1-33a2-40ca-9ec9-033aa97e6bd9",
   "metadata": {},
   "outputs": [
    {
     "name": "stderr",
     "output_type": "stream",
     "text": [
      "100%|██████████████████████████████████████████████████████████████████████████████| 1000/1000 [09:53<00:00,  1.68it/s]\n"
     ]
    }
   ],
   "source": [
    "#new_train = []\n",
    "un_ids = dev_ids.file_name.unique()\n",
    "errors = []\n",
    "for uuid in tqdm(un_ids, total = len(un_ids)):\n",
    "    file_path = os.path.join('E:/DS/data/siam/bi/train/', uuid)\n",
    "    if os.path.isfile(file_path):\n",
    "        # Read the CSV file without a header and with tab as the separator\n",
    "        try:\n",
    "            df = pd.read_csv(file_path, sep='\\t', header=None)\n",
    "    \n",
    "            # Ensure the file has exactly 3 columns (time, atm, der_atm)\n",
    "    \n",
    "            # Assign column names to the DataFrame\n",
    "            df.columns = ['time', 'atm', 'der_atm']\n",
    "    \n",
    "            # Add a new column for the file name\n",
    "            df['file_name'] = uuid\n",
    "    \n",
    "            # Reorder columns to match the desired output format\n",
    "            df = df[['file_name', 'time', 'atm', 'der_atm']]\n",
    "            cc = df\n",
    "            try:\n",
    "                smooth_and_plot(cc, 'E:/DS/data/siam/plots/deb/', pressure_type='origin', derivative_type='origin', save_plot=True)\n",
    "                #new_train.append(cc)\n",
    "            except:\n",
    "                errors.append(uuid)\n",
    "        except:\n",
    "            errors.append(uuid)                "
   ]
  },
  {
   "cell_type": "code",
   "execution_count": 28,
   "id": "d6c1b6c5-57b8-4713-a3c4-70afcbd8baba",
   "metadata": {},
   "outputs": [
    {
     "data": {
      "text/plain": [
       "0"
      ]
     },
     "execution_count": 28,
     "metadata": {},
     "output_type": "execute_result"
    }
   ],
   "source": [
    "len(errors)"
   ]
  },
  {
   "cell_type": "code",
   "execution_count": null,
   "id": "05163f43-69a9-4f93-bafd-092bb1f50200",
   "metadata": {},
   "outputs": [],
   "source": [
    "#dev_ids[~dev_ids.file_name.isin(errors)].to_csv('E:/DS/data/siam/bi/tgs/deb1k_CV.csv', index=False)"
   ]
  },
  {
   "cell_type": "markdown",
   "id": "9af7a28c-e8ae-465a-bf0a-0ac90cd2cc5d",
   "metadata": {},
   "source": [
    "# Код для генерации и сохранения графиков как картинок\n",
    "пришлось несколько запусков делать, гдето утекает память"
   ]
  },
  {
   "cell_type": "code",
   "execution_count": 2,
   "id": "7775797a-8bf8-4cca-a94b-0bc0ae28f653",
   "metadata": {},
   "outputs": [],
   "source": [
    "import os\n",
    "from tqdm import tqdm"
   ]
  },
  {
   "cell_type": "code",
   "execution_count": 3,
   "id": "277b5ce2-15ec-43de-864e-230ac1950f95",
   "metadata": {},
   "outputs": [],
   "source": [
    "train = pd.read_parquet('E:/DS/data/siam/bi/train_meas.parquet')"
   ]
  },
  {
   "cell_type": "code",
   "execution_count": 4,
   "id": "ade54300-38fe-409f-a980-509c8bd8b565",
   "metadata": {},
   "outputs": [],
   "source": [
    "un_ids = train.file_name.unique()"
   ]
  },
  {
   "cell_type": "code",
   "execution_count": 5,
   "id": "f899b9e4-6d27-4086-947e-ba28f00ab88c",
   "metadata": {},
   "outputs": [
    {
     "data": {
      "text/plain": [
       "0"
      ]
     },
     "execution_count": 5,
     "metadata": {},
     "output_type": "execute_result"
    }
   ],
   "source": [
    "del train\n",
    "import gc\n",
    "gc.collect()"
   ]
  },
  {
   "cell_type": "code",
   "execution_count": 6,
   "id": "bd9ff1a1-6ed3-4ad9-a340-490aa70e1721",
   "metadata": {},
   "outputs": [],
   "source": [
    "start = 9751+686+5532+ 8315+5000+5000+5000"
   ]
  },
  {
   "cell_type": "code",
   "execution_count": 7,
   "id": "3e2a685e-613c-40d3-9fa3-c2fdb0d293d8",
   "metadata": {},
   "outputs": [
    {
     "name": "stdout",
     "output_type": "stream",
     "text": [
      "39284\n"
     ]
    }
   ],
   "source": [
    "print(start)"
   ]
  },
  {
   "cell_type": "code",
   "execution_count": 8,
   "id": "5351d0e4-dc58-43a7-834b-7c37084922bc",
   "metadata": {},
   "outputs": [
    {
     "name": "stderr",
     "output_type": "stream",
     "text": [
      "100%|██████████████████████████████████████████████████████████████████████████████| 5600/5600 [57:32<00:00,  1.62it/s]\n"
     ]
    }
   ],
   "source": [
    "#new_train = []\n",
    "#un_ids = train.file_name.unique()\n",
    "errors = []\n",
    "for uuid in tqdm(un_ids[start:], total = len(un_ids[start:])):\n",
    "    #gc.collect()\n",
    "    file_path = os.path.join('E:/DS/data/siam/bi/train/', uuid)\n",
    "    if os.path.isfile(file_path):\n",
    "        # Read the CSV file without a header and with tab as the separator\n",
    "        try:\n",
    "            df = pd.read_csv(file_path, sep='\\t', header=None)\n",
    "    \n",
    "            # Ensure the file has exactly 3 columns (time, atm, der_atm)\n",
    "    \n",
    "            # Assign column names to the DataFrame\n",
    "            df.columns = ['time', 'atm', 'der_atm']\n",
    "    \n",
    "            # Add a new column for the file name\n",
    "            df['file_name'] = uuid\n",
    "    \n",
    "            # Reorder columns to match the desired output format\n",
    "            df = df[['file_name', 'time', 'atm', 'der_atm']]\n",
    "            cc = df\n",
    "            try:\n",
    "                smooth_and_plot(cc, 'E:/DS/data/siam/plots/train/', pressure_type='origin', derivative_type='origin', save_plot=True)\n",
    "                #new_train.append(cc)\n",
    "            except:\n",
    "                errors.append(uuid)\n",
    "        except:\n",
    "            errors.append(uuid)                "
   ]
  },
  {
   "cell_type": "code",
   "execution_count": null,
   "id": "0afbbb2e-58b4-4c93-ae7c-f00c6f83b226",
   "metadata": {},
   "outputs": [],
   "source": []
  }
 ],
 "metadata": {
  "kernelspec": {
   "display_name": "Python 3 (ipykernel)",
   "language": "python",
   "name": "python3"
  },
  "language_info": {
   "codemirror_mode": {
    "name": "ipython",
    "version": 3
   },
   "file_extension": ".py",
   "mimetype": "text/x-python",
   "name": "python",
   "nbconvert_exporter": "python",
   "pygments_lexer": "ipython3",
   "version": "3.10.16"
  }
 },
 "nbformat": 4,
 "nbformat_minor": 5
}
