{
 "cells": [
  {
   "cell_type": "code",
   "execution_count": 4,
   "id": "960087af-5608-45cb-bdd8-111b25c35993",
   "metadata": {},
   "outputs": [],
   "source": [
    "%load_ext autoreload\n",
    "%autoreload 2"
   ]
  },
  {
   "cell_type": "code",
   "execution_count": 1,
   "id": "078224ae-3a92-4c96-aa46-34ee78352d3f",
   "metadata": {},
   "outputs": [],
   "source": [
    "import pandas as pd\n",
    "import numpy as np\n",
    "from pathlib import Path\n",
    "from tqdm import tqdm\n",
    "import torch\n",
    "import warnings\n",
    "warnings.filterwarnings('ignore')"
   ]
  },
  {
   "cell_type": "code",
   "execution_count": 2,
   "id": "892c5ade-d85e-477b-b5d9-59f7f36aed6d",
   "metadata": {},
   "outputs": [],
   "source": [
    "from utils import combine_csv_files_to_dataframe,create_directory, smooth_and_plot, smooth_and_compute_derivative"
   ]
  },
  {
   "cell_type": "code",
   "execution_count": 3,
   "id": "0b40a85d-b21d-44b3-b02c-347ca35d663b",
   "metadata": {},
   "outputs": [],
   "source": [
    "# CV pipes\n",
    "from cv_dataloader import create_image_data_loader\n",
    "from cv_model import create_model\n",
    "from cv_train import save_cv_predictions\n",
    "# Timeseries pipes\n",
    "from model import TransformerModel_ver2\n",
    "from dataloader import create_data_loader\n",
    "from train import save_predictions"
   ]
  },
  {
   "cell_type": "code",
   "execution_count": 4,
   "id": "e408f407-d4dc-47e6-b4b8-0f503dc8206c",
   "metadata": {},
   "outputs": [],
   "source": [
    "PATH_TO_DATA = \"E:/DS/debug_siam/test/\""
   ]
  },
  {
   "cell_type": "markdown",
   "id": "c43c3e14-1f1a-4adb-a172-c1b20038aeb1",
   "metadata": {},
   "source": [
    "# Load data and make parquet"
   ]
  },
  {
   "cell_type": "code",
   "execution_count": 5,
   "id": "73d1c80c-2d28-4c11-8ded-6e0c2e3dd80b",
   "metadata": {},
   "outputs": [],
   "source": [
    "create_directory(PATH_TO_DATA,'preproc_ts')"
   ]
  },
  {
   "cell_type": "code",
   "execution_count": 6,
   "id": "f7e75535-4506-4af8-8e0e-368360dee43f",
   "metadata": {},
   "outputs": [],
   "source": [
    "create_directory(PATH_TO_DATA,'plots')"
   ]
  },
  {
   "cell_type": "code",
   "execution_count": 7,
   "id": "0b9b5bb5-bd13-4399-8d10-59f7af627c36",
   "metadata": {},
   "outputs": [],
   "source": [
    "create_directory(PATH_TO_DATA,'preds')"
   ]
  },
  {
   "cell_type": "code",
   "execution_count": 8,
   "id": "f7ae3a9a-f920-4c78-8269-002bef731dbf",
   "metadata": {},
   "outputs": [
    {
     "name": "stdout",
     "output_type": "stream",
     "text": [
      "Error processing file 846291a2-6475-47ac-8f10-08eac6b93fcb: No columns to parse from file\n"
     ]
    }
   ],
   "source": [
    "df = combine_csv_files_to_dataframe(PATH_TO_DATA)"
   ]
  },
  {
   "cell_type": "code",
   "execution_count": 9,
   "id": "e26f7c99-d3f4-47b1-ba9a-18379b285c8e",
   "metadata": {},
   "outputs": [],
   "source": [
    "df.to_parquet(Path(PATH_TO_DATA) / 'preproc_ts/source.parquet', index=False)"
   ]
  },
  {
   "cell_type": "markdown",
   "id": "867ba908-f94f-491f-a22d-90764a080037",
   "metadata": {},
   "source": [
    "## preproc CV"
   ]
  },
  {
   "cell_type": "code",
   "execution_count": 28,
   "id": "37d5f823-bf7e-4104-8e5f-543ad88027e7",
   "metadata": {},
   "outputs": [],
   "source": [
    "test = pd.read_parquet(Path(PATH_TO_DATA) / 'preproc_ts/source.parquet')"
   ]
  },
  {
   "cell_type": "code",
   "execution_count": 30,
   "id": "bd08e800-0b29-4f05-aa0f-5e72368ca953",
   "metadata": {},
   "outputs": [
    {
     "name": "stderr",
     "output_type": "stream",
     "text": [
      "100%|████████████████████████████████████████████████████████████████████████████████| 500/500 [04:43<00:00,  1.76it/s]\n"
     ]
    }
   ],
   "source": [
    "#new_train = []\n",
    "un_ids = test.file_name.unique()\n",
    "errors = []\n",
    "for uuid in tqdm(un_ids, total = len(un_ids)):\n",
    "    #file_path = os.path.join('E:/DS/data/siam/bi/test/', uuid)\n",
    "    #if os.path.isfile(file_path):\n",
    "        # Read the CSV file without a header and with tab as the separator\n",
    "        #try:\n",
    "            #df = pd.read_csv(file_path, sep='\\t', header=None)\n",
    "    \n",
    "            # Ensure the file has exactly 3 columns (time, atm, der_atm)\n",
    "    \n",
    "            # Assign column names to the DataFrame\n",
    "            #df.columns = ['time', 'atm', 'der_atm']\n",
    "    \n",
    "            # Add a new column for the file name\n",
    "            #df['file_name'] = uuid\n",
    "    \n",
    "            # Reorder columns to match the desired output format\n",
    "            #df = df[['file_name', 'time', 'atm', 'der_atm']]\n",
    "    cc = test[test.file_name==uuid].copy()\n",
    "    try:\n",
    "        smooth_and_plot(cc, Path(PATH_TO_DATA) / 'plots/', pressure_type='origin', derivative_type='origin', save_plot=True)\n",
    "        #new_train.append(cc)\n",
    "    except:\n",
    "        errors.append(uuid)\n",
    "        # except:\n",
    "        #     errors.append(uuid)                "
   ]
  },
  {
   "cell_type": "markdown",
   "id": "32751d29-3cf2-4cb8-b995-7bafc3e766c0",
   "metadata": {},
   "source": [
    "## preproc + 7 feats\n",
    "если файлов больше 1000 - для производительности код переписать, чтобы он работал с файлами исходными"
   ]
  },
  {
   "cell_type": "code",
   "execution_count": 10,
   "id": "36a03346-8f93-4b97-8edd-47b8ba6e7136",
   "metadata": {},
   "outputs": [
    {
     "name": "stderr",
     "output_type": "stream",
     "text": [
      "100%|████████████████████████████████████████████████████████████████████████████████| 500/500 [00:10<00:00, 48.20it/s]\n"
     ]
    }
   ],
   "source": [
    "test = df.copy()\n",
    "un_ids = test.file_name.unique()\n",
    "new_test = []\n",
    "for uuid in tqdm(un_ids, total=len(un_ids)):\n",
    "    cc = test[test.file_name==uuid]\n",
    "    cc = smooth_and_compute_derivative(cc)\n",
    "    new_test.append(cc)\n",
    "new_test = pd.concat(new_test)"
   ]
  },
  {
   "cell_type": "markdown",
   "id": "32731ae8-b9a5-48e0-b026-ed7930b16d40",
   "metadata": {},
   "source": [
    "## preproc l1p"
   ]
  },
  {
   "cell_type": "code",
   "execution_count": 11,
   "id": "679c2868-4f33-41bb-9f9c-25968c404b81",
   "metadata": {},
   "outputs": [],
   "source": [
    "df[df.columns[1:]] = np.log1p(df[df.columns[1:]].abs())"
   ]
  },
  {
   "cell_type": "code",
   "execution_count": 12,
   "id": "205e9f4e-8a10-4e13-8bea-79a4b7cce902",
   "metadata": {},
   "outputs": [],
   "source": [
    "new_test[new_test.columns[1:]] = np.log1p(new_test[new_test.columns[1:]].abs())"
   ]
  },
  {
   "cell_type": "code",
   "execution_count": 13,
   "id": "76e82ad3-3cf4-4706-b272-f6e84effceb7",
   "metadata": {},
   "outputs": [],
   "source": [
    "df.to_parquet(Path(PATH_TO_DATA) / 'preproc_ts/feat3_l1p.parquet', index=False)"
   ]
  },
  {
   "cell_type": "code",
   "execution_count": 14,
   "id": "24a4f5be-b461-498a-a589-b60763d5d579",
   "metadata": {},
   "outputs": [],
   "source": [
    "new_test.to_parquet(Path(PATH_TO_DATA) / 'preproc_ts/feat10_l1p.parquet', index=False)"
   ]
  },
  {
   "cell_type": "markdown",
   "id": "42edbe08-da6d-4a12-ac12-5988a04c840e",
   "metadata": {},
   "source": [
    "## preproc robustscaler"
   ]
  },
  {
   "cell_type": "markdown",
   "id": "d1aa403e-ad3b-4fd8-b0f4-7be1ad668b58",
   "metadata": {},
   "source": [
    "# load models"
   ]
  },
  {
   "cell_type": "code",
   "execution_count": 15,
   "id": "2357c271-aa3b-4af4-9f8f-d4ea2db5759c",
   "metadata": {},
   "outputs": [],
   "source": [
    "swin_v6 =  create_model(\n",
    "    model_type = \"swin\",\n",
    "    #model_name='b7',\n",
    "    n_binary_targets = 8,\n",
    "    n_regression_targets = 7,\n",
    "    dropout = 0.1,\n",
    "    freeze_backbone = False,\n",
    "    use_multi_layer_features = False,\n",
    "    pretrained = True,\n",
    "    weights_path='./weights/swin_v6_l1p.pth'\n",
    ")"
   ]
  },
  {
   "cell_type": "code",
   "execution_count": 16,
   "id": "64d8906d-3d31-40e2-81f7-ed019d7ec9a7",
   "metadata": {},
   "outputs": [
    {
     "name": "stderr",
     "output_type": "stream",
     "text": [
      "Some weights of ViTModel were not initialized from the model checkpoint at google/vit-base-patch16-224 and are newly initialized: ['vit.pooler.dense.bias', 'vit.pooler.dense.weight']\n",
      "You should probably TRAIN this model on a down-stream task to be able to use it for predictions and inference.\n"
     ]
    }
   ],
   "source": [
    "vit_v4 =  create_model(\n",
    "    model_type = \"vit\",\n",
    "    #model_name='b7',\n",
    "    n_binary_targets = 8,\n",
    "    n_regression_targets = 7,\n",
    "    dropout = 0.1,\n",
    "    freeze_backbone = False,\n",
    "    use_multi_layer_features = False,\n",
    "    pretrained = True,\n",
    "    weights_path='./weights/vit_v4_l1p.pth'\n",
    ")"
   ]
  },
  {
   "cell_type": "code",
   "execution_count": 17,
   "id": "e1eb99bc-4176-4ab5-937e-f128be288ad7",
   "metadata": {},
   "outputs": [],
   "source": [
    "conv_v5 =  create_model(\n",
    "    model_type = \"convnext\",\n",
    "    #model_name='b7',\n",
    "    n_binary_targets = 8,\n",
    "    n_regression_targets = 7,\n",
    "    dropout = 0.1,\n",
    "    freeze_backbone = False,\n",
    "    use_multi_layer_features = False,\n",
    "    pretrained = True,\n",
    "    weights_path='./weights/conv_v5_l1p.pth'\n",
    ")"
   ]
  },
  {
   "cell_type": "code",
   "execution_count": 18,
   "id": "52c885cb-2117-41d7-8dd7-19d9a84f897e",
   "metadata": {},
   "outputs": [
    {
     "data": {
      "text/plain": [
       "TransformerModel_ver2(\n",
       "  (input_projection): Linear(in_features=10, out_features=256, bias=True)\n",
       "  (blocks): ModuleList(\n",
       "    (0-3): 4 x TransformerBlock(\n",
       "      (norm1): RMSNorm()\n",
       "      (attn): MultiHeadAttention(\n",
       "        (q_proj): Linear(in_features=256, out_features=256, bias=True)\n",
       "        (k_proj): Linear(in_features=256, out_features=256, bias=True)\n",
       "        (v_proj): Linear(in_features=256, out_features=256, bias=True)\n",
       "        (out_proj): Linear(in_features=256, out_features=256, bias=True)\n",
       "        (rope): RotaryPositionalEmbedding()\n",
       "        (dropout): Dropout(p=0.1, inplace=False)\n",
       "      )\n",
       "      (norm2): RMSNorm()\n",
       "      (mlp): SwiGLU(\n",
       "        (w1): Linear(in_features=256, out_features=512, bias=True)\n",
       "        (w2): Linear(in_features=256, out_features=512, bias=True)\n",
       "        (w3): Linear(in_features=512, out_features=256, bias=True)\n",
       "      )\n",
       "      (dropout): Dropout(p=0.1, inplace=False)\n",
       "    )\n",
       "  )\n",
       "  (norm): RMSNorm()\n",
       "  (binary_output): Linear(in_features=256, out_features=8, bias=True)\n",
       "  (regression_output): Linear(in_features=256, out_features=7, bias=True)\n",
       ")"
      ]
     },
     "execution_count": 18,
     "metadata": {},
     "output_type": "execute_result"
    }
   ],
   "source": [
    "model_ts10 = TransformerModel_ver2(\n",
    "    input_dim=10,\n",
    "    d_model=256,\n",
    "    nhead=4,\n",
    "    num_encoder_layers=4,\n",
    "    dim_feedforward=512,\n",
    "    dropout=0.1,\n",
    "    max_seq_len = 1024\n",
    ")\n",
    "model_ts10.load_state_dict(torch.load(\"./weights/ts_10f_l1p_1.pth\"))\n",
    "model_ts10.eval()"
   ]
  },
  {
   "cell_type": "code",
   "execution_count": 19,
   "id": "56c0c1ca-349c-4cfa-95c6-95f89859b784",
   "metadata": {},
   "outputs": [
    {
     "data": {
      "text/plain": [
       "TransformerModel_ver2(\n",
       "  (input_projection): Linear(in_features=3, out_features=256, bias=True)\n",
       "  (blocks): ModuleList(\n",
       "    (0-3): 4 x TransformerBlock(\n",
       "      (norm1): RMSNorm()\n",
       "      (attn): MultiHeadAttention(\n",
       "        (q_proj): Linear(in_features=256, out_features=256, bias=True)\n",
       "        (k_proj): Linear(in_features=256, out_features=256, bias=True)\n",
       "        (v_proj): Linear(in_features=256, out_features=256, bias=True)\n",
       "        (out_proj): Linear(in_features=256, out_features=256, bias=True)\n",
       "        (rope): RotaryPositionalEmbedding()\n",
       "        (dropout): Dropout(p=0.1, inplace=False)\n",
       "      )\n",
       "      (norm2): RMSNorm()\n",
       "      (mlp): SwiGLU(\n",
       "        (w1): Linear(in_features=256, out_features=512, bias=True)\n",
       "        (w2): Linear(in_features=256, out_features=512, bias=True)\n",
       "        (w3): Linear(in_features=512, out_features=256, bias=True)\n",
       "      )\n",
       "      (dropout): Dropout(p=0.1, inplace=False)\n",
       "    )\n",
       "  )\n",
       "  (norm): RMSNorm()\n",
       "  (binary_output): Linear(in_features=256, out_features=8, bias=True)\n",
       "  (regression_output): Linear(in_features=256, out_features=7, bias=True)\n",
       ")"
      ]
     },
     "execution_count": 19,
     "metadata": {},
     "output_type": "execute_result"
    }
   ],
   "source": [
    "model_ts3 = TransformerModel_ver2(\n",
    "    input_dim=3,\n",
    "    d_model=256,\n",
    "    nhead=4,\n",
    "    num_encoder_layers=4,\n",
    "    dim_feedforward=512,\n",
    "    dropout=0.1,\n",
    "    max_seq_len = 1024\n",
    ")\n",
    "model_ts3.load_state_dict(torch.load(\"./weights/ts_3f_l1p_1.pth\"))\n",
    "model_ts3.eval()"
   ]
  },
  {
   "cell_type": "markdown",
   "id": "d6a1f8a0-392f-48bb-a2a3-8b62bea8b5bf",
   "metadata": {},
   "source": [
    "# prepare dataloaders"
   ]
  },
  {
   "cell_type": "code",
   "execution_count": 20,
   "id": "fc3058db-2256-4694-9830-6c2bb9baf480",
   "metadata": {},
   "outputs": [],
   "source": [
    "cv_loader  = create_image_data_loader(\n",
    "    csv_path=None,\n",
    "    images_dir=Path(PATH_TO_DATA) / 'plots/',\n",
    "    batch_size = 64,\n",
    "    shuffle = False,\n",
    "    num_workers = 0\n",
    ")"
   ]
  },
  {
   "cell_type": "code",
   "execution_count": 21,
   "id": "c5c6544e-eaa0-4640-b477-7b66f0012a45",
   "metadata": {},
   "outputs": [
    {
     "name": "stdout",
     "output_type": "stream",
     "text": [
      "Preprocessing time series data...\n"
     ]
    },
    {
     "name": "stderr",
     "output_type": "stream",
     "text": [
      "100%|██████████████████████████████████████████████████████████████████████████████| 500/500 [00:00<00:00, 2304.29it/s]\n"
     ]
    },
    {
     "name": "stdout",
     "output_type": "stream",
     "text": [
      "Preprocessed 500 time series\n"
     ]
    }
   ],
   "source": [
    "test_loader_10f  = create_data_loader(\n",
    "    csv_path=None,\n",
    "    parquet_path=Path(PATH_TO_DATA) / 'preproc_ts/feat10_l1p.parquet',\n",
    "    batch_size=64,\n",
    "    max_seq_len=1024,\n",
    "    num_workers=0\n",
    ")"
   ]
  },
  {
   "cell_type": "code",
   "execution_count": 22,
   "id": "84522b2c-3a9c-4b4b-910a-66bbe5e5e1dd",
   "metadata": {},
   "outputs": [
    {
     "name": "stdout",
     "output_type": "stream",
     "text": [
      "Preprocessing time series data...\n"
     ]
    },
    {
     "name": "stderr",
     "output_type": "stream",
     "text": [
      "100%|██████████████████████████████████████████████████████████████████████████████| 500/500 [00:00<00:00, 2475.26it/s]"
     ]
    },
    {
     "name": "stdout",
     "output_type": "stream",
     "text": [
      "Preprocessed 500 time series\n"
     ]
    },
    {
     "name": "stderr",
     "output_type": "stream",
     "text": [
      "\n"
     ]
    }
   ],
   "source": [
    "test_loader_3f  = create_data_loader(\n",
    "    csv_path=None,\n",
    "    parquet_path=Path(PATH_TO_DATA) / 'preproc_ts/feat3_l1p.parquet',\n",
    "    batch_size=64,\n",
    "    max_seq_len=1024,\n",
    "    num_workers=0\n",
    ")\n"
   ]
  },
  {
   "cell_type": "markdown",
   "id": "7b8b3f25-a375-4e70-ae32-5799725ea9ec",
   "metadata": {},
   "source": [
    "# make preds"
   ]
  },
  {
   "cell_type": "code",
   "execution_count": 23,
   "id": "44a2a5f0-9d98-424c-bf98-5bab477f92de",
   "metadata": {},
   "outputs": [
    {
     "name": "stderr",
     "output_type": "stream",
     "text": [
      "Running inference: 100%|█████████████████████████████████████████████████████████████████| 8/8 [00:09<00:00,  1.17s/it]"
     ]
    },
    {
     "name": "stdout",
     "output_type": "stream",
     "text": [
      "Predictions saved to E:\\DS\\debug_siam\\test\\preds\\inf_CV_swin_v6_l1p.csv\n"
     ]
    },
    {
     "name": "stderr",
     "output_type": "stream",
     "text": [
      "\n"
     ]
    }
   ],
   "source": [
    "save_cv_predictions(swin_v6,cv_loader,\n",
    "                Path(PATH_TO_DATA)/'preds/inf_CV_swin_v6_l1p.csv',\n",
    "                'cuda',\n",
    "                binary_threshold=0.5)"
   ]
  },
  {
   "cell_type": "code",
   "execution_count": 24,
   "id": "dec4c934-ad4e-44f3-a00f-923fb3d2e7cf",
   "metadata": {},
   "outputs": [
    {
     "name": "stderr",
     "output_type": "stream",
     "text": [
      "Running inference: 100%|█████████████████████████████████████████████████████████████████| 8/8 [00:09<00:00,  1.14s/it]"
     ]
    },
    {
     "name": "stdout",
     "output_type": "stream",
     "text": [
      "Predictions saved to E:\\DS\\debug_siam\\test\\preds\\inf_CV_vit_v4_l1p.csv\n"
     ]
    },
    {
     "name": "stderr",
     "output_type": "stream",
     "text": [
      "\n"
     ]
    }
   ],
   "source": [
    "save_cv_predictions(vit_v4,cv_loader,\n",
    "                Path(PATH_TO_DATA)/'preds/inf_CV_vit_v4_l1p.csv',\n",
    "                'cuda',\n",
    "                binary_threshold=0.5)"
   ]
  },
  {
   "cell_type": "code",
   "execution_count": 25,
   "id": "916ee279-1e18-4bfe-9931-f8315dce5ed8",
   "metadata": {},
   "outputs": [
    {
     "name": "stderr",
     "output_type": "stream",
     "text": [
      "Running inference: 100%|█████████████████████████████████████████████████████████████████| 8/8 [00:09<00:00,  1.13s/it]"
     ]
    },
    {
     "name": "stdout",
     "output_type": "stream",
     "text": [
      "Predictions saved to E:\\DS\\debug_siam\\test\\preds\\inf_CV_conv_v5_l1p.csv\n"
     ]
    },
    {
     "name": "stderr",
     "output_type": "stream",
     "text": [
      "\n"
     ]
    }
   ],
   "source": [
    "save_cv_predictions(conv_v5,cv_loader,\n",
    "                Path(PATH_TO_DATA)/'preds/inf_CV_conv_v5_l1p.csv',\n",
    "                'cuda',\n",
    "                binary_threshold=0.5)"
   ]
  },
  {
   "cell_type": "code",
   "execution_count": 26,
   "id": "5fe59fc8-f3a3-47a2-8fa5-687f8a9477d8",
   "metadata": {},
   "outputs": [
    {
     "name": "stderr",
     "output_type": "stream",
     "text": [
      "Running inference: 100%|█████████████████████████████████████████████████████████████████| 8/8 [00:01<00:00,  7.57it/s]"
     ]
    },
    {
     "name": "stdout",
     "output_type": "stream",
     "text": [
      "Predictions saved to E:\\DS\\debug_siam\\test\\preds\\inf_l1p_ts3_v1.csv\n"
     ]
    },
    {
     "name": "stderr",
     "output_type": "stream",
     "text": [
      "\n"
     ]
    }
   ],
   "source": [
    "save_predictions(model_ts3,test_loader_3f,\n",
    "                Path(PATH_TO_DATA)/'preds/inf_l1p_ts3_v1.csv',\n",
    "                'cuda',\n",
    "                binary_threshold=0.5)"
   ]
  },
  {
   "cell_type": "code",
   "execution_count": 27,
   "id": "390b797a-3840-40a1-b6f6-6f1b58dc6423",
   "metadata": {},
   "outputs": [
    {
     "name": "stderr",
     "output_type": "stream",
     "text": [
      "Running inference: 100%|█████████████████████████████████████████████████████████████████| 8/8 [00:00<00:00,  8.98it/s]"
     ]
    },
    {
     "name": "stdout",
     "output_type": "stream",
     "text": [
      "Predictions saved to E:\\DS\\debug_siam\\test\\preds\\inf_l1p_ts10_v1.csv\n"
     ]
    },
    {
     "name": "stderr",
     "output_type": "stream",
     "text": [
      "\n"
     ]
    }
   ],
   "source": [
    "save_predictions(model_ts10,test_loader_10f,\n",
    "                Path(PATH_TO_DATA)/'preds/inf_l1p_ts10_v1.csv',\n",
    "                'cuda',\n",
    "                binary_threshold=0.5)"
   ]
  },
  {
   "cell_type": "markdown",
   "id": "07a59614-996e-4b66-aff1-befcad25a684",
   "metadata": {},
   "source": [
    "# blending for final result and save"
   ]
  },
  {
   "cell_type": "code",
   "execution_count": 28,
   "id": "7723a7cf-2493-4442-9e07-ea5a8b12231a",
   "metadata": {},
   "outputs": [],
   "source": [
    "keep_cols = ['file_name',\n",
    "       'binary_Некачественное ГДИС', \n",
    "       'binary_Влияние ствола скважины', \n",
    "       'binary_Радиальный режим',\n",
    "       'binary_Линейный режим', \n",
    "       'binary_Билинейный режим', \n",
    "       'binary_Сферический режим', \n",
    "       'binary_Граница постоянного давления',\n",
    "       'binary_Граница непроницаемый разлом',\n",
    "       'regression_Влияние ствола скважины_details',\n",
    "       'regression_Радиальный режим_details',\n",
    "       'regression_Линейный режим_details',\n",
    "       'regression_Билинейный режим_details',\n",
    "       'regression_Сферический режим_details',\n",
    "       'regression_Граница постоянного давления_details',\n",
    "       'regression_Граница непроницаемый разлом_details']\n",
    "columns_b=['Некачественное ГДИС',\n",
    "       'Влияние ствола скважины', 'Радиальный режим', 'Линейный режим',\n",
    "       'Билинейный режим', 'Сферический режим', 'Граница постоянного давления',\n",
    "       'Граница непроницаемый разлом', ]\n",
    "columns_r=['Влияние ствола скважины_details',\n",
    "       'Радиальный режим_details', 'Линейный режим_details',\n",
    "       'Билинейный режим_details', 'Сферический режим_details',\n",
    "       'Граница постоянного давления_details',\n",
    "       'Граница непроницаемый разлом_details']\n",
    "\n",
    "columns_b_2 = ['binary_Некачественное ГДИС', \n",
    "       'binary_Влияние ствола скважины', \n",
    "       'binary_Радиальный режим',\n",
    "       'binary_Линейный режим', \n",
    "       'binary_Билинейный режим', \n",
    "       'binary_Сферический режим', \n",
    "       'binary_Граница постоянного давления',\n",
    "       'binary_Граница непроницаемый разлом',]\n",
    "columns_r_2 =['regression_Влияние ствола скважины_details',\n",
    "       'regression_Радиальный режим_details',\n",
    "       'regression_Линейный режим_details',\n",
    "       'regression_Билинейный режим_details',\n",
    "       'regression_Сферический режим_details',\n",
    "       'regression_Граница постоянного давления_details',\n",
    "       'regression_Граница непроницаемый разлом_details']"
   ]
  },
  {
   "cell_type": "code",
   "execution_count": 29,
   "id": "296f3a47-ae11-43b0-935f-62e648704225",
   "metadata": {},
   "outputs": [],
   "source": [
    "# TS_3 l1p v1 Результат: 0.6881 with weights\n",
    "ch8 =pd.read_csv(Path(PATH_TO_DATA)/'preds/inf_l1p_ts3_v1.csv').sort_values('file_name')\n",
    "ch8[columns_r_2] = np.expm1(ch8[columns_r_2])"
   ]
  },
  {
   "cell_type": "code",
   "execution_count": 33,
   "id": "3b80bbce-9bf3-4372-95b5-bb3440bbe0b1",
   "metadata": {},
   "outputs": [],
   "source": [
    "# TS 10   l1p  Результат: 0.6866 with weights  inf_l1p_ts10_v1\n",
    "ch10 = pd.read_csv(Path(PATH_TO_DATA)/'preds/inf_l1p_ts10_v1.csv').sort_values('file_name')\n",
    "ch10[columns_r_2] = np.expm1(ch10[columns_r_2])"
   ]
  },
  {
   "cell_type": "code",
   "execution_count": 35,
   "id": "556e4e51-f510-4d53-8675-ff309074be33",
   "metadata": {},
   "outputs": [],
   "source": [
    "# VS Swin l1p  Результат: 0.6189 with weights\n",
    "ch11 = pd.read_csv(Path(PATH_TO_DATA)/'preds/inf_CV_swin_v6_l1p.csv').sort_values('file_name')\n",
    "ch11[columns_r_2] = np.expm1(ch11[columns_r_2])"
   ]
  },
  {
   "cell_type": "code",
   "execution_count": 36,
   "id": "9619dd13-4f1e-4d49-8d2d-f39236288a0c",
   "metadata": {},
   "outputs": [],
   "source": [
    "# VS Conv l1p v1 Результат: 0.5541 with weights\n",
    "ch9 = pd.read_csv( Path(PATH_TO_DATA)/'preds/inf_CV_conv_v5_l1p.csv').sort_values('file_name')\n",
    "ch9[columns_r_2] = np.expm1(ch9[columns_r_2])"
   ]
  },
  {
   "cell_type": "code",
   "execution_count": 37,
   "id": "5b61d6d2-89e3-44fd-9e8e-98025dadb2e0",
   "metadata": {},
   "outputs": [],
   "source": [
    "# VS vit l1p v4 Результат: Результат: 0.517 with weights\n",
    "ch12 = pd.read_csv(Path(PATH_TO_DATA)/'preds/inf_CV_vit_v4_l1p.csv').sort_values('file_name')\n",
    "ch12[columns_r_2] = np.expm1(ch12[columns_r_2])"
   ]
  },
  {
   "cell_type": "code",
   "execution_count": 38,
   "id": "3fe009e9-b7b6-4888-9fab-96b618e08659",
   "metadata": {},
   "outputs": [],
   "source": [
    "def blend_them(dfs_b, dfs_r):\n",
    "    # for df in dfs_b+dfs_r:\n",
    "    #     df = df.sort_values('file_name')\n",
    "    # for df in dfs_r:\n",
    "    #     df = apply_trans_reg(df, path_to_scalers='E:/DS/data/siam/scalers/tg_scalers_r/tg_r_')\n",
    "    res = dfs_b[0][['file_name']].copy()\n",
    "    for col in columns_r_2:\n",
    "        base = dfs_r[0][col].values/len(dfs_r)\n",
    "        if len(dfs_r)>1:\n",
    "            for df in dfs_r[1:]:\n",
    "                base += df[col].values/len(dfs_r)\n",
    "        res[col]=base\n",
    "    for col in columns_b_2:\n",
    "        col_ = col\n",
    "        col =col+'_prob'\n",
    "        base = dfs_b[0][col].values/len(dfs_b)\n",
    "        if len(dfs_b)>1:\n",
    "            for df in dfs_b[1:]:\n",
    "                base += df[col].values/len(dfs_b)\n",
    "        res[col_]=((base>0.5)*1)\n",
    "    res = res[keep_cols]\n",
    "    res.columns = ['file_name']+columns_b+columns_r\n",
    "    return res"
   ]
  },
  {
   "cell_type": "code",
   "execution_count": 39,
   "id": "5df92bdc-62ee-4f47-81e1-40c46e30683a",
   "metadata": {},
   "outputs": [],
   "source": [
    "#Результат: 0.7297\n",
    "res3_2 =  blend_them(dfs_b=[ch8,ch12, ch9,ch10,ch11], dfs_r=[ch8,ch10])"
   ]
  },
  {
   "cell_type": "code",
   "execution_count": 40,
   "id": "064500fd-c658-4d91-a7ea-a80851b11276",
   "metadata": {},
   "outputs": [],
   "source": [
    "create_directory(PATH_TO_DATA,'FINAL')"
   ]
  },
  {
   "cell_type": "code",
   "execution_count": 41,
   "id": "17ba4131-4494-4cc2-8450-3bdf72aef802",
   "metadata": {},
   "outputs": [],
   "source": [
    "res3_2.to_csv(Path(PATH_TO_DATA)/'FINAL/blend3_2.csv',index=False)"
   ]
  },
  {
   "cell_type": "code",
   "execution_count": null,
   "id": "9868b434-523c-4902-b0a7-5b85844d28e2",
   "metadata": {},
   "outputs": [],
   "source": []
  }
 ],
 "metadata": {
  "kernelspec": {
   "display_name": "Python 3 (ipykernel)",
   "language": "python",
   "name": "python3"
  },
  "language_info": {
   "codemirror_mode": {
    "name": "ipython",
    "version": 3
   },
   "file_extension": ".py",
   "mimetype": "text/x-python",
   "name": "python",
   "nbconvert_exporter": "python",
   "pygments_lexer": "ipython3",
   "version": "3.10.16"
  }
 },
 "nbformat": 4,
 "nbformat_minor": 5
}
