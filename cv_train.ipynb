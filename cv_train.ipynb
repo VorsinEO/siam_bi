{
 "cells": [
  {
   "cell_type": "code",
   "execution_count": 1,
   "id": "a10560b0-6fa7-4b81-a589-cb9866513446",
   "metadata": {},
   "outputs": [],
   "source": [
    "%load_ext autoreload\n",
    "%autoreload 2"
   ]
  },
  {
   "cell_type": "code",
   "execution_count": 2,
   "id": "5fd7cd27-fbe5-45f2-9d98-303b05adbfe0",
   "metadata": {},
   "outputs": [
    {
     "name": "stderr",
     "output_type": "stream",
     "text": [
      "C:\\Users\\vorsi\\miniconda3\\envs\\and_kar_c\\lib\\site-packages\\tqdm\\auto.py:21: TqdmWarning: IProgress not found. Please update jupyter and ipywidgets. See https://ipywidgets.readthedocs.io/en/stable/user_install.html\n",
      "  from .autonotebook import tqdm as notebook_tqdm\n"
     ]
    }
   ],
   "source": [
    "from cv_dataloader import create_image_data_loader, TimeSeriesImageDataset, TimeSeriesImageInferenceDataset\n",
    "\n",
    "#from cv_model import ViTTimeSeriesModel, ViTTimeSeriesModel_v2\n",
    "from cv_model import ViTTimeSeriesModel, ViTTimeSeriesModel_v2, create_model\n",
    "from cv_example import plot_training_history\n",
    "from cv_train import train_cv_model, inference_cv, save_cv_predictions\n"
   ]
  },
  {
   "cell_type": "markdown",
   "id": "a856c049-a6eb-4552-befe-989084cb2ec0",
   "metadata": {},
   "source": [
    "# Train"
   ]
  },
  {
   "cell_type": "code",
   "execution_count": 3,
   "id": "2d7b47cb-336d-4b53-ad1a-9b69a9728590",
   "metadata": {},
   "outputs": [],
   "source": [
    "# Create data loaders\n",
    "train_loader = create_image_data_loader(\n",
    "    csv_path='E:/DS/data/siam/bi/tgs/train_df_l1p_CV_6.csv',\n",
    "    images_dir='E:/DS/data/siam/plots/train/',\n",
    "    batch_size = 64,\n",
    "    shuffle = True,\n",
    "    num_workers = 4\n",
    ")\n",
    "\n",
    "\n",
    "\n",
    "\n"
   ]
  },
  {
   "cell_type": "code",
   "execution_count": 4,
   "id": "49cd6255-491e-4503-af71-18b6fc54c236",
   "metadata": {},
   "outputs": [],
   "source": [
    "val_loader = create_image_data_loader(\n",
    "    csv_path='E:/DS/data/siam/bi/tgs/val_df_l1p_CV_6.csv',\n",
    "    images_dir='E:/DS/data/siam/plots/val/',\n",
    "    batch_size = 64,\n",
    "    shuffle = False,\n",
    "    num_workers = 0\n",
    ")"
   ]
  },
  {
   "cell_type": "code",
   "execution_count": 5,
   "id": "28dd79de-8c0a-42bc-ab88-5f5eeeb801af",
   "metadata": {},
   "outputs": [],
   "source": [
    "# Create model\n",
    "model = create_model(\n",
    "    model_type = \"swin\",\n",
    "    #model_name='b7',\n",
    "    n_binary_targets = 8,\n",
    "    n_regression_targets = 7,\n",
    "    dropout = 0.1,\n",
    "    freeze_backbone = False,\n",
    "    use_multi_layer_features = False,\n",
    "    pretrained = True\n",
    ")"
   ]
  },
  {
   "cell_type": "code",
   "execution_count": 6,
   "id": "f7d19a7d-896b-44cc-aaae-29684c9e1306",
   "metadata": {},
   "outputs": [
    {
     "name": "stdout",
     "output_type": "stream",
     "text": [
      "\n",
      "Epoch 1/20\n"
     ]
    },
    {
     "name": "stderr",
     "output_type": "stream",
     "text": [
      "Training: 100%|███████████████████| 636/636 [03:46<00:00,  2.80it/s, loss=1.66, binary_loss=0.352, regression_loss=1.3]\n",
      "Evaluating: 100%|██████████████████████████████████████████████████████████████████████| 66/66 [01:18<00:00,  1.19s/it]\n"
     ]
    },
    {
     "name": "stdout",
     "output_type": "stream",
     "text": [
      "Train Loss: 1.2052, Binary Loss: 0.4728, Regression Loss: 0.7323\n",
      "Val Loss: 0.7584, Binary Loss: 0.3805, Regression Loss: 0.3779, AUROC: 0.7879, MSE: 0.1195, Mean Accuracy: 0.6244\n",
      "New best model saved with validation mean accuracy: 0.6244\n",
      "\n",
      "Epoch 2/20\n"
     ]
    },
    {
     "name": "stderr",
     "output_type": "stream",
     "text": [
      "Training: 100%|█████████████████| 636/636 [03:44<00:00,  2.84it/s, loss=0.519, binary_loss=0.28, regression_loss=0.239]\n",
      "Evaluating: 100%|██████████████████████████████████████████████████████████████████████| 66/66 [01:17<00:00,  1.18s/it]\n"
     ]
    },
    {
     "name": "stdout",
     "output_type": "stream",
     "text": [
      "Train Loss: 0.6921, Binary Loss: 0.3639, Regression Loss: 0.3282\n",
      "Val Loss: 0.6418, Binary Loss: 0.3419, Regression Loss: 0.2999, AUROC: 0.8529, MSE: 0.0949, Mean Accuracy: 0.6580\n",
      "New best model saved with validation mean accuracy: 0.6580\n",
      "\n",
      "Epoch 3/20\n"
     ]
    },
    {
     "name": "stderr",
     "output_type": "stream",
     "text": [
      "Training: 100%|████████████████| 636/636 [03:44<00:00,  2.83it/s, loss=0.512, binary_loss=0.301, regression_loss=0.211]\n",
      "Evaluating: 100%|██████████████████████████████████████████████████████████████████████| 66/66 [01:17<00:00,  1.18s/it]\n"
     ]
    },
    {
     "name": "stdout",
     "output_type": "stream",
     "text": [
      "Train Loss: 0.5367, Binary Loss: 0.3319, Regression Loss: 0.2048\n",
      "Val Loss: 0.4867, Binary Loss: 0.3183, Regression Loss: 0.1684, AUROC: 0.8735, MSE: 0.0528, Mean Accuracy: 0.6643\n",
      "New best model saved with validation mean accuracy: 0.6643\n",
      "\n",
      "Epoch 4/20\n"
     ]
    },
    {
     "name": "stderr",
     "output_type": "stream",
     "text": [
      "Training: 100%|████████████████| 636/636 [03:42<00:00,  2.86it/s, loss=0.616, binary_loss=0.275, regression_loss=0.341]\n",
      "Evaluating: 100%|██████████████████████████████████████████████████████████████████████| 66/66 [01:15<00:00,  1.15s/it]\n"
     ]
    },
    {
     "name": "stdout",
     "output_type": "stream",
     "text": [
      "Train Loss: 0.4593, Binary Loss: 0.3145, Regression Loss: 0.1448\n",
      "Val Loss: 0.4441, Binary Loss: 0.3122, Regression Loss: 0.1319, AUROC: 0.8830, MSE: 0.0412, Mean Accuracy: 0.6926\n",
      "New best model saved with validation mean accuracy: 0.6926\n",
      "\n",
      "Epoch 5/20\n"
     ]
    },
    {
     "name": "stderr",
     "output_type": "stream",
     "text": [
      "Training: 100%|███████████████| 636/636 [03:39<00:00,  2.90it/s, loss=0.389, binary_loss=0.296, regression_loss=0.0928]\n",
      "Evaluating: 100%|██████████████████████████████████████████████████████████████████████| 66/66 [01:15<00:00,  1.15s/it]\n"
     ]
    },
    {
     "name": "stdout",
     "output_type": "stream",
     "text": [
      "Train Loss: 0.4161, Binary Loss: 0.3038, Regression Loss: 0.1124\n",
      "Val Loss: 0.4160, Binary Loss: 0.3038, Regression Loss: 0.1121, AUROC: 0.8894, MSE: 0.0350, Mean Accuracy: 0.7051\n",
      "New best model saved with validation mean accuracy: 0.7051\n",
      "\n",
      "Epoch 6/20\n"
     ]
    },
    {
     "name": "stderr",
     "output_type": "stream",
     "text": [
      "Training: 100%|███████████████| 636/636 [03:39<00:00,  2.90it/s, loss=0.306, binary_loss=0.266, regression_loss=0.0406]\n",
      "Evaluating: 100%|██████████████████████████████████████████████████████████████████████| 66/66 [01:15<00:00,  1.14s/it]\n"
     ]
    },
    {
     "name": "stdout",
     "output_type": "stream",
     "text": [
      "Train Loss: 0.3875, Binary Loss: 0.2954, Regression Loss: 0.0921\n",
      "Val Loss: 0.4040, Binary Loss: 0.3002, Regression Loss: 0.1038, AUROC: 0.8928, MSE: 0.0325, Mean Accuracy: 0.7156\n",
      "New best model saved with validation mean accuracy: 0.7156\n",
      "\n",
      "Epoch 7/20\n"
     ]
    },
    {
     "name": "stderr",
     "output_type": "stream",
     "text": [
      "Training: 100%|████████████████| 636/636 [03:39<00:00,  2.89it/s, loss=0.262, binary_loss=0.229, regression_loss=0.033]\n",
      "Evaluating: 100%|██████████████████████████████████████████████████████████████████████| 66/66 [01:15<00:00,  1.14s/it]\n"
     ]
    },
    {
     "name": "stdout",
     "output_type": "stream",
     "text": [
      "Train Loss: 0.3664, Binary Loss: 0.2877, Regression Loss: 0.0788\n",
      "Val Loss: 0.4042, Binary Loss: 0.3004, Regression Loss: 0.1038, AUROC: 0.8939, MSE: 0.0325, Mean Accuracy: 0.7228\n",
      "New best model saved with validation mean accuracy: 0.7228\n",
      "\n",
      "Epoch 8/20\n"
     ]
    },
    {
     "name": "stderr",
     "output_type": "stream",
     "text": [
      "Training: 100%|█████████████████| 636/636 [03:40<00:00,  2.89it/s, loss=0.346, binary_loss=0.22, regression_loss=0.126]\n",
      "Evaluating: 100%|██████████████████████████████████████████████████████████████████████| 66/66 [01:15<00:00,  1.14s/it]\n"
     ]
    },
    {
     "name": "stdout",
     "output_type": "stream",
     "text": [
      "Train Loss: 0.3501, Binary Loss: 0.2804, Regression Loss: 0.0697\n",
      "Val Loss: 0.3971, Binary Loss: 0.2976, Regression Loss: 0.0996, AUROC: 0.8952, MSE: 0.0310, Mean Accuracy: 0.7249\n",
      "New best model saved with validation mean accuracy: 0.7249\n",
      "\n",
      "Epoch 9/20\n"
     ]
    },
    {
     "name": "stderr",
     "output_type": "stream",
     "text": [
      "Training: 100%|███████████████| 636/636 [03:40<00:00,  2.89it/s, loss=0.381, binary_loss=0.289, regression_loss=0.0915]\n",
      "Evaluating: 100%|██████████████████████████████████████████████████████████████████████| 66/66 [01:16<00:00,  1.15s/it]\n"
     ]
    },
    {
     "name": "stdout",
     "output_type": "stream",
     "text": [
      "Train Loss: 0.3333, Binary Loss: 0.2734, Regression Loss: 0.0599\n",
      "Val Loss: 0.3932, Binary Loss: 0.2964, Regression Loss: 0.0969, AUROC: 0.8964, MSE: 0.0303, Mean Accuracy: 0.7288\n",
      "New best model saved with validation mean accuracy: 0.7288\n",
      "\n",
      "Epoch 10/20\n"
     ]
    },
    {
     "name": "stderr",
     "output_type": "stream",
     "text": [
      "Training: 100%|███████████████| 636/636 [03:40<00:00,  2.88it/s, loss=0.248, binary_loss=0.221, regression_loss=0.0272]\n",
      "Evaluating: 100%|██████████████████████████████████████████████████████████████████████| 66/66 [01:15<00:00,  1.15s/it]\n"
     ]
    },
    {
     "name": "stdout",
     "output_type": "stream",
     "text": [
      "Train Loss: 0.3196, Binary Loss: 0.2660, Regression Loss: 0.0535\n",
      "Val Loss: 0.3887, Binary Loss: 0.2938, Regression Loss: 0.0949, AUROC: 0.8985, MSE: 0.0297, Mean Accuracy: 0.7304\n",
      "New best model saved with validation mean accuracy: 0.7304\n",
      "\n",
      "Epoch 11/20\n"
     ]
    },
    {
     "name": "stderr",
     "output_type": "stream",
     "text": [
      "Training: 100%|███████████████| 636/636 [03:39<00:00,  2.89it/s, loss=0.281, binary_loss=0.242, regression_loss=0.0387]\n",
      "Evaluating: 100%|██████████████████████████████████████████████████████████████████████| 66/66 [01:15<00:00,  1.15s/it]\n"
     ]
    },
    {
     "name": "stdout",
     "output_type": "stream",
     "text": [
      "Train Loss: 0.3057, Binary Loss: 0.2586, Regression Loss: 0.0471\n",
      "Val Loss: 0.3888, Binary Loss: 0.2942, Regression Loss: 0.0946, AUROC: 0.8980, MSE: 0.0296, Mean Accuracy: 0.7327\n",
      "New best model saved with validation mean accuracy: 0.7327\n",
      "\n",
      "Epoch 12/20\n"
     ]
    },
    {
     "name": "stderr",
     "output_type": "stream",
     "text": [
      "Training: 100%|███████████████| 636/636 [03:39<00:00,  2.90it/s, loss=0.326, binary_loss=0.272, regression_loss=0.0543]\n",
      "Evaluating: 100%|██████████████████████████████████████████████████████████████████████| 66/66 [01:16<00:00,  1.15s/it]\n"
     ]
    },
    {
     "name": "stdout",
     "output_type": "stream",
     "text": [
      "Train Loss: 0.2949, Binary Loss: 0.2513, Regression Loss: 0.0436\n",
      "Val Loss: 0.3865, Binary Loss: 0.2939, Regression Loss: 0.0925, AUROC: 0.8988, MSE: 0.0289, Mean Accuracy: 0.7367\n",
      "New best model saved with validation mean accuracy: 0.7367\n",
      "\n",
      "Epoch 13/20\n"
     ]
    },
    {
     "name": "stderr",
     "output_type": "stream",
     "text": [
      "Training: 100%|███████████████| 636/636 [03:40<00:00,  2.88it/s, loss=0.268, binary_loss=0.232, regression_loss=0.0352]\n",
      "Evaluating: 100%|██████████████████████████████████████████████████████████████████████| 66/66 [01:15<00:00,  1.14s/it]\n"
     ]
    },
    {
     "name": "stdout",
     "output_type": "stream",
     "text": [
      "Train Loss: 0.2842, Binary Loss: 0.2439, Regression Loss: 0.0403\n",
      "Val Loss: 0.3927, Binary Loss: 0.2981, Regression Loss: 0.0946, AUROC: 0.8979, MSE: 0.0296, Mean Accuracy: 0.7353\n",
      "\n",
      "Epoch 14/20\n"
     ]
    },
    {
     "name": "stderr",
     "output_type": "stream",
     "text": [
      "Training: 100%|███████████████| 636/636 [03:39<00:00,  2.89it/s, loss=0.298, binary_loss=0.245, regression_loss=0.0532]\n",
      "Evaluating: 100%|██████████████████████████████████████████████████████████████████████| 66/66 [01:15<00:00,  1.15s/it]\n"
     ]
    },
    {
     "name": "stdout",
     "output_type": "stream",
     "text": [
      "Train Loss: 0.2754, Binary Loss: 0.2373, Regression Loss: 0.0381\n",
      "Val Loss: 0.3911, Binary Loss: 0.2972, Regression Loss: 0.0940, AUROC: 0.8980, MSE: 0.0295, Mean Accuracy: 0.7372\n",
      "New best model saved with validation mean accuracy: 0.7372\n",
      "\n",
      "Epoch 15/20\n"
     ]
    },
    {
     "name": "stderr",
     "output_type": "stream",
     "text": [
      "Training: 100%|███████████████| 636/636 [03:40<00:00,  2.89it/s, loss=0.228, binary_loss=0.199, regression_loss=0.0292]\n",
      "Evaluating: 100%|██████████████████████████████████████████████████████████████████████| 66/66 [01:16<00:00,  1.16s/it]\n"
     ]
    },
    {
     "name": "stdout",
     "output_type": "stream",
     "text": [
      "Train Loss: 0.2677, Binary Loss: 0.2313, Regression Loss: 0.0364\n",
      "Val Loss: 0.3906, Binary Loss: 0.2971, Regression Loss: 0.0935, AUROC: 0.8975, MSE: 0.0293, Mean Accuracy: 0.7375\n",
      "New best model saved with validation mean accuracy: 0.7375\n",
      "\n",
      "Epoch 16/20\n"
     ]
    },
    {
     "name": "stderr",
     "output_type": "stream",
     "text": [
      "Training: 100%|███████████████| 636/636 [03:40<00:00,  2.88it/s, loss=0.262, binary_loss=0.231, regression_loss=0.0311]\n",
      "Evaluating: 100%|██████████████████████████████████████████████████████████████████████| 66/66 [01:15<00:00,  1.15s/it]\n"
     ]
    },
    {
     "name": "stdout",
     "output_type": "stream",
     "text": [
      "Train Loss: 0.2606, Binary Loss: 0.2261, Regression Loss: 0.0345\n",
      "Val Loss: 0.3911, Binary Loss: 0.2984, Regression Loss: 0.0928, AUROC: 0.8971, MSE: 0.0291, Mean Accuracy: 0.7386\n",
      "New best model saved with validation mean accuracy: 0.7386\n",
      "\n",
      "Epoch 17/20\n"
     ]
    },
    {
     "name": "stderr",
     "output_type": "stream",
     "text": [
      "Training: 100%|███████████████| 636/636 [03:39<00:00,  2.89it/s, loss=0.257, binary_loss=0.233, regression_loss=0.0247]\n",
      "Evaluating: 100%|██████████████████████████████████████████████████████████████████████| 66/66 [01:16<00:00,  1.15s/it]\n"
     ]
    },
    {
     "name": "stdout",
     "output_type": "stream",
     "text": [
      "Train Loss: 0.2565, Binary Loss: 0.2228, Regression Loss: 0.0337\n",
      "Val Loss: 0.3907, Binary Loss: 0.2988, Regression Loss: 0.0920, AUROC: 0.8969, MSE: 0.0288, Mean Accuracy: 0.7373\n",
      "\n",
      "Epoch 18/20\n"
     ]
    },
    {
     "name": "stderr",
     "output_type": "stream",
     "text": [
      "Training: 100%|███████████████| 636/636 [03:39<00:00,  2.90it/s, loss=0.245, binary_loss=0.201, regression_loss=0.0433]\n",
      "Evaluating: 100%|██████████████████████████████████████████████████████████████████████| 66/66 [01:16<00:00,  1.15s/it]\n"
     ]
    },
    {
     "name": "stdout",
     "output_type": "stream",
     "text": [
      "Train Loss: 0.2525, Binary Loss: 0.2194, Regression Loss: 0.0331\n",
      "Val Loss: 0.3911, Binary Loss: 0.2991, Regression Loss: 0.0920, AUROC: 0.8966, MSE: 0.0288, Mean Accuracy: 0.7380\n",
      "\n",
      "Epoch 19/20\n"
     ]
    },
    {
     "name": "stderr",
     "output_type": "stream",
     "text": [
      "Training: 100%|███████████████| 636/636 [03:39<00:00,  2.90it/s, loss=0.387, binary_loss=0.297, regression_loss=0.0894]\n",
      "Evaluating: 100%|██████████████████████████████████████████████████████████████████████| 66/66 [01:15<00:00,  1.15s/it]\n"
     ]
    },
    {
     "name": "stdout",
     "output_type": "stream",
     "text": [
      "Train Loss: 0.2511, Binary Loss: 0.2187, Regression Loss: 0.0324\n",
      "Val Loss: 0.3912, Binary Loss: 0.2992, Regression Loss: 0.0920, AUROC: 0.8966, MSE: 0.0288, Mean Accuracy: 0.7381\n",
      "\n",
      "Epoch 20/20\n"
     ]
    },
    {
     "name": "stderr",
     "output_type": "stream",
     "text": [
      "Training: 100%|████████████████| 636/636 [03:39<00:00,  2.89it/s, loss=0.28, binary_loss=0.258, regression_loss=0.0227]\n",
      "Evaluating: 100%|██████████████████████████████████████████████████████████████████████| 66/66 [01:15<00:00,  1.15s/it]\n"
     ]
    },
    {
     "name": "stdout",
     "output_type": "stream",
     "text": [
      "Train Loss: 0.2507, Binary Loss: 0.2180, Regression Loss: 0.0327\n",
      "Val Loss: 0.3911, Binary Loss: 0.2992, Regression Loss: 0.0919, AUROC: 0.8966, MSE: 0.0288, Mean Accuracy: 0.7383\n"
     ]
    }
   ],
   "source": [
    "trained_model, history = train_cv_model(\n",
    "    model=model,\n",
    "    train_loader=train_loader,\n",
    "    val_loader=val_loader,\n",
    "    num_epochs=20,  # Adjust as needed\n",
    "    learning_rate=2e-5,  # Lower learning rate for pretrained model\n",
    "    device='cuda',\n",
    "    binary_loss_weight=1.0,\n",
    "    regression_loss_weight=1.,\n",
    "    pos_weight=1.,\n",
    "    warmup_epochs=1\n",
    ")"
   ]
  },
  {
   "cell_type": "code",
   "execution_count": 11,
   "id": "9644d1fc-b6a7-4a8b-b063-3b91dba70135",
   "metadata": {},
   "outputs": [],
   "source": [
    "test_loader  = create_image_data_loader(\n",
    "    csv_path=None,\n",
    "    images_dir='E:/DS/data/siam/plots/test/',\n",
    "    batch_size = 64,\n",
    "    shuffle = False,\n",
    "    num_workers = 0\n",
    ")"
   ]
  },
  {
   "cell_type": "raw",
   "id": "cb0678bd-9c93-4510-865b-32f92e97d0b3",
   "metadata": {},
   "source": [
    "#065\n",
    "Train Loss: 0.3618, Binary Loss: 0.2958, Regression Loss: 0.0659\n",
    "Val Loss: 0.4191, Binary Loss: 0.3285, Regression Loss: 0.0906, AUROC: 0.8697, MSE: 0.0291, Mean Accuracy: 0.6739\n",
    "New best model saved with validation mean accuracy: 0.6739"
   ]
  },
  {
   "cell_type": "code",
   "execution_count": 7,
   "id": "883f6af9-43d0-41f5-a76f-433750007c7c",
   "metadata": {},
   "outputs": [],
   "source": [
    "import torch"
   ]
  },
  {
   "cell_type": "code",
   "execution_count": 8,
   "id": "676da9ff-e758-49f0-b459-6914df1830b9",
   "metadata": {},
   "outputs": [],
   "source": [
    "torch.save(trained_model.state_dict(), 'E:/DS/data/siam/weights/swin_v6_l1p.pth')"
   ]
  },
  {
   "cell_type": "code",
   "execution_count": 9,
   "id": "32b10f74-967e-4360-ace4-74386611a838",
   "metadata": {},
   "outputs": [],
   "source": [
    "plot_training_history(history, output_path='E:/DS/data/siam/weights/training_history_swin_v6_l1p.png')"
   ]
  },
  {
   "cell_type": "code",
   "execution_count": 12,
   "id": "cc48e4d1-2b32-4fe2-84b2-5c0aec808baa",
   "metadata": {},
   "outputs": [
    {
     "name": "stderr",
     "output_type": "stream",
     "text": [
      "Running inference: 100%|█████████████████████████████████████████████████████████████████| 8/8 [00:09<00:00,  1.21s/it]"
     ]
    },
    {
     "name": "stdout",
     "output_type": "stream",
     "text": [
      "Predictions saved to E:/DS/data/siam/bi/inference/trans_enc_v1/inf_CV_swin_v6_l1p.csv\n"
     ]
    },
    {
     "name": "stderr",
     "output_type": "stream",
     "text": [
      "\n"
     ]
    }
   ],
   "source": [
    "save_cv_predictions(trained_model,test_loader,\n",
    "                'E:/DS/data/siam/bi/inference/trans_enc_v1/inf_CV_swin_v6_l1p.csv',\n",
    "                'cuda',\n",
    "                binary_threshold=0.5)"
   ]
  },
  {
   "cell_type": "markdown",
   "id": "191d4f4e-4a64-4efd-a455-c210606e30d1",
   "metadata": {},
   "source": [
    "# Prep data for public"
   ]
  },
  {
   "cell_type": "code",
   "execution_count": 13,
   "id": "70dce8be-85b1-4330-9a7e-2d36945980e4",
   "metadata": {},
   "outputs": [],
   "source": [
    "import numpy as np\n",
    "import pandas as pd"
   ]
  },
  {
   "cell_type": "code",
   "execution_count": 14,
   "id": "fa2c1bdc-c22a-45b8-b820-00e806cf7719",
   "metadata": {},
   "outputs": [],
   "source": [
    "ch=pd.read_csv('E:/DS/data/siam/bi/inference/trans_enc_v1/inf_CV_swin_v6_l1p.csv')"
   ]
  },
  {
   "cell_type": "code",
   "execution_count": 15,
   "id": "5b0c2383-7d2d-4ce6-b9e0-b9c9ac9492af",
   "metadata": {},
   "outputs": [],
   "source": [
    "keep_cols = ['file_name',\n",
    "       'binary_Некачественное ГДИС', \n",
    "       'binary_Влияние ствола скважины', \n",
    "       'binary_Радиальный режим',\n",
    "       'binary_Линейный режим', \n",
    "       'binary_Билинейный режим', \n",
    "       'binary_Сферический режим', \n",
    "       'binary_Граница постоянного давления',\n",
    "       'binary_Граница непроницаемый разлом',\n",
    "       'regression_Влияние ствола скважины_details',\n",
    "       'regression_Радиальный режим_details',\n",
    "       'regression_Линейный режим_details',\n",
    "       'regression_Билинейный режим_details',\n",
    "       'regression_Сферический режим_details',\n",
    "       'regression_Граница постоянного давления_details',\n",
    "       'regression_Граница непроницаемый разлом_details']"
   ]
  },
  {
   "cell_type": "code",
   "execution_count": 14,
   "id": "16d37fe9-8978-4edd-88e2-b555dfdb934c",
   "metadata": {},
   "outputs": [],
   "source": [
    "import pickle\n",
    "\n",
    "def load_scaler(file_path):\n",
    "    \"\"\"\n",
    "    Load an sklearn scaler from a pickle file.\n",
    "\n",
    "    Args:\n",
    "        file_path (str): Path to the scaler file.\n",
    "\n",
    "    Returns:\n",
    "        scaler: The loaded scaler object.\n",
    "    \"\"\"\n",
    "    try:\n",
    "        with open(file_path, 'rb') as file:\n",
    "            scaler = pickle.load(file)\n",
    "        print(f\"Scaler loaded successfully from {file_path}\")\n",
    "        return scaler\n",
    "    except Exception as e:\n",
    "        print(f\"Error loading scaler: {e}\")\n",
    "        return None"
   ]
  },
  {
   "cell_type": "code",
   "execution_count": 15,
   "id": "f576f0fa-3435-428c-b265-8d91f67e85ea",
   "metadata": {},
   "outputs": [],
   "source": [
    "def apply_trans_reg(ch, path_to_scalers='E:/DS/data/siam/scalers/tg_scalers_r/tg_r_'):\n",
    "    for i, col in enumerate(['regression_Влияние ствола скважины_details',\n",
    "           'regression_Радиальный режим_details',\n",
    "           'regression_Линейный режим_details',\n",
    "           'regression_Билинейный режим_details',\n",
    "           'regression_Сферический режим_details',\n",
    "           'regression_Граница постоянного давления_details',\n",
    "           'regression_Граница непроницаемый разлом_details']):\n",
    "        print(col)\n",
    "        curr_path = path_to_scalers+f'{i}.pkl'\n",
    "        r_scaler = load_scaler(curr_path)\n",
    "        \n",
    "        data = ch[[col]]\n",
    "        #print(col, data.shape)\n",
    "        data = r_scaler.inverse_transform(data)\n",
    "        #print(col, data.shape)\n",
    "        ch[col]=data\n",
    "    return ch"
   ]
  },
  {
   "cell_type": "code",
   "execution_count": 21,
   "id": "95e4e464-ac95-4bbc-a333-4e4966045119",
   "metadata": {},
   "outputs": [
    {
     "name": "stdout",
     "output_type": "stream",
     "text": [
      "regression_Влияние ствола скважины_details\n",
      "Scaler loaded successfully from E:/DS/data/siam/scalers/tg_scalers_r/tg_r_0.pkl\n",
      "regression_Радиальный режим_details\n",
      "Scaler loaded successfully from E:/DS/data/siam/scalers/tg_scalers_r/tg_r_1.pkl\n",
      "regression_Линейный режим_details\n",
      "Scaler loaded successfully from E:/DS/data/siam/scalers/tg_scalers_r/tg_r_2.pkl\n",
      "regression_Билинейный режим_details\n",
      "Scaler loaded successfully from E:/DS/data/siam/scalers/tg_scalers_r/tg_r_3.pkl\n",
      "regression_Сферический режим_details\n",
      "Scaler loaded successfully from E:/DS/data/siam/scalers/tg_scalers_r/tg_r_4.pkl\n",
      "regression_Граница постоянного давления_details\n",
      "Scaler loaded successfully from E:/DS/data/siam/scalers/tg_scalers_r/tg_r_5.pkl\n",
      "regression_Граница непроницаемый разлом_details\n",
      "Scaler loaded successfully from E:/DS/data/siam/scalers/tg_scalers_r/tg_r_6.pkl\n"
     ]
    }
   ],
   "source": [
    "ch = apply_trans_reg(ch, path_to_scalers='E:/DS/data/siam/scalers/tg_scalers_r/tg_r_')"
   ]
  },
  {
   "cell_type": "code",
   "execution_count": 17,
   "id": "93b3573f-ff40-4d4d-93bb-6c48b48d9e2a",
   "metadata": {},
   "outputs": [],
   "source": [
    "ch[columns_r_2] = np.expm1(ch[columns_r_2])"
   ]
  },
  {
   "cell_type": "code",
   "execution_count": 18,
   "id": "e68bc784-c174-4e1a-a203-2684568d8362",
   "metadata": {},
   "outputs": [],
   "source": [
    "ch = ch[keep_cols]"
   ]
  },
  {
   "cell_type": "code",
   "execution_count": 17,
   "id": "e07946be-e63f-4fea-96ae-b25479c07f3b",
   "metadata": {},
   "outputs": [],
   "source": [
    "df = pd.read_csv('E:/DS/data/siam/bi/markup_train.csv')"
   ]
  },
  {
   "cell_type": "code",
   "execution_count": 24,
   "id": "079c0329-bd76-45d4-9460-cbebfb0896cd",
   "metadata": {},
   "outputs": [
    {
     "data": {
      "text/html": [
       "<div>\n",
       "<style scoped>\n",
       "    .dataframe tbody tr th:only-of-type {\n",
       "        vertical-align: middle;\n",
       "    }\n",
       "\n",
       "    .dataframe tbody tr th {\n",
       "        vertical-align: top;\n",
       "    }\n",
       "\n",
       "    .dataframe thead th {\n",
       "        text-align: right;\n",
       "    }\n",
       "</style>\n",
       "<table border=\"1\" class=\"dataframe\">\n",
       "  <thead>\n",
       "    <tr style=\"text-align: right;\">\n",
       "      <th></th>\n",
       "      <th>Некачественное ГДИС</th>\n",
       "      <th>Влияние ствола скважины</th>\n",
       "      <th>Радиальный режим</th>\n",
       "      <th>Линейный режим</th>\n",
       "      <th>Билинейный режим</th>\n",
       "      <th>Сферический режим</th>\n",
       "      <th>Граница постоянного давления</th>\n",
       "      <th>Граница непроницаемый разлом</th>\n",
       "      <th>Влияние ствола скважины_details</th>\n",
       "      <th>Радиальный режим_details</th>\n",
       "      <th>Линейный режим_details</th>\n",
       "      <th>Билинейный режим_details</th>\n",
       "      <th>Сферический режим_details</th>\n",
       "      <th>Граница постоянного давления_details</th>\n",
       "      <th>Граница непроницаемый разлом_details</th>\n",
       "    </tr>\n",
       "  </thead>\n",
       "  <tbody>\n",
       "    <tr>\n",
       "      <th>count</th>\n",
       "      <td>45141.000000</td>\n",
       "      <td>45141.000000</td>\n",
       "      <td>45141.000000</td>\n",
       "      <td>45141.000000</td>\n",
       "      <td>45141.000000</td>\n",
       "      <td>45141.000000</td>\n",
       "      <td>45141.000000</td>\n",
       "      <td>45141.000000</td>\n",
       "      <td>35558.000000</td>\n",
       "      <td>25855.000000</td>\n",
       "      <td>12211.000000</td>\n",
       "      <td>12086.000000</td>\n",
       "      <td>5764.000000</td>\n",
       "      <td>4874.000000</td>\n",
       "      <td>4265.000000</td>\n",
       "    </tr>\n",
       "    <tr>\n",
       "      <th>mean</th>\n",
       "      <td>0.160984</td>\n",
       "      <td>0.787710</td>\n",
       "      <td>0.572761</td>\n",
       "      <td>0.270508</td>\n",
       "      <td>0.267739</td>\n",
       "      <td>0.127689</td>\n",
       "      <td>0.107973</td>\n",
       "      <td>0.094482</td>\n",
       "      <td>1.719234</td>\n",
       "      <td>1.140486</td>\n",
       "      <td>0.605509</td>\n",
       "      <td>0.934330</td>\n",
       "      <td>1.292040</td>\n",
       "      <td>144.019966</td>\n",
       "      <td>160.928583</td>\n",
       "    </tr>\n",
       "    <tr>\n",
       "      <th>std</th>\n",
       "      <td>0.367521</td>\n",
       "      <td>0.408934</td>\n",
       "      <td>0.494683</td>\n",
       "      <td>0.444227</td>\n",
       "      <td>0.442786</td>\n",
       "      <td>0.333747</td>\n",
       "      <td>0.310349</td>\n",
       "      <td>0.292501</td>\n",
       "      <td>1.537100</td>\n",
       "      <td>1.155191</td>\n",
       "      <td>1.012616</td>\n",
       "      <td>1.166539</td>\n",
       "      <td>0.982978</td>\n",
       "      <td>782.593841</td>\n",
       "      <td>339.370082</td>\n",
       "    </tr>\n",
       "    <tr>\n",
       "      <th>min</th>\n",
       "      <td>0.000000</td>\n",
       "      <td>0.000000</td>\n",
       "      <td>0.000000</td>\n",
       "      <td>0.000000</td>\n",
       "      <td>0.000000</td>\n",
       "      <td>0.000000</td>\n",
       "      <td>0.000000</td>\n",
       "      <td>0.000000</td>\n",
       "      <td>-3.843521</td>\n",
       "      <td>-3.707246</td>\n",
       "      <td>-4.109357</td>\n",
       "      <td>-3.332898</td>\n",
       "      <td>-5.164659</td>\n",
       "      <td>0.006653</td>\n",
       "      <td>0.010753</td>\n",
       "    </tr>\n",
       "    <tr>\n",
       "      <th>25%</th>\n",
       "      <td>0.000000</td>\n",
       "      <td>1.000000</td>\n",
       "      <td>0.000000</td>\n",
       "      <td>0.000000</td>\n",
       "      <td>0.000000</td>\n",
       "      <td>0.000000</td>\n",
       "      <td>0.000000</td>\n",
       "      <td>0.000000</td>\n",
       "      <td>0.914535</td>\n",
       "      <td>0.504870</td>\n",
       "      <td>0.028459</td>\n",
       "      <td>0.327374</td>\n",
       "      <td>0.743594</td>\n",
       "      <td>18.335495</td>\n",
       "      <td>29.301152</td>\n",
       "    </tr>\n",
       "    <tr>\n",
       "      <th>50%</th>\n",
       "      <td>0.000000</td>\n",
       "      <td>1.000000</td>\n",
       "      <td>1.000000</td>\n",
       "      <td>0.000000</td>\n",
       "      <td>0.000000</td>\n",
       "      <td>0.000000</td>\n",
       "      <td>0.000000</td>\n",
       "      <td>0.000000</td>\n",
       "      <td>1.589366</td>\n",
       "      <td>0.959171</td>\n",
       "      <td>0.516372</td>\n",
       "      <td>0.720093</td>\n",
       "      <td>1.296814</td>\n",
       "      <td>55.182021</td>\n",
       "      <td>75.822331</td>\n",
       "    </tr>\n",
       "    <tr>\n",
       "      <th>75%</th>\n",
       "      <td>0.000000</td>\n",
       "      <td>1.000000</td>\n",
       "      <td>1.000000</td>\n",
       "      <td>1.000000</td>\n",
       "      <td>1.000000</td>\n",
       "      <td>0.000000</td>\n",
       "      <td>0.000000</td>\n",
       "      <td>0.000000</td>\n",
       "      <td>2.256645</td>\n",
       "      <td>1.422883</td>\n",
       "      <td>1.024682</td>\n",
       "      <td>1.130444</td>\n",
       "      <td>1.808614</td>\n",
       "      <td>134.488126</td>\n",
       "      <td>182.395620</td>\n",
       "    </tr>\n",
       "    <tr>\n",
       "      <th>max</th>\n",
       "      <td>1.000000</td>\n",
       "      <td>1.000000</td>\n",
       "      <td>1.000000</td>\n",
       "      <td>1.000000</td>\n",
       "      <td>1.000000</td>\n",
       "      <td>1.000000</td>\n",
       "      <td>1.000000</td>\n",
       "      <td>1.000000</td>\n",
       "      <td>31.777765</td>\n",
       "      <td>6.408605</td>\n",
       "      <td>29.027806</td>\n",
       "      <td>29.129381</td>\n",
       "      <td>6.631359</td>\n",
       "      <td>51035.492870</td>\n",
       "      <td>11595.502940</td>\n",
       "    </tr>\n",
       "  </tbody>\n",
       "</table>\n",
       "</div>"
      ],
      "text/plain": [
       "       Некачественное ГДИС  Влияние ствола скважины  Радиальный режим  \\\n",
       "count         45141.000000             45141.000000      45141.000000   \n",
       "mean              0.160984                 0.787710          0.572761   \n",
       "std               0.367521                 0.408934          0.494683   \n",
       "min               0.000000                 0.000000          0.000000   \n",
       "25%               0.000000                 1.000000          0.000000   \n",
       "50%               0.000000                 1.000000          1.000000   \n",
       "75%               0.000000                 1.000000          1.000000   \n",
       "max               1.000000                 1.000000          1.000000   \n",
       "\n",
       "       Линейный режим  Билинейный режим  Сферический режим  \\\n",
       "count    45141.000000      45141.000000       45141.000000   \n",
       "mean         0.270508          0.267739           0.127689   \n",
       "std          0.444227          0.442786           0.333747   \n",
       "min          0.000000          0.000000           0.000000   \n",
       "25%          0.000000          0.000000           0.000000   \n",
       "50%          0.000000          0.000000           0.000000   \n",
       "75%          1.000000          1.000000           0.000000   \n",
       "max          1.000000          1.000000           1.000000   \n",
       "\n",
       "       Граница постоянного давления  Граница непроницаемый разлом  \\\n",
       "count                  45141.000000                  45141.000000   \n",
       "mean                       0.107973                      0.094482   \n",
       "std                        0.310349                      0.292501   \n",
       "min                        0.000000                      0.000000   \n",
       "25%                        0.000000                      0.000000   \n",
       "50%                        0.000000                      0.000000   \n",
       "75%                        0.000000                      0.000000   \n",
       "max                        1.000000                      1.000000   \n",
       "\n",
       "       Влияние ствола скважины_details  Радиальный режим_details  \\\n",
       "count                     35558.000000              25855.000000   \n",
       "mean                          1.719234                  1.140486   \n",
       "std                           1.537100                  1.155191   \n",
       "min                          -3.843521                 -3.707246   \n",
       "25%                           0.914535                  0.504870   \n",
       "50%                           1.589366                  0.959171   \n",
       "75%                           2.256645                  1.422883   \n",
       "max                          31.777765                  6.408605   \n",
       "\n",
       "       Линейный режим_details  Билинейный режим_details  \\\n",
       "count            12211.000000              12086.000000   \n",
       "mean                 0.605509                  0.934330   \n",
       "std                  1.012616                  1.166539   \n",
       "min                 -4.109357                 -3.332898   \n",
       "25%                  0.028459                  0.327374   \n",
       "50%                  0.516372                  0.720093   \n",
       "75%                  1.024682                  1.130444   \n",
       "max                 29.027806                 29.129381   \n",
       "\n",
       "       Сферический режим_details  Граница постоянного давления_details  \\\n",
       "count                5764.000000                           4874.000000   \n",
       "mean                    1.292040                            144.019966   \n",
       "std                     0.982978                            782.593841   \n",
       "min                    -5.164659                              0.006653   \n",
       "25%                     0.743594                             18.335495   \n",
       "50%                     1.296814                             55.182021   \n",
       "75%                     1.808614                            134.488126   \n",
       "max                     6.631359                          51035.492870   \n",
       "\n",
       "       Граница непроницаемый разлом_details  \n",
       "count                           4265.000000  \n",
       "mean                             160.928583  \n",
       "std                              339.370082  \n",
       "min                                0.010753  \n",
       "25%                               29.301152  \n",
       "50%                               75.822331  \n",
       "75%                              182.395620  \n",
       "max                            11595.502940  "
      ]
     },
     "execution_count": 24,
     "metadata": {},
     "output_type": "execute_result"
    }
   ],
   "source": [
    "df.describe()"
   ]
  },
  {
   "cell_type": "code",
   "execution_count": 26,
   "id": "263c0af7-2276-4920-bb35-967709f892d2",
   "metadata": {
    "scrolled": true
   },
   "outputs": [
    {
     "data": {
      "text/html": [
       "<div>\n",
       "<style scoped>\n",
       "    .dataframe tbody tr th:only-of-type {\n",
       "        vertical-align: middle;\n",
       "    }\n",
       "\n",
       "    .dataframe tbody tr th {\n",
       "        vertical-align: top;\n",
       "    }\n",
       "\n",
       "    .dataframe thead th {\n",
       "        text-align: right;\n",
       "    }\n",
       "</style>\n",
       "<table border=\"1\" class=\"dataframe\">\n",
       "  <thead>\n",
       "    <tr style=\"text-align: right;\">\n",
       "      <th></th>\n",
       "      <th>Некачественное ГДИС</th>\n",
       "      <th>Влияние ствола скважины</th>\n",
       "      <th>Радиальный режим</th>\n",
       "      <th>Линейный режим</th>\n",
       "      <th>Билинейный режим</th>\n",
       "      <th>Сферический режим</th>\n",
       "      <th>Граница постоянного давления</th>\n",
       "      <th>Граница непроницаемый разлом</th>\n",
       "      <th>Влияние ствола скважины_details</th>\n",
       "      <th>Радиальный режим_details</th>\n",
       "      <th>Линейный режим_details</th>\n",
       "      <th>Билинейный режим_details</th>\n",
       "      <th>Сферический режим_details</th>\n",
       "      <th>Граница постоянного давления_details</th>\n",
       "      <th>Граница непроницаемый разлом_details</th>\n",
       "    </tr>\n",
       "  </thead>\n",
       "  <tbody>\n",
       "    <tr>\n",
       "      <th>count</th>\n",
       "      <td>500.00000</td>\n",
       "      <td>500.000000</td>\n",
       "      <td>500.000000</td>\n",
       "      <td>500.000000</td>\n",
       "      <td>500.000000</td>\n",
       "      <td>500.000000</td>\n",
       "      <td>500.000000</td>\n",
       "      <td>500.000000</td>\n",
       "      <td>500.000000</td>\n",
       "      <td>500.000000</td>\n",
       "      <td>500.000000</td>\n",
       "      <td>500.000000</td>\n",
       "      <td>500.000000</td>\n",
       "      <td>500.000000</td>\n",
       "      <td>500.000000</td>\n",
       "    </tr>\n",
       "    <tr>\n",
       "      <th>mean</th>\n",
       "      <td>0.13000</td>\n",
       "      <td>0.792000</td>\n",
       "      <td>0.570000</td>\n",
       "      <td>0.208000</td>\n",
       "      <td>0.190000</td>\n",
       "      <td>0.106000</td>\n",
       "      <td>0.168000</td>\n",
       "      <td>0.136000</td>\n",
       "      <td>1.459077</td>\n",
       "      <td>0.837521</td>\n",
       "      <td>0.614479</td>\n",
       "      <td>0.667243</td>\n",
       "      <td>1.197918</td>\n",
       "      <td>146.571750</td>\n",
       "      <td>117.958281</td>\n",
       "    </tr>\n",
       "    <tr>\n",
       "      <th>std</th>\n",
       "      <td>0.33664</td>\n",
       "      <td>0.406283</td>\n",
       "      <td>0.495572</td>\n",
       "      <td>0.406283</td>\n",
       "      <td>0.392694</td>\n",
       "      <td>0.308146</td>\n",
       "      <td>0.374241</td>\n",
       "      <td>0.343132</td>\n",
       "      <td>1.536364</td>\n",
       "      <td>0.958682</td>\n",
       "      <td>1.070282</td>\n",
       "      <td>0.947993</td>\n",
       "      <td>0.940420</td>\n",
       "      <td>168.894506</td>\n",
       "      <td>108.926166</td>\n",
       "    </tr>\n",
       "    <tr>\n",
       "      <th>min</th>\n",
       "      <td>0.00000</td>\n",
       "      <td>0.000000</td>\n",
       "      <td>0.000000</td>\n",
       "      <td>0.000000</td>\n",
       "      <td>0.000000</td>\n",
       "      <td>0.000000</td>\n",
       "      <td>0.000000</td>\n",
       "      <td>0.000000</td>\n",
       "      <td>-2.523958</td>\n",
       "      <td>-1.342336</td>\n",
       "      <td>-1.875735</td>\n",
       "      <td>-1.563637</td>\n",
       "      <td>-1.497262</td>\n",
       "      <td>-43.517456</td>\n",
       "      <td>-35.913495</td>\n",
       "    </tr>\n",
       "    <tr>\n",
       "      <th>25%</th>\n",
       "      <td>0.00000</td>\n",
       "      <td>1.000000</td>\n",
       "      <td>0.000000</td>\n",
       "      <td>0.000000</td>\n",
       "      <td>0.000000</td>\n",
       "      <td>0.000000</td>\n",
       "      <td>0.000000</td>\n",
       "      <td>0.000000</td>\n",
       "      <td>0.668614</td>\n",
       "      <td>0.305240</td>\n",
       "      <td>-0.014923</td>\n",
       "      <td>0.148327</td>\n",
       "      <td>0.599623</td>\n",
       "      <td>33.810713</td>\n",
       "      <td>40.697074</td>\n",
       "    </tr>\n",
       "    <tr>\n",
       "      <th>50%</th>\n",
       "      <td>0.00000</td>\n",
       "      <td>1.000000</td>\n",
       "      <td>1.000000</td>\n",
       "      <td>0.000000</td>\n",
       "      <td>0.000000</td>\n",
       "      <td>0.000000</td>\n",
       "      <td>0.000000</td>\n",
       "      <td>0.000000</td>\n",
       "      <td>1.412186</td>\n",
       "      <td>0.798520</td>\n",
       "      <td>0.513764</td>\n",
       "      <td>0.590666</td>\n",
       "      <td>1.184878</td>\n",
       "      <td>75.950364</td>\n",
       "      <td>76.709827</td>\n",
       "    </tr>\n",
       "    <tr>\n",
       "      <th>75%</th>\n",
       "      <td>0.00000</td>\n",
       "      <td>1.000000</td>\n",
       "      <td>1.000000</td>\n",
       "      <td>0.000000</td>\n",
       "      <td>0.000000</td>\n",
       "      <td>0.000000</td>\n",
       "      <td>0.000000</td>\n",
       "      <td>0.000000</td>\n",
       "      <td>2.074884</td>\n",
       "      <td>1.210860</td>\n",
       "      <td>1.028222</td>\n",
       "      <td>1.034276</td>\n",
       "      <td>1.742205</td>\n",
       "      <td>192.122000</td>\n",
       "      <td>173.859772</td>\n",
       "    </tr>\n",
       "    <tr>\n",
       "      <th>max</th>\n",
       "      <td>1.00000</td>\n",
       "      <td>1.000000</td>\n",
       "      <td>1.000000</td>\n",
       "      <td>1.000000</td>\n",
       "      <td>1.000000</td>\n",
       "      <td>1.000000</td>\n",
       "      <td>1.000000</td>\n",
       "      <td>1.000000</td>\n",
       "      <td>6.823451</td>\n",
       "      <td>5.023468</td>\n",
       "      <td>4.890835</td>\n",
       "      <td>4.810634</td>\n",
       "      <td>4.582346</td>\n",
       "      <td>810.986947</td>\n",
       "      <td>479.889192</td>\n",
       "    </tr>\n",
       "  </tbody>\n",
       "</table>\n",
       "</div>"
      ],
      "text/plain": [
       "       Некачественное ГДИС  Влияние ствола скважины  Радиальный режим  \\\n",
       "count            500.00000               500.000000        500.000000   \n",
       "mean               0.13000                 0.792000          0.570000   \n",
       "std                0.33664                 0.406283          0.495572   \n",
       "min                0.00000                 0.000000          0.000000   \n",
       "25%                0.00000                 1.000000          0.000000   \n",
       "50%                0.00000                 1.000000          1.000000   \n",
       "75%                0.00000                 1.000000          1.000000   \n",
       "max                1.00000                 1.000000          1.000000   \n",
       "\n",
       "       Линейный режим  Билинейный режим  Сферический режим  \\\n",
       "count      500.000000        500.000000         500.000000   \n",
       "mean         0.208000          0.190000           0.106000   \n",
       "std          0.406283          0.392694           0.308146   \n",
       "min          0.000000          0.000000           0.000000   \n",
       "25%          0.000000          0.000000           0.000000   \n",
       "50%          0.000000          0.000000           0.000000   \n",
       "75%          0.000000          0.000000           0.000000   \n",
       "max          1.000000          1.000000           1.000000   \n",
       "\n",
       "       Граница постоянного давления  Граница непроницаемый разлом  \\\n",
       "count                    500.000000                    500.000000   \n",
       "mean                       0.168000                      0.136000   \n",
       "std                        0.374241                      0.343132   \n",
       "min                        0.000000                      0.000000   \n",
       "25%                        0.000000                      0.000000   \n",
       "50%                        0.000000                      0.000000   \n",
       "75%                        0.000000                      0.000000   \n",
       "max                        1.000000                      1.000000   \n",
       "\n",
       "       Влияние ствола скважины_details  Радиальный режим_details  \\\n",
       "count                       500.000000                500.000000   \n",
       "mean                          1.459077                  0.837521   \n",
       "std                           1.536364                  0.958682   \n",
       "min                          -2.523958                 -1.342336   \n",
       "25%                           0.668614                  0.305240   \n",
       "50%                           1.412186                  0.798520   \n",
       "75%                           2.074884                  1.210860   \n",
       "max                           6.823451                  5.023468   \n",
       "\n",
       "       Линейный режим_details  Билинейный режим_details  \\\n",
       "count              500.000000                500.000000   \n",
       "mean                 0.614479                  0.667243   \n",
       "std                  1.070282                  0.947993   \n",
       "min                 -1.875735                 -1.563637   \n",
       "25%                 -0.014923                  0.148327   \n",
       "50%                  0.513764                  0.590666   \n",
       "75%                  1.028222                  1.034276   \n",
       "max                  4.890835                  4.810634   \n",
       "\n",
       "       Сферический режим_details  Граница постоянного давления_details  \\\n",
       "count                 500.000000                            500.000000   \n",
       "mean                    1.197918                            146.571750   \n",
       "std                     0.940420                            168.894506   \n",
       "min                    -1.497262                            -43.517456   \n",
       "25%                     0.599623                             33.810713   \n",
       "50%                     1.184878                             75.950364   \n",
       "75%                     1.742205                            192.122000   \n",
       "max                     4.582346                            810.986947   \n",
       "\n",
       "       Граница непроницаемый разлом_details  \n",
       "count                            500.000000  \n",
       "mean                             117.958281  \n",
       "std                              108.926166  \n",
       "min                              -35.913495  \n",
       "25%                               40.697074  \n",
       "50%                               76.709827  \n",
       "75%                              173.859772  \n",
       "max                              479.889192  "
      ]
     },
     "execution_count": 26,
     "metadata": {},
     "output_type": "execute_result"
    }
   ],
   "source": [
    "ch.describe()"
   ]
  },
  {
   "cell_type": "code",
   "execution_count": 16,
   "id": "03271da1-b416-441c-a9b2-d70370465fb2",
   "metadata": {},
   "outputs": [],
   "source": [
    "sb = pd.read_csv('E:/DS/data/siam/bi/inference/random/submit1.csv')\n",
    "columns_b=['Некачественное ГДИС',\n",
    "       'Влияние ствола скважины', 'Радиальный режим', 'Линейный режим',\n",
    "       'Билинейный режим', 'Сферический режим', 'Граница постоянного давления',\n",
    "       'Граница непроницаемый разлом', ]\n",
    "columns_r=['Влияние ствола скважины_details',\n",
    "       'Радиальный режим_details', 'Линейный режим_details',\n",
    "       'Билинейный режим_details', 'Сферический режим_details',\n",
    "       'Граница постоянного давления_details',\n",
    "       'Граница непроницаемый разлом_details']\n",
    "\n",
    "columns_b_2 = ['binary_Некачественное ГДИС', \n",
    "       'binary_Влияние ствола скважины', \n",
    "       'binary_Радиальный режим',\n",
    "       'binary_Линейный режим', \n",
    "       'binary_Билинейный режим', \n",
    "       'binary_Сферический режим', \n",
    "       'binary_Граница постоянного давления',\n",
    "       'binary_Граница непроницаемый разлом',]\n",
    "columns_r_2 =['regression_Влияние ствола скважины_details',\n",
    "       'regression_Радиальный режим_details',\n",
    "       'regression_Линейный режим_details',\n",
    "       'regression_Билинейный режим_details',\n",
    "       'regression_Сферический режим_details',\n",
    "       'regression_Граница постоянного давления_details',\n",
    "       'regression_Граница непроницаемый разлом_details']"
   ]
  },
  {
   "cell_type": "code",
   "execution_count": 19,
   "id": "6912c63a-3b0d-4430-b4bb-9cb5ba53b9b1",
   "metadata": {},
   "outputs": [],
   "source": [
    "ch.columns  = ['file_name']+columns_b+columns_r"
   ]
  },
  {
   "cell_type": "code",
   "execution_count": 20,
   "id": "7ffcf5a6-131a-4e03-b50e-dec982975324",
   "metadata": {},
   "outputs": [],
   "source": [
    "ch = sb[['file_name']].merge(ch)"
   ]
  },
  {
   "cell_type": "code",
   "execution_count": 21,
   "id": "dd0d7ca6-659e-4ff2-8f83-899090f90340",
   "metadata": {},
   "outputs": [],
   "source": [
    "ch.to_csv('E:/DS/data/siam/bi/inference/trans_enc_v1/inf_CV_swin_v6_l1p_tr.csv',index=False)"
   ]
  },
  {
   "cell_type": "markdown",
   "id": "42a3aa1b-30fd-4136-9744-6f488290b7be",
   "metadata": {},
   "source": [
    "# Blend check"
   ]
  },
  {
   "cell_type": "code",
   "execution_count": 96,
   "id": "41b94b67-8ca3-494f-8d88-f389b96cec17",
   "metadata": {},
   "outputs": [],
   "source": [
    "import pandas as pd"
   ]
  },
  {
   "cell_type": "markdown",
   "id": "e4c4533c-3053-48df-b0ae-9a767a402b5f",
   "metadata": {},
   "source": [
    "## better blend"
   ]
  },
  {
   "cell_type": "code",
   "execution_count": 6,
   "id": "ff84fcf6-a994-460d-a411-89974a3e2a67",
   "metadata": {},
   "outputs": [],
   "source": [
    "import numpy as np\n",
    "import pandas as pd"
   ]
  },
  {
   "cell_type": "code",
   "execution_count": 35,
   "id": "9129bbcf-b820-47e4-9e29-51b015d07911",
   "metadata": {},
   "outputs": [],
   "source": [
    "import pickle\n",
    "\n",
    "def load_scaler(file_path):\n",
    "    \"\"\"\n",
    "    Load an sklearn scaler from a pickle file.\n",
    "\n",
    "    Args:\n",
    "        file_path (str): Path to the scaler file.\n",
    "\n",
    "    Returns:\n",
    "        scaler: The loaded scaler object.\n",
    "    \"\"\"\n",
    "    try:\n",
    "        with open(file_path, 'rb') as file:\n",
    "            scaler = pickle.load(file)\n",
    "        #print(f\"Scaler loaded successfully from {file_path}\")\n",
    "        return scaler\n",
    "    except Exception as e:\n",
    "        print(f\"Error loading scaler: {e}\")\n",
    "        return None"
   ]
  },
  {
   "cell_type": "code",
   "execution_count": 40,
   "id": "475db802-063f-4277-b1a9-3c9730970d09",
   "metadata": {},
   "outputs": [],
   "source": [
    "def apply_trans_reg(ch, path_to_scalers='E:/DS/data/siam/scalers/tg_scalers_r/tg_r_'):\n",
    "    for i, col in enumerate(['regression_Влияние ствола скважины_details',\n",
    "           'regression_Радиальный режим_details',\n",
    "           'regression_Линейный режим_details',\n",
    "           'regression_Билинейный режим_details',\n",
    "           'regression_Сферический режим_details',\n",
    "           'regression_Граница постоянного давления_details',\n",
    "           'regression_Граница непроницаемый разлом_details']):\n",
    "        #print(col)\n",
    "        curr_path = path_to_scalers+f'{i}.pkl'\n",
    "        r_scaler = load_scaler(curr_path)\n",
    "        \n",
    "        data = ch[[col]]\n",
    "        #print(col, data.shape)\n",
    "        data = r_scaler.inverse_transform(data)\n",
    "        #print(col, data.shape)\n",
    "        ch[col]=data\n",
    "    return ch"
   ]
  },
  {
   "cell_type": "code",
   "execution_count": 37,
   "id": "64889cb5-817f-4c85-990e-fd6edb96c4da",
   "metadata": {},
   "outputs": [],
   "source": [
    "keep_cols = ['file_name',\n",
    "       'binary_Некачественное ГДИС', \n",
    "       'binary_Влияние ствола скважины', \n",
    "       'binary_Радиальный режим',\n",
    "       'binary_Линейный режим', \n",
    "       'binary_Билинейный режим', \n",
    "       'binary_Сферический режим', \n",
    "       'binary_Граница постоянного давления',\n",
    "       'binary_Граница непроницаемый разлом',\n",
    "       'regression_Влияние ствола скважины_details',\n",
    "       'regression_Радиальный режим_details',\n",
    "       'regression_Линейный режим_details',\n",
    "       'regression_Билинейный режим_details',\n",
    "       'regression_Сферический режим_details',\n",
    "       'regression_Граница постоянного давления_details',\n",
    "       'regression_Граница непроницаемый разлом_details']\n",
    "columns_b=['Некачественное ГДИС',\n",
    "       'Влияние ствола скважины', 'Радиальный режим', 'Линейный режим',\n",
    "       'Билинейный режим', 'Сферический режим', 'Граница постоянного давления',\n",
    "       'Граница непроницаемый разлом', ]\n",
    "columns_r=['Влияние ствола скважины_details',\n",
    "       'Радиальный режим_details', 'Линейный режим_details',\n",
    "       'Билинейный режим_details', 'Сферический режим_details',\n",
    "       'Граница постоянного давления_details',\n",
    "       'Граница непроницаемый разлом_details']\n",
    "\n",
    "columns_b_2 = ['binary_Некачественное ГДИС', \n",
    "       'binary_Влияние ствола скважины', \n",
    "       'binary_Радиальный режим',\n",
    "       'binary_Линейный режим', \n",
    "       'binary_Билинейный режим', \n",
    "       'binary_Сферический режим', \n",
    "       'binary_Граница постоянного давления',\n",
    "       'binary_Граница непроницаемый разлом',]\n",
    "columns_r_2 =['regression_Влияние ствола скважины_details',\n",
    "       'regression_Радиальный режим_details',\n",
    "       'regression_Линейный режим_details',\n",
    "       'regression_Билинейный режим_details',\n",
    "       'regression_Сферический режим_details',\n",
    "       'regression_Граница постоянного давления_details',\n",
    "       'regression_Граница непроницаемый разлом_details']"
   ]
  },
  {
   "cell_type": "code",
   "execution_count": 43,
   "id": "4e9d6b66-3533-40e5-8400-ac047005bcaf",
   "metadata": {},
   "outputs": [],
   "source": [
    "def blend_them(dfs_b, dfs_r):\n",
    "    # for df in dfs_b+dfs_r:\n",
    "    #     df = df.sort_values('file_name')\n",
    "    # for df in dfs_r:\n",
    "    #     df = apply_trans_reg(df, path_to_scalers='E:/DS/data/siam/scalers/tg_scalers_r/tg_r_')\n",
    "    res = dfs_b[0][['file_name']].copy()\n",
    "    for col in columns_r_2:\n",
    "        base = dfs_r[0][col].values/len(dfs_r)\n",
    "        if len(dfs_r)>1:\n",
    "            for df in dfs_r[1:]:\n",
    "                base += df[col].values/len(dfs_r)\n",
    "        res[col]=base\n",
    "    for col in columns_b_2:\n",
    "        col_ = col\n",
    "        col =col+'_prob'\n",
    "        base = dfs_b[0][col].values/len(dfs_b)\n",
    "        if len(dfs_b)>1:\n",
    "            for df in dfs_b[1:]:\n",
    "                base += df[col].values/len(dfs_b)\n",
    "        res[col_]=((base>0.5)*1)\n",
    "    res = res[keep_cols]\n",
    "    res.columns = ['file_name']+columns_b+columns_r\n",
    "    return res"
   ]
  },
  {
   "cell_type": "code",
   "execution_count": 41,
   "id": "1a6e088d-1d5c-4e5e-b9bb-cbe022b41092",
   "metadata": {},
   "outputs": [],
   "source": [
    "# CV Vit v1 0.5265\n",
    "ch=pd.read_csv('E:/DS/data/siam/bi/inference/trans_enc_v1/inf_CV_v1.csv').sort_values('file_name')\n",
    "ch = apply_trans_reg(ch, path_to_scalers='E:/DS/data/siam/scalers/tg_scalers_r/tg_r_')"
   ]
  },
  {
   "cell_type": "code",
   "execution_count": 42,
   "id": "45ff9def-e14e-4559-aacb-14ca9e0e21a3",
   "metadata": {},
   "outputs": [],
   "source": [
    "# TS f3 v8 : 0.6531\n",
    "ch2=pd.read_csv('E:/DS/data/siam/bi/inference/trans_enc_v1/inf_v8.csv').sort_values('file_name')\n",
    "ch2 = apply_trans_reg(ch2, path_to_scalers='E:/DS/data/siam/scalers/tg_scalers_r/tg_r_')\n",
    "# TS f10 v9  0.6426\n",
    "ch3=pd.read_csv('E:/DS/data/siam/bi/inference/trans_enc_v1/inf_v9_10.csv').sort_values('file_name')\n",
    "ch3 = apply_trans_reg(ch3, path_to_scalers='E:/DS/data/siam/scalers/tg_scalers_r/tg_r_')"
   ]
  },
  {
   "cell_type": "code",
   "execution_count": 48,
   "id": "67effa2f-c024-430d-b2c6-66a67a737676",
   "metadata": {},
   "outputs": [],
   "source": [
    "# TS 3f 13 Результат: 0.6537  with weights\n",
    "ch4=pd.read_csv('E:/DS/data/siam/bi/inference/trans_enc_v1/inf_v13_10.csv').sort_values('file_name')\n",
    "ch4 = apply_trans_reg(ch4, path_to_scalers='E:/DS/data/siam/scalers/tg_scalers_r/tg_r_')"
   ]
  },
  {
   "cell_type": "code",
   "execution_count": 49,
   "id": "63f7fe7b-becc-4435-abb9-e2bf3f0ffd5a",
   "metadata": {},
   "outputs": [],
   "source": [
    "# CV2_conv Результат: 0.6343 with weights \n",
    "ch5=pd.read_csv('E:/DS/data/siam/bi/inference/trans_enc_v1/inf_CV_conv_v2.csv').sort_values('file_name')\n",
    "ch5 = apply_trans_reg(ch5, path_to_scalers='E:/DS/data/siam/scalers/tg_scalers_r/tg_r_')"
   ]
  },
  {
   "cell_type": "code",
   "execution_count": 50,
   "id": "4af12720-2d51-4a78-8f75-28d627da39da",
   "metadata": {},
   "outputs": [],
   "source": [
    "# TS3 12 0.631 with weights ts_3f_12_631\n",
    "ch6=pd.read_csv('E:/DS/data/siam/bi/inference/trans_enc_v1/inf_v12.csv').sort_values('file_name')\n",
    "ch6 = apply_trans_reg(ch6, path_to_scalers='E:/DS/data/siam/scalers/tg_scalers_r/tg_r_')"
   ]
  },
  {
   "cell_type": "code",
   "execution_count": 51,
   "id": "656d9ece-5569-4c69-80e6-38b52bc9dd21",
   "metadata": {},
   "outputs": [],
   "source": [
    "# TS_10 10_10 0.6563 with weights\n",
    "ch7=pd.read_csv('E:/DS/data/siam/bi/inference/trans_enc_v1/inf_v10_10.csv').sort_values('file_name')\n",
    "ch7 = apply_trans_reg(ch7, path_to_scalers='E:/DS/data/siam/scalers/tg_scalers_r/tg_r_')"
   ]
  },
  {
   "cell_type": "code",
   "execution_count": null,
   "id": "ab219407-093a-4502-9c7c-07830e7fdd9d",
   "metadata": {},
   "outputs": [],
   "source": [
    "# TS_3 l1p v1 Результат: 0.6881 with weights\n",
    "ch8 =pd.read_csv('E:/DS/data/siam/bi/inference/trans_enc_v1/inf_l1p_ts3_v1.csv')\n",
    "ch8[columns_r_2] = np.expm1(ch8[columns_r_2])"
   ]
  },
  {
   "cell_type": "code",
   "execution_count": null,
   "id": "7c7352df-bec1-4da6-a263-1d46bb2a9b0c",
   "metadata": {},
   "outputs": [],
   "source": [
    "# VS Conv l1p v1 Результат: 0.5541 with weights\n",
    "ch9 = pd.read_csv('E:/DS/data/siam/bi/inference/trans_enc_v1/inf_CV_conv_v5_l1p.csv')\n",
    "ch9[columns_r_2] = np.expm1(ch9[columns_r_2])"
   ]
  },
  {
   "cell_type": "code",
   "execution_count": null,
   "id": "b9d55922-6c6c-46b3-915f-d7ae7ecfdb72",
   "metadata": {},
   "outputs": [],
   "source": [
    "# TS 10   ???  ????? with weights  inf_l1p_ts10_v1\n",
    "# ch10 = pd.read_csv('E:/DS/data/siam/bi/inference/trans_enc_v1/inf_l1p_ts10_v1.csv')\n",
    "# ch10[columns_r_2] = np.expm1(ch10[columns_r_2])"
   ]
  },
  {
   "cell_type": "code",
   "execution_count": null,
   "id": "22123a07-720e-4471-bad4-e550cc5d9827",
   "metadata": {},
   "outputs": [],
   "source": [
    "# VS Swin l1p  Результат: 0.6189 with weights\n",
    "ch11 = pd.read_csv('E:/DS/data/siam/bi/inference/trans_enc_v1/inf_CV_swin_v6_l1p.csv')\n",
    "ch11[columns_r_2] = np.expm1(ch11[columns_r_2])"
   ]
  },
  {
   "cell_type": "code",
   "execution_count": null,
   "id": "852ae284-e626-44b1-a3e1-2ff8236791ab",
   "metadata": {},
   "outputs": [],
   "source": [
    "# VS vit l1p v4 Результат: Результат: 0.517 with weights\n",
    "ch12 = pd.read_csv('E:/DS/data/siam/bi/inference/trans_enc_v1/inf_CV_vit_v4_l1p.csv')\n",
    "ch12[columns_r_2] = np.expm1(ch12[columns_r_2])"
   ]
  },
  {
   "cell_type": "code",
   "execution_count": null,
   "id": "ec45eed2-bb16-4e05-bc76-be33feafe668",
   "metadata": {},
   "outputs": [],
   "source": [
    "# TS_3 l1p v2 Результат: 0.?? with weights\n",
    "# ch13 =pd.read_csv('E:/DS/data/siam/bi/inference/trans_enc_v1/inf_l1p_ts3_v2.csv')\n",
    "# ch13[columns_r_2] = np.expm1(ch13[columns_r_2])"
   ]
  },
  {
   "cell_type": "code",
   "execution_count": 44,
   "id": "6812becf-51d5-47be-b0a9-bf1355e0a87c",
   "metadata": {},
   "outputs": [],
   "source": [
    "# 0.6954\n",
    "res =  blend_them(dfs_b=[ch,ch2,ch3], dfs_r=[ch2,ch3])"
   ]
  },
  {
   "cell_type": "code",
   "execution_count": 47,
   "id": "44b1cd08-6d46-4cfb-9bcb-c340c6161ae2",
   "metadata": {},
   "outputs": [],
   "source": [
    "res.to_csv('E:/DS/data/siam/bi/inference/blend/blend1.csv',index=False)"
   ]
  },
  {
   "cell_type": "code",
   "execution_count": 53,
   "id": "2bac6663-f2e8-4e64-93dd-6801a24dc9f7",
   "metadata": {},
   "outputs": [
    {
     "data": {
      "text/html": [
       "<div>\n",
       "<style scoped>\n",
       "    .dataframe tbody tr th:only-of-type {\n",
       "        vertical-align: middle;\n",
       "    }\n",
       "\n",
       "    .dataframe tbody tr th {\n",
       "        vertical-align: top;\n",
       "    }\n",
       "\n",
       "    .dataframe thead th {\n",
       "        text-align: right;\n",
       "    }\n",
       "</style>\n",
       "<table border=\"1\" class=\"dataframe\">\n",
       "  <thead>\n",
       "    <tr style=\"text-align: right;\">\n",
       "      <th></th>\n",
       "      <th>Некачественное ГДИС</th>\n",
       "      <th>Влияние ствола скважины</th>\n",
       "      <th>Радиальный режим</th>\n",
       "      <th>Линейный режим</th>\n",
       "      <th>Билинейный режим</th>\n",
       "      <th>Сферический режим</th>\n",
       "      <th>Граница постоянного давления</th>\n",
       "      <th>Граница непроницаемый разлом</th>\n",
       "      <th>Влияние ствола скважины_details</th>\n",
       "      <th>Радиальный режим_details</th>\n",
       "      <th>Линейный режим_details</th>\n",
       "      <th>Билинейный режим_details</th>\n",
       "      <th>Сферический режим_details</th>\n",
       "      <th>Граница постоянного давления_details</th>\n",
       "      <th>Граница непроницаемый разлом_details</th>\n",
       "    </tr>\n",
       "  </thead>\n",
       "  <tbody>\n",
       "    <tr>\n",
       "      <th>count</th>\n",
       "      <td>500.00000</td>\n",
       "      <td>500.000000</td>\n",
       "      <td>500.000000</td>\n",
       "      <td>500.000000</td>\n",
       "      <td>500.000000</td>\n",
       "      <td>500.00000</td>\n",
       "      <td>500.00000</td>\n",
       "      <td>500.000000</td>\n",
       "      <td>500.000000</td>\n",
       "      <td>500.000000</td>\n",
       "      <td>500.000000</td>\n",
       "      <td>500.000000</td>\n",
       "      <td>500.000000</td>\n",
       "      <td>500.000000</td>\n",
       "      <td>500.000000</td>\n",
       "    </tr>\n",
       "    <tr>\n",
       "      <th>mean</th>\n",
       "      <td>0.15200</td>\n",
       "      <td>0.832000</td>\n",
       "      <td>0.596000</td>\n",
       "      <td>0.218000</td>\n",
       "      <td>0.186000</td>\n",
       "      <td>0.13200</td>\n",
       "      <td>0.13000</td>\n",
       "      <td>0.150000</td>\n",
       "      <td>1.439517</td>\n",
       "      <td>0.833357</td>\n",
       "      <td>0.573637</td>\n",
       "      <td>0.682032</td>\n",
       "      <td>1.203438</td>\n",
       "      <td>155.047232</td>\n",
       "      <td>121.802247</td>\n",
       "    </tr>\n",
       "    <tr>\n",
       "      <th>std</th>\n",
       "      <td>0.35938</td>\n",
       "      <td>0.374241</td>\n",
       "      <td>0.491189</td>\n",
       "      <td>0.413301</td>\n",
       "      <td>0.389496</td>\n",
       "      <td>0.33883</td>\n",
       "      <td>0.33664</td>\n",
       "      <td>0.357429</td>\n",
       "      <td>1.503581</td>\n",
       "      <td>0.957271</td>\n",
       "      <td>1.021832</td>\n",
       "      <td>0.946386</td>\n",
       "      <td>0.991293</td>\n",
       "      <td>175.485918</td>\n",
       "      <td>113.238198</td>\n",
       "    </tr>\n",
       "    <tr>\n",
       "      <th>min</th>\n",
       "      <td>0.00000</td>\n",
       "      <td>0.000000</td>\n",
       "      <td>0.000000</td>\n",
       "      <td>0.000000</td>\n",
       "      <td>0.000000</td>\n",
       "      <td>0.00000</td>\n",
       "      <td>0.00000</td>\n",
       "      <td>0.000000</td>\n",
       "      <td>-2.176788</td>\n",
       "      <td>-1.498397</td>\n",
       "      <td>-1.817419</td>\n",
       "      <td>-1.586291</td>\n",
       "      <td>-1.867943</td>\n",
       "      <td>-57.538887</td>\n",
       "      <td>-25.014277</td>\n",
       "    </tr>\n",
       "    <tr>\n",
       "      <th>25%</th>\n",
       "      <td>0.00000</td>\n",
       "      <td>1.000000</td>\n",
       "      <td>0.000000</td>\n",
       "      <td>0.000000</td>\n",
       "      <td>0.000000</td>\n",
       "      <td>0.00000</td>\n",
       "      <td>0.00000</td>\n",
       "      <td>0.000000</td>\n",
       "      <td>0.629488</td>\n",
       "      <td>0.291151</td>\n",
       "      <td>-0.077923</td>\n",
       "      <td>0.166905</td>\n",
       "      <td>0.593297</td>\n",
       "      <td>38.969604</td>\n",
       "      <td>40.122701</td>\n",
       "    </tr>\n",
       "    <tr>\n",
       "      <th>50%</th>\n",
       "      <td>0.00000</td>\n",
       "      <td>1.000000</td>\n",
       "      <td>1.000000</td>\n",
       "      <td>0.000000</td>\n",
       "      <td>0.000000</td>\n",
       "      <td>0.00000</td>\n",
       "      <td>0.00000</td>\n",
       "      <td>0.000000</td>\n",
       "      <td>1.405109</td>\n",
       "      <td>0.769937</td>\n",
       "      <td>0.525393</td>\n",
       "      <td>0.610983</td>\n",
       "      <td>1.186042</td>\n",
       "      <td>76.886319</td>\n",
       "      <td>78.862551</td>\n",
       "    </tr>\n",
       "    <tr>\n",
       "      <th>75%</th>\n",
       "      <td>0.00000</td>\n",
       "      <td>1.000000</td>\n",
       "      <td>1.000000</td>\n",
       "      <td>0.000000</td>\n",
       "      <td>0.000000</td>\n",
       "      <td>0.00000</td>\n",
       "      <td>0.00000</td>\n",
       "      <td>0.000000</td>\n",
       "      <td>2.023526</td>\n",
       "      <td>1.224328</td>\n",
       "      <td>1.030794</td>\n",
       "      <td>1.057109</td>\n",
       "      <td>1.814734</td>\n",
       "      <td>210.070584</td>\n",
       "      <td>174.785736</td>\n",
       "    </tr>\n",
       "    <tr>\n",
       "      <th>max</th>\n",
       "      <td>1.00000</td>\n",
       "      <td>1.000000</td>\n",
       "      <td>1.000000</td>\n",
       "      <td>1.000000</td>\n",
       "      <td>1.000000</td>\n",
       "      <td>1.00000</td>\n",
       "      <td>1.00000</td>\n",
       "      <td>1.000000</td>\n",
       "      <td>6.835262</td>\n",
       "      <td>5.153161</td>\n",
       "      <td>4.817956</td>\n",
       "      <td>4.888088</td>\n",
       "      <td>5.474791</td>\n",
       "      <td>813.320115</td>\n",
       "      <td>529.742596</td>\n",
       "    </tr>\n",
       "  </tbody>\n",
       "</table>\n",
       "</div>"
      ],
      "text/plain": [
       "       Некачественное ГДИС  Влияние ствола скважины  Радиальный режим  \\\n",
       "count            500.00000               500.000000        500.000000   \n",
       "mean               0.15200                 0.832000          0.596000   \n",
       "std                0.35938                 0.374241          0.491189   \n",
       "min                0.00000                 0.000000          0.000000   \n",
       "25%                0.00000                 1.000000          0.000000   \n",
       "50%                0.00000                 1.000000          1.000000   \n",
       "75%                0.00000                 1.000000          1.000000   \n",
       "max                1.00000                 1.000000          1.000000   \n",
       "\n",
       "       Линейный режим  Билинейный режим  Сферический режим  \\\n",
       "count      500.000000        500.000000          500.00000   \n",
       "mean         0.218000          0.186000            0.13200   \n",
       "std          0.413301          0.389496            0.33883   \n",
       "min          0.000000          0.000000            0.00000   \n",
       "25%          0.000000          0.000000            0.00000   \n",
       "50%          0.000000          0.000000            0.00000   \n",
       "75%          0.000000          0.000000            0.00000   \n",
       "max          1.000000          1.000000            1.00000   \n",
       "\n",
       "       Граница постоянного давления  Граница непроницаемый разлом  \\\n",
       "count                     500.00000                    500.000000   \n",
       "mean                        0.13000                      0.150000   \n",
       "std                         0.33664                      0.357429   \n",
       "min                         0.00000                      0.000000   \n",
       "25%                         0.00000                      0.000000   \n",
       "50%                         0.00000                      0.000000   \n",
       "75%                         0.00000                      0.000000   \n",
       "max                         1.00000                      1.000000   \n",
       "\n",
       "       Влияние ствола скважины_details  Радиальный режим_details  \\\n",
       "count                       500.000000                500.000000   \n",
       "mean                          1.439517                  0.833357   \n",
       "std                           1.503581                  0.957271   \n",
       "min                          -2.176788                 -1.498397   \n",
       "25%                           0.629488                  0.291151   \n",
       "50%                           1.405109                  0.769937   \n",
       "75%                           2.023526                  1.224328   \n",
       "max                           6.835262                  5.153161   \n",
       "\n",
       "       Линейный режим_details  Билинейный режим_details  \\\n",
       "count              500.000000                500.000000   \n",
       "mean                 0.573637                  0.682032   \n",
       "std                  1.021832                  0.946386   \n",
       "min                 -1.817419                 -1.586291   \n",
       "25%                 -0.077923                  0.166905   \n",
       "50%                  0.525393                  0.610983   \n",
       "75%                  1.030794                  1.057109   \n",
       "max                  4.817956                  4.888088   \n",
       "\n",
       "       Сферический режим_details  Граница постоянного давления_details  \\\n",
       "count                 500.000000                            500.000000   \n",
       "mean                    1.203438                            155.047232   \n",
       "std                     0.991293                            175.485918   \n",
       "min                    -1.867943                            -57.538887   \n",
       "25%                     0.593297                             38.969604   \n",
       "50%                     1.186042                             76.886319   \n",
       "75%                     1.814734                            210.070584   \n",
       "max                     5.474791                            813.320115   \n",
       "\n",
       "       Граница непроницаемый разлом_details  \n",
       "count                            500.000000  \n",
       "mean                             121.802247  \n",
       "std                              113.238198  \n",
       "min                              -25.014277  \n",
       "25%                               40.122701  \n",
       "50%                               78.862551  \n",
       "75%                              174.785736  \n",
       "max                              529.742596  "
      ]
     },
     "execution_count": 53,
     "metadata": {},
     "output_type": "execute_result"
    }
   ],
   "source": [
    "res.describe()"
   ]
  },
  {
   "cell_type": "code",
   "execution_count": 54,
   "id": "99e35778-73cb-4936-9445-04d3f9468a6f",
   "metadata": {},
   "outputs": [],
   "source": [
    "res2 =  blend_them(dfs_b=[ch,ch2,ch3,ch4,ch5,ch7], dfs_r=[ch2,ch3,ch7,ch6,ch4])"
   ]
  },
  {
   "cell_type": "code",
   "execution_count": 55,
   "id": "8014c49b-1b06-4911-b68a-78184f888c90",
   "metadata": {},
   "outputs": [
    {
     "data": {
      "text/html": [
       "<div>\n",
       "<style scoped>\n",
       "    .dataframe tbody tr th:only-of-type {\n",
       "        vertical-align: middle;\n",
       "    }\n",
       "\n",
       "    .dataframe tbody tr th {\n",
       "        vertical-align: top;\n",
       "    }\n",
       "\n",
       "    .dataframe thead th {\n",
       "        text-align: right;\n",
       "    }\n",
       "</style>\n",
       "<table border=\"1\" class=\"dataframe\">\n",
       "  <thead>\n",
       "    <tr style=\"text-align: right;\">\n",
       "      <th></th>\n",
       "      <th>Некачественное ГДИС</th>\n",
       "      <th>Влияние ствола скважины</th>\n",
       "      <th>Радиальный режим</th>\n",
       "      <th>Линейный режим</th>\n",
       "      <th>Билинейный режим</th>\n",
       "      <th>Сферический режим</th>\n",
       "      <th>Граница постоянного давления</th>\n",
       "      <th>Граница непроницаемый разлом</th>\n",
       "      <th>Влияние ствола скважины_details</th>\n",
       "      <th>Радиальный режим_details</th>\n",
       "      <th>Линейный режим_details</th>\n",
       "      <th>Билинейный режим_details</th>\n",
       "      <th>Сферический режим_details</th>\n",
       "      <th>Граница постоянного давления_details</th>\n",
       "      <th>Граница непроницаемый разлом_details</th>\n",
       "    </tr>\n",
       "  </thead>\n",
       "  <tbody>\n",
       "    <tr>\n",
       "      <th>count</th>\n",
       "      <td>500.000000</td>\n",
       "      <td>500.000000</td>\n",
       "      <td>500.000000</td>\n",
       "      <td>500.000000</td>\n",
       "      <td>500.000000</td>\n",
       "      <td>500.000000</td>\n",
       "      <td>500.000000</td>\n",
       "      <td>500.000000</td>\n",
       "      <td>500.000000</td>\n",
       "      <td>500.000000</td>\n",
       "      <td>500.000000</td>\n",
       "      <td>500.000000</td>\n",
       "      <td>500.000000</td>\n",
       "      <td>500.000000</td>\n",
       "      <td>500.000000</td>\n",
       "    </tr>\n",
       "    <tr>\n",
       "      <th>mean</th>\n",
       "      <td>0.140000</td>\n",
       "      <td>0.830000</td>\n",
       "      <td>0.600000</td>\n",
       "      <td>0.206000</td>\n",
       "      <td>0.178000</td>\n",
       "      <td>0.128000</td>\n",
       "      <td>0.136000</td>\n",
       "      <td>0.140000</td>\n",
       "      <td>1.438396</td>\n",
       "      <td>0.826292</td>\n",
       "      <td>0.576590</td>\n",
       "      <td>0.695616</td>\n",
       "      <td>1.170814</td>\n",
       "      <td>159.514344</td>\n",
       "      <td>118.818143</td>\n",
       "    </tr>\n",
       "    <tr>\n",
       "      <th>std</th>\n",
       "      <td>0.347335</td>\n",
       "      <td>0.376009</td>\n",
       "      <td>0.490389</td>\n",
       "      <td>0.404836</td>\n",
       "      <td>0.382896</td>\n",
       "      <td>0.334424</td>\n",
       "      <td>0.343132</td>\n",
       "      <td>0.347335</td>\n",
       "      <td>1.516396</td>\n",
       "      <td>0.961134</td>\n",
       "      <td>1.022946</td>\n",
       "      <td>0.936953</td>\n",
       "      <td>0.983816</td>\n",
       "      <td>181.436539</td>\n",
       "      <td>114.258997</td>\n",
       "    </tr>\n",
       "    <tr>\n",
       "      <th>min</th>\n",
       "      <td>0.000000</td>\n",
       "      <td>0.000000</td>\n",
       "      <td>0.000000</td>\n",
       "      <td>0.000000</td>\n",
       "      <td>0.000000</td>\n",
       "      <td>0.000000</td>\n",
       "      <td>0.000000</td>\n",
       "      <td>0.000000</td>\n",
       "      <td>-2.169472</td>\n",
       "      <td>-1.510707</td>\n",
       "      <td>-1.753525</td>\n",
       "      <td>-1.581723</td>\n",
       "      <td>-1.373019</td>\n",
       "      <td>-35.811237</td>\n",
       "      <td>-14.882588</td>\n",
       "    </tr>\n",
       "    <tr>\n",
       "      <th>25%</th>\n",
       "      <td>0.000000</td>\n",
       "      <td>1.000000</td>\n",
       "      <td>0.000000</td>\n",
       "      <td>0.000000</td>\n",
       "      <td>0.000000</td>\n",
       "      <td>0.000000</td>\n",
       "      <td>0.000000</td>\n",
       "      <td>0.000000</td>\n",
       "      <td>0.649222</td>\n",
       "      <td>0.292307</td>\n",
       "      <td>-0.082474</td>\n",
       "      <td>0.193950</td>\n",
       "      <td>0.567547</td>\n",
       "      <td>39.734923</td>\n",
       "      <td>35.541933</td>\n",
       "    </tr>\n",
       "    <tr>\n",
       "      <th>50%</th>\n",
       "      <td>0.000000</td>\n",
       "      <td>1.000000</td>\n",
       "      <td>1.000000</td>\n",
       "      <td>0.000000</td>\n",
       "      <td>0.000000</td>\n",
       "      <td>0.000000</td>\n",
       "      <td>0.000000</td>\n",
       "      <td>0.000000</td>\n",
       "      <td>1.440297</td>\n",
       "      <td>0.759330</td>\n",
       "      <td>0.531435</td>\n",
       "      <td>0.632440</td>\n",
       "      <td>1.155032</td>\n",
       "      <td>82.487439</td>\n",
       "      <td>74.457923</td>\n",
       "    </tr>\n",
       "    <tr>\n",
       "      <th>75%</th>\n",
       "      <td>0.000000</td>\n",
       "      <td>1.000000</td>\n",
       "      <td>1.000000</td>\n",
       "      <td>0.000000</td>\n",
       "      <td>0.000000</td>\n",
       "      <td>0.000000</td>\n",
       "      <td>0.000000</td>\n",
       "      <td>0.000000</td>\n",
       "      <td>2.003662</td>\n",
       "      <td>1.215680</td>\n",
       "      <td>1.025555</td>\n",
       "      <td>1.056931</td>\n",
       "      <td>1.762198</td>\n",
       "      <td>208.782469</td>\n",
       "      <td>168.704146</td>\n",
       "    </tr>\n",
       "    <tr>\n",
       "      <th>max</th>\n",
       "      <td>1.000000</td>\n",
       "      <td>1.000000</td>\n",
       "      <td>1.000000</td>\n",
       "      <td>1.000000</td>\n",
       "      <td>1.000000</td>\n",
       "      <td>1.000000</td>\n",
       "      <td>1.000000</td>\n",
       "      <td>1.000000</td>\n",
       "      <td>6.817566</td>\n",
       "      <td>5.171749</td>\n",
       "      <td>4.921175</td>\n",
       "      <td>4.895885</td>\n",
       "      <td>5.404333</td>\n",
       "      <td>843.023946</td>\n",
       "      <td>540.141721</td>\n",
       "    </tr>\n",
       "  </tbody>\n",
       "</table>\n",
       "</div>"
      ],
      "text/plain": [
       "       Некачественное ГДИС  Влияние ствола скважины  Радиальный режим  \\\n",
       "count           500.000000               500.000000        500.000000   \n",
       "mean              0.140000                 0.830000          0.600000   \n",
       "std               0.347335                 0.376009          0.490389   \n",
       "min               0.000000                 0.000000          0.000000   \n",
       "25%               0.000000                 1.000000          0.000000   \n",
       "50%               0.000000                 1.000000          1.000000   \n",
       "75%               0.000000                 1.000000          1.000000   \n",
       "max               1.000000                 1.000000          1.000000   \n",
       "\n",
       "       Линейный режим  Билинейный режим  Сферический режим  \\\n",
       "count      500.000000        500.000000         500.000000   \n",
       "mean         0.206000          0.178000           0.128000   \n",
       "std          0.404836          0.382896           0.334424   \n",
       "min          0.000000          0.000000           0.000000   \n",
       "25%          0.000000          0.000000           0.000000   \n",
       "50%          0.000000          0.000000           0.000000   \n",
       "75%          0.000000          0.000000           0.000000   \n",
       "max          1.000000          1.000000           1.000000   \n",
       "\n",
       "       Граница постоянного давления  Граница непроницаемый разлом  \\\n",
       "count                    500.000000                    500.000000   \n",
       "mean                       0.136000                      0.140000   \n",
       "std                        0.343132                      0.347335   \n",
       "min                        0.000000                      0.000000   \n",
       "25%                        0.000000                      0.000000   \n",
       "50%                        0.000000                      0.000000   \n",
       "75%                        0.000000                      0.000000   \n",
       "max                        1.000000                      1.000000   \n",
       "\n",
       "       Влияние ствола скважины_details  Радиальный режим_details  \\\n",
       "count                       500.000000                500.000000   \n",
       "mean                          1.438396                  0.826292   \n",
       "std                           1.516396                  0.961134   \n",
       "min                          -2.169472                 -1.510707   \n",
       "25%                           0.649222                  0.292307   \n",
       "50%                           1.440297                  0.759330   \n",
       "75%                           2.003662                  1.215680   \n",
       "max                           6.817566                  5.171749   \n",
       "\n",
       "       Линейный режим_details  Билинейный режим_details  \\\n",
       "count              500.000000                500.000000   \n",
       "mean                 0.576590                  0.695616   \n",
       "std                  1.022946                  0.936953   \n",
       "min                 -1.753525                 -1.581723   \n",
       "25%                 -0.082474                  0.193950   \n",
       "50%                  0.531435                  0.632440   \n",
       "75%                  1.025555                  1.056931   \n",
       "max                  4.921175                  4.895885   \n",
       "\n",
       "       Сферический режим_details  Граница постоянного давления_details  \\\n",
       "count                 500.000000                            500.000000   \n",
       "mean                    1.170814                            159.514344   \n",
       "std                     0.983816                            181.436539   \n",
       "min                    -1.373019                            -35.811237   \n",
       "25%                     0.567547                             39.734923   \n",
       "50%                     1.155032                             82.487439   \n",
       "75%                     1.762198                            208.782469   \n",
       "max                     5.404333                            843.023946   \n",
       "\n",
       "       Граница непроницаемый разлом_details  \n",
       "count                            500.000000  \n",
       "mean                             118.818143  \n",
       "std                              114.258997  \n",
       "min                              -14.882588  \n",
       "25%                               35.541933  \n",
       "50%                               74.457923  \n",
       "75%                              168.704146  \n",
       "max                              540.141721  "
      ]
     },
     "execution_count": 55,
     "metadata": {},
     "output_type": "execute_result"
    }
   ],
   "source": [
    "res2.describe()"
   ]
  },
  {
   "cell_type": "code",
   "execution_count": 56,
   "id": "6005c62a-13f4-46dc-be26-c9512974e69d",
   "metadata": {},
   "outputs": [],
   "source": [
    "res2.to_csv('E:/DS/data/siam/bi/inference/blend/blend2.csv',index=False)"
   ]
  },
  {
   "cell_type": "code",
   "execution_count": null,
   "id": "35e66a05-af7b-4e47-a3de-07d0093bc6e9",
   "metadata": {},
   "outputs": [],
   "source": []
  }
 ],
 "metadata": {
  "kernelspec": {
   "display_name": "Python 3 (ipykernel)",
   "language": "python",
   "name": "python3"
  },
  "language_info": {
   "codemirror_mode": {
    "name": "ipython",
    "version": 3
   },
   "file_extension": ".py",
   "mimetype": "text/x-python",
   "name": "python",
   "nbconvert_exporter": "python",
   "pygments_lexer": "ipython3",
   "version": "3.10.16"
  }
 },
 "nbformat": 4,
 "nbformat_minor": 5
}
